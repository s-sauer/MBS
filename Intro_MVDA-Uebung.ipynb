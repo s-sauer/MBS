{
 "cells": [
  {
   "cell_type": "markdown",
   "metadata": {
    "slideshow": {
     "slide_type": "slide"
    }
   },
   "source": [
    "# Einführung Multi-Variate Datenanalyse (MVDA)\n",
    "\n",
    "## Übung 1: Visualisierung hoch-dimensionaler Datensätze mit Python\n",
    "für Kurse Mathematische Berechnungssoftware (MBS)\n",
    "\n",
    "_Simeon Sauer, SS2020_"
   ]
  },
  {
   "cell_type": "markdown",
   "metadata": {},
   "source": [
    "#### Bibliotheken laden"
   ]
  },
  {
   "cell_type": "code",
   "execution_count": null,
   "metadata": {
    "slideshow": {
     "slide_type": "subslide"
    }
   },
   "outputs": [],
   "source": [
    "# wie im Video besprochen, müssen wir die Bibliotheken \"pandas\" und \"plotly\" laden\n",
    "import pandas as pd \n",
    "import plotly.express as px\n",
    "import plotly.graph_objects as go"
   ]
  },
  {
   "cell_type": "markdown",
   "metadata": {},
   "source": [
    "#### Daten importieren\n",
    "\n",
    "Wir importieren diesmal einen Datensatz, in dem Weizenkörner für verschiedende Sorten gemeoterisch vermessen wurden.\n",
    "Mehr Dateils hier: http://archive.ics.uci.edu/ml/datasets/seeds\n",
    "\n",
    "- Zeilen: Unterschiedliche Proben von Saatkörner\n",
    "- Spalten: 7 - Weizensorte; 0-6: verschiedene Messwerte\n"
   ]
  },
  {
   "cell_type": "code",
   "execution_count": null,
   "metadata": {
    "scrolled": true
   },
   "outputs": [],
   "source": [
    "data = pd.read_csv(\"http://archive.ics.uci.edu/ml/machine-learning-databases/00236/seeds_dataset.txt\", sep='\\t+', header=None)\n",
    "data"
   ]
  },
  {
   "cell_type": "markdown",
   "metadata": {
    "slideshow": {
     "slide_type": "subslide"
    }
   },
   "source": []
  },
  {
   "cell_type": "code",
   "execution_count": null,
   "metadata": {
    "scrolled": true,
    "slideshow": {
     "slide_type": "subslide"
    }
   },
   "outputs": [],
   "source": [
    "# Spaltenname einführen:\n",
    "data.columns = [\n",
    "    \"area A\",\n",
    "    \"perimeter P\",\n",
    "    \"compactness C\",\n",
    "    \"length of kernel\",\n",
    "    \"width of kernel\",\n",
    "    \"asymmetry coefficient\",\n",
    "    \"length of kernel groove\",\n",
    "    \"type\"]\n",
    "\n",
    "# Index-Spalte wird separat behandelt in pandas-Bibliothek\n",
    "data.index.name='sample no.'\n",
    "\n",
    "# Jetzt nennen wir noch die Weizensorte um\n",
    "Weizensorten = ['Kama', 'Rosa', 'Canadian']\n",
    "data['type'] = data['type'].replace([1,2,3], Weizensorten)\n",
    "\n",
    "# Wie sieht die Datentabelle jetzt aus?\n",
    "data"
   ]
  },
  {
   "cell_type": "markdown",
   "metadata": {
    "slideshow": {
     "slide_type": "subslide"
    }
   },
   "source": [
    "#### slicing"
   ]
  },
  {
   "cell_type": "code",
   "execution_count": null,
   "metadata": {},
   "outputs": [],
   "source": [
    "# wählen Sie Beobachtungen aus, in denen die Fläche A>15 ist, und der Asymmetry-Koeffizient < 1.5\n",
    "slice = ???\n",
    "data[slice]"
   ]
  },
  {
   "cell_type": "code",
   "execution_count": null,
   "metadata": {},
   "outputs": [],
   "source": [
    "# Sie sollten fünf Zeilen (=5 Körner) gefunden haben. Was ist der mittlere Durchmesser für diese 5 Körner?\n",
    "???"
   ]
  },
  {
   "cell_type": "markdown",
   "metadata": {
    "slideshow": {
     "slide_type": "slide"
    }
   },
   "source": [
    "## Explorative Datenanalyse (EDA)"
   ]
  },
  {
   "cell_type": "code",
   "execution_count": null,
   "metadata": {
    "slideshow": {
     "slide_type": "fragment"
    }
   },
   "outputs": [],
   "source": [
    "# Setzen Sie in untenstehendem Code als Variable ('x') den Umfang ('Perimeter P') ein, und als Farbe ('color') die Weizensort ('type')\n",
    "px.histogram(data,\n",
    "                   x=???,\n",
    "                   color=???, # einzelne Histogramme für jede Weinsorte\n",
    "                   nbins=20, # Anzahl Balken ('bins')\n",
    "                   barmode='group', # gruppiere die Balken für die 3 Weinsorten, nicht überlagern\n",
    "                   marginal='box', # Boxplot über das Histogram\n",
    "                   histnorm='percent') # normieren Histogramm auf 100%, nicht auf die Anzahl der Beobachtung"
   ]
  },
  {
   "cell_type": "markdown",
   "metadata": {},
   "source": [
    "#### Fragen zum Histogram:\n",
    "* Kann man die drei Sorten anhand des Umfangs eindeutig trennen?\n",
    "* Oder gibt es wenigstens zwei Sorten, die sich trennen lassen?\n",
    "\n",
    "_Rosa und Canadian lassen sich trennen, aber nicht alle drei Sorten._"
   ]
  },
  {
   "cell_type": "markdown",
   "metadata": {
    "slideshow": {
     "slide_type": "subslide"
    }
   },
   "source": [
    "#### scatter matrix plot"
   ]
  },
  {
   "cell_type": "code",
   "execution_count": null,
   "metadata": {
    "scrolled": true
   },
   "outputs": [],
   "source": [
    "# Färben Sie im Scatter Matrix Plot die Datenpunkte anhand ihrer Sorte ('type') ein.\n",
    "px.scatter_matrix(data,\n",
    "                  color=???,\n",
    "                  dimensions=data.iloc[:,0:7],\n",
    "                  opacity=0.8, # macht Datenpunkte zu 20% durchsichtig\n",
    "                  height=1000, # Höhe des Gesamtplots in Pixeln\n",
    "                  hover_name=data.index) # Überschrift der eingeblendeten Mouse-Over-Information: Zeilennr."
   ]
  },
  {
   "cell_type": "markdown",
   "metadata": {},
   "source": [
    "Frage: Welche Variablen sind stark miteinander korreliert?\n",
    "\n",
    "_z.B. 'Area A' und 'Perimenter P'; klar, großer Umfang geht auch mit großer Fläche einher._"
   ]
  },
  {
   "cell_type": "markdown",
   "metadata": {
    "slideshow": {
     "slide_type": "subslide"
    }
   },
   "source": [
    "#### Bubble chart"
   ]
  },
  {
   "cell_type": "code",
   "execution_count": null,
   "metadata": {
    "slideshow": {
     "slide_type": "subslide"
    }
   },
   "outputs": [],
   "source": [
    "# a. wählen Sie anhand des Scatter Matrix Plots 2 Variablen aus, die die 3 Sorten am besten trennen\n",
    "# b. tragen Sie diese Variable als 'x' und 'y' im untenstehenden bubble chart ein.\n",
    "# c. Wählen Sie für die Punktgröße ('size') eine beliebige dritte Variable\n",
    "\n",
    "px.scatter(data,\n",
    "           x=???,\n",
    "           y=???,\n",
    "           size=???,\n",
    "           color=\"type\",\n",
    "           hover_name=data.index,\n",
    "           size_max=30)"
   ]
  }
 ],
 "metadata": {
  "kernelspec": {
   "display_name": "Python 3",
   "language": "python",
   "name": "python3"
  },
  "language_info": {
   "codemirror_mode": {
    "name": "ipython",
    "version": 3
   },
   "file_extension": ".py",
   "mimetype": "text/x-python",
   "name": "python",
   "nbconvert_exporter": "python",
   "pygments_lexer": "ipython3",
   "version": "3.7.7"
  }
 },
 "nbformat": 4,
 "nbformat_minor": 4
}
