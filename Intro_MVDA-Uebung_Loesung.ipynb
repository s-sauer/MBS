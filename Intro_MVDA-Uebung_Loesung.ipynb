{
 "cells": [
  {
   "cell_type": "markdown",
   "metadata": {
    "slideshow": {
     "slide_type": "slide"
    }
   },
   "source": [
    "# Einführung Multi-Variate Datenanalyse (MVDA)\n",
    "\n",
    "## Übung 1: Visualisierung hoch-dimensionaler Datensätze mit Python\n",
    "für Kurse Mathematische Berechnungssoftware (MBS)\n",
    "\n",
    "_Simeon Sauer, SS2020_"
   ]
  },
  {
   "cell_type": "markdown",
   "metadata": {},
   "source": [
    "#### Bibliotheken laden"
   ]
  },
  {
   "cell_type": "code",
   "execution_count": 4,
   "metadata": {
    "slideshow": {
     "slide_type": "subslide"
    }
   },
   "outputs": [],
   "source": [
    "# wie im Video besprochen, müssen wir die Bibliotheken \"pandas\" und \"plotly\" laden\n",
    "import pandas as pd \n",
    "import plotly.express as px\n",
    "import plotly.graph_objects as go"
   ]
  },
  {
   "cell_type": "markdown",
   "metadata": {},
   "source": [
    "#### Daten importieren\n",
    "\n",
    "Wir importieren diesmal einen Datensatz, in dem Weizenkörner für verschiedende Sorten gemeoterisch vermessen wurden.\n",
    "Mehr Dateils hier: http://archive.ics.uci.edu/ml/datasets/seeds\n",
    "\n",
    "- Zeilen: Unterschiedliche Proben von Saatkörner\n",
    "- Spalten: 7 - Weizensorte; 0-6: verschiedene Messwerte\n"
   ]
  },
  {
   "cell_type": "code",
   "execution_count": 10,
   "metadata": {
    "scrolled": true
   },
   "outputs": [
    {
     "name": "stderr",
     "output_type": "stream",
     "text": [
      "/Users/sauers/opt/anaconda3/envs/lectures/lib/python3.7/site-packages/ipykernel_launcher.py:1: ParserWarning:\n",
      "\n",
      "Falling back to the 'python' engine because the 'c' engine does not support regex separators (separators > 1 char and different from '\\s+' are interpreted as regex); you can avoid this warning by specifying engine='python'.\n",
      "\n"
     ]
    },
    {
     "data": {
      "text/html": [
       "<div>\n",
       "<style scoped>\n",
       "    .dataframe tbody tr th:only-of-type {\n",
       "        vertical-align: middle;\n",
       "    }\n",
       "\n",
       "    .dataframe tbody tr th {\n",
       "        vertical-align: top;\n",
       "    }\n",
       "\n",
       "    .dataframe thead th {\n",
       "        text-align: right;\n",
       "    }\n",
       "</style>\n",
       "<table border=\"1\" class=\"dataframe\">\n",
       "  <thead>\n",
       "    <tr style=\"text-align: right;\">\n",
       "      <th></th>\n",
       "      <th>0</th>\n",
       "      <th>1</th>\n",
       "      <th>2</th>\n",
       "      <th>3</th>\n",
       "      <th>4</th>\n",
       "      <th>5</th>\n",
       "      <th>6</th>\n",
       "      <th>7</th>\n",
       "    </tr>\n",
       "  </thead>\n",
       "  <tbody>\n",
       "    <tr>\n",
       "      <th>0</th>\n",
       "      <td>15.26</td>\n",
       "      <td>14.84</td>\n",
       "      <td>0.8710</td>\n",
       "      <td>5.763</td>\n",
       "      <td>3.312</td>\n",
       "      <td>2.221</td>\n",
       "      <td>5.220</td>\n",
       "      <td>1</td>\n",
       "    </tr>\n",
       "    <tr>\n",
       "      <th>1</th>\n",
       "      <td>14.88</td>\n",
       "      <td>14.57</td>\n",
       "      <td>0.8811</td>\n",
       "      <td>5.554</td>\n",
       "      <td>3.333</td>\n",
       "      <td>1.018</td>\n",
       "      <td>4.956</td>\n",
       "      <td>1</td>\n",
       "    </tr>\n",
       "    <tr>\n",
       "      <th>2</th>\n",
       "      <td>14.29</td>\n",
       "      <td>14.09</td>\n",
       "      <td>0.9050</td>\n",
       "      <td>5.291</td>\n",
       "      <td>3.337</td>\n",
       "      <td>2.699</td>\n",
       "      <td>4.825</td>\n",
       "      <td>1</td>\n",
       "    </tr>\n",
       "    <tr>\n",
       "      <th>3</th>\n",
       "      <td>13.84</td>\n",
       "      <td>13.94</td>\n",
       "      <td>0.8955</td>\n",
       "      <td>5.324</td>\n",
       "      <td>3.379</td>\n",
       "      <td>2.259</td>\n",
       "      <td>4.805</td>\n",
       "      <td>1</td>\n",
       "    </tr>\n",
       "    <tr>\n",
       "      <th>4</th>\n",
       "      <td>16.14</td>\n",
       "      <td>14.99</td>\n",
       "      <td>0.9034</td>\n",
       "      <td>5.658</td>\n",
       "      <td>3.562</td>\n",
       "      <td>1.355</td>\n",
       "      <td>5.175</td>\n",
       "      <td>1</td>\n",
       "    </tr>\n",
       "    <tr>\n",
       "      <th>...</th>\n",
       "      <td>...</td>\n",
       "      <td>...</td>\n",
       "      <td>...</td>\n",
       "      <td>...</td>\n",
       "      <td>...</td>\n",
       "      <td>...</td>\n",
       "      <td>...</td>\n",
       "      <td>...</td>\n",
       "    </tr>\n",
       "    <tr>\n",
       "      <th>205</th>\n",
       "      <td>12.19</td>\n",
       "      <td>13.20</td>\n",
       "      <td>0.8783</td>\n",
       "      <td>5.137</td>\n",
       "      <td>2.981</td>\n",
       "      <td>3.631</td>\n",
       "      <td>4.870</td>\n",
       "      <td>3</td>\n",
       "    </tr>\n",
       "    <tr>\n",
       "      <th>206</th>\n",
       "      <td>11.23</td>\n",
       "      <td>12.88</td>\n",
       "      <td>0.8511</td>\n",
       "      <td>5.140</td>\n",
       "      <td>2.795</td>\n",
       "      <td>4.325</td>\n",
       "      <td>5.003</td>\n",
       "      <td>3</td>\n",
       "    </tr>\n",
       "    <tr>\n",
       "      <th>207</th>\n",
       "      <td>13.20</td>\n",
       "      <td>13.66</td>\n",
       "      <td>0.8883</td>\n",
       "      <td>5.236</td>\n",
       "      <td>3.232</td>\n",
       "      <td>8.315</td>\n",
       "      <td>5.056</td>\n",
       "      <td>3</td>\n",
       "    </tr>\n",
       "    <tr>\n",
       "      <th>208</th>\n",
       "      <td>11.84</td>\n",
       "      <td>13.21</td>\n",
       "      <td>0.8521</td>\n",
       "      <td>5.175</td>\n",
       "      <td>2.836</td>\n",
       "      <td>3.598</td>\n",
       "      <td>5.044</td>\n",
       "      <td>3</td>\n",
       "    </tr>\n",
       "    <tr>\n",
       "      <th>209</th>\n",
       "      <td>12.30</td>\n",
       "      <td>13.34</td>\n",
       "      <td>0.8684</td>\n",
       "      <td>5.243</td>\n",
       "      <td>2.974</td>\n",
       "      <td>5.637</td>\n",
       "      <td>5.063</td>\n",
       "      <td>3</td>\n",
       "    </tr>\n",
       "  </tbody>\n",
       "</table>\n",
       "<p>210 rows × 8 columns</p>\n",
       "</div>"
      ],
      "text/plain": [
       "         0      1       2      3      4      5      6  7\n",
       "0    15.26  14.84  0.8710  5.763  3.312  2.221  5.220  1\n",
       "1    14.88  14.57  0.8811  5.554  3.333  1.018  4.956  1\n",
       "2    14.29  14.09  0.9050  5.291  3.337  2.699  4.825  1\n",
       "3    13.84  13.94  0.8955  5.324  3.379  2.259  4.805  1\n",
       "4    16.14  14.99  0.9034  5.658  3.562  1.355  5.175  1\n",
       "..     ...    ...     ...    ...    ...    ...    ... ..\n",
       "205  12.19  13.20  0.8783  5.137  2.981  3.631  4.870  3\n",
       "206  11.23  12.88  0.8511  5.140  2.795  4.325  5.003  3\n",
       "207  13.20  13.66  0.8883  5.236  3.232  8.315  5.056  3\n",
       "208  11.84  13.21  0.8521  5.175  2.836  3.598  5.044  3\n",
       "209  12.30  13.34  0.8684  5.243  2.974  5.637  5.063  3\n",
       "\n",
       "[210 rows x 8 columns]"
      ]
     },
     "execution_count": 10,
     "metadata": {},
     "output_type": "execute_result"
    }
   ],
   "source": [
    "data = pd.read_csv(\"http://archive.ics.uci.edu/ml/machine-learning-databases/00236/seeds_dataset.txt\", sep='\\t+', header=None)\n",
    "data"
   ]
  },
  {
   "cell_type": "markdown",
   "metadata": {
    "slideshow": {
     "slide_type": "subslide"
    }
   },
   "source": []
  },
  {
   "cell_type": "code",
   "execution_count": 13,
   "metadata": {
    "scrolled": true,
    "slideshow": {
     "slide_type": "subslide"
    }
   },
   "outputs": [
    {
     "data": {
      "text/html": [
       "<div>\n",
       "<style scoped>\n",
       "    .dataframe tbody tr th:only-of-type {\n",
       "        vertical-align: middle;\n",
       "    }\n",
       "\n",
       "    .dataframe tbody tr th {\n",
       "        vertical-align: top;\n",
       "    }\n",
       "\n",
       "    .dataframe thead th {\n",
       "        text-align: right;\n",
       "    }\n",
       "</style>\n",
       "<table border=\"1\" class=\"dataframe\">\n",
       "  <thead>\n",
       "    <tr style=\"text-align: right;\">\n",
       "      <th></th>\n",
       "      <th>area A</th>\n",
       "      <th>perimeter P</th>\n",
       "      <th>compactness C</th>\n",
       "      <th>length of kernel</th>\n",
       "      <th>width of kernel</th>\n",
       "      <th>asymmetry coefficient</th>\n",
       "      <th>length of kernel groove</th>\n",
       "      <th>type</th>\n",
       "    </tr>\n",
       "    <tr>\n",
       "      <th>sample no.</th>\n",
       "      <th></th>\n",
       "      <th></th>\n",
       "      <th></th>\n",
       "      <th></th>\n",
       "      <th></th>\n",
       "      <th></th>\n",
       "      <th></th>\n",
       "      <th></th>\n",
       "    </tr>\n",
       "  </thead>\n",
       "  <tbody>\n",
       "    <tr>\n",
       "      <th>0</th>\n",
       "      <td>15.26</td>\n",
       "      <td>14.84</td>\n",
       "      <td>0.8710</td>\n",
       "      <td>5.763</td>\n",
       "      <td>3.312</td>\n",
       "      <td>2.221</td>\n",
       "      <td>5.220</td>\n",
       "      <td>Kama</td>\n",
       "    </tr>\n",
       "    <tr>\n",
       "      <th>1</th>\n",
       "      <td>14.88</td>\n",
       "      <td>14.57</td>\n",
       "      <td>0.8811</td>\n",
       "      <td>5.554</td>\n",
       "      <td>3.333</td>\n",
       "      <td>1.018</td>\n",
       "      <td>4.956</td>\n",
       "      <td>Kama</td>\n",
       "    </tr>\n",
       "    <tr>\n",
       "      <th>2</th>\n",
       "      <td>14.29</td>\n",
       "      <td>14.09</td>\n",
       "      <td>0.9050</td>\n",
       "      <td>5.291</td>\n",
       "      <td>3.337</td>\n",
       "      <td>2.699</td>\n",
       "      <td>4.825</td>\n",
       "      <td>Kama</td>\n",
       "    </tr>\n",
       "    <tr>\n",
       "      <th>3</th>\n",
       "      <td>13.84</td>\n",
       "      <td>13.94</td>\n",
       "      <td>0.8955</td>\n",
       "      <td>5.324</td>\n",
       "      <td>3.379</td>\n",
       "      <td>2.259</td>\n",
       "      <td>4.805</td>\n",
       "      <td>Kama</td>\n",
       "    </tr>\n",
       "    <tr>\n",
       "      <th>4</th>\n",
       "      <td>16.14</td>\n",
       "      <td>14.99</td>\n",
       "      <td>0.9034</td>\n",
       "      <td>5.658</td>\n",
       "      <td>3.562</td>\n",
       "      <td>1.355</td>\n",
       "      <td>5.175</td>\n",
       "      <td>Kama</td>\n",
       "    </tr>\n",
       "    <tr>\n",
       "      <th>...</th>\n",
       "      <td>...</td>\n",
       "      <td>...</td>\n",
       "      <td>...</td>\n",
       "      <td>...</td>\n",
       "      <td>...</td>\n",
       "      <td>...</td>\n",
       "      <td>...</td>\n",
       "      <td>...</td>\n",
       "    </tr>\n",
       "    <tr>\n",
       "      <th>205</th>\n",
       "      <td>12.19</td>\n",
       "      <td>13.20</td>\n",
       "      <td>0.8783</td>\n",
       "      <td>5.137</td>\n",
       "      <td>2.981</td>\n",
       "      <td>3.631</td>\n",
       "      <td>4.870</td>\n",
       "      <td>Canadian</td>\n",
       "    </tr>\n",
       "    <tr>\n",
       "      <th>206</th>\n",
       "      <td>11.23</td>\n",
       "      <td>12.88</td>\n",
       "      <td>0.8511</td>\n",
       "      <td>5.140</td>\n",
       "      <td>2.795</td>\n",
       "      <td>4.325</td>\n",
       "      <td>5.003</td>\n",
       "      <td>Canadian</td>\n",
       "    </tr>\n",
       "    <tr>\n",
       "      <th>207</th>\n",
       "      <td>13.20</td>\n",
       "      <td>13.66</td>\n",
       "      <td>0.8883</td>\n",
       "      <td>5.236</td>\n",
       "      <td>3.232</td>\n",
       "      <td>8.315</td>\n",
       "      <td>5.056</td>\n",
       "      <td>Canadian</td>\n",
       "    </tr>\n",
       "    <tr>\n",
       "      <th>208</th>\n",
       "      <td>11.84</td>\n",
       "      <td>13.21</td>\n",
       "      <td>0.8521</td>\n",
       "      <td>5.175</td>\n",
       "      <td>2.836</td>\n",
       "      <td>3.598</td>\n",
       "      <td>5.044</td>\n",
       "      <td>Canadian</td>\n",
       "    </tr>\n",
       "    <tr>\n",
       "      <th>209</th>\n",
       "      <td>12.30</td>\n",
       "      <td>13.34</td>\n",
       "      <td>0.8684</td>\n",
       "      <td>5.243</td>\n",
       "      <td>2.974</td>\n",
       "      <td>5.637</td>\n",
       "      <td>5.063</td>\n",
       "      <td>Canadian</td>\n",
       "    </tr>\n",
       "  </tbody>\n",
       "</table>\n",
       "<p>210 rows × 8 columns</p>\n",
       "</div>"
      ],
      "text/plain": [
       "            area A  perimeter P  compactness C  length of kernel  \\\n",
       "sample no.                                                         \n",
       "0            15.26        14.84         0.8710             5.763   \n",
       "1            14.88        14.57         0.8811             5.554   \n",
       "2            14.29        14.09         0.9050             5.291   \n",
       "3            13.84        13.94         0.8955             5.324   \n",
       "4            16.14        14.99         0.9034             5.658   \n",
       "...            ...          ...            ...               ...   \n",
       "205          12.19        13.20         0.8783             5.137   \n",
       "206          11.23        12.88         0.8511             5.140   \n",
       "207          13.20        13.66         0.8883             5.236   \n",
       "208          11.84        13.21         0.8521             5.175   \n",
       "209          12.30        13.34         0.8684             5.243   \n",
       "\n",
       "            width of kernel  asymmetry coefficient  length of kernel groove  \\\n",
       "sample no.                                                                    \n",
       "0                     3.312                  2.221                    5.220   \n",
       "1                     3.333                  1.018                    4.956   \n",
       "2                     3.337                  2.699                    4.825   \n",
       "3                     3.379                  2.259                    4.805   \n",
       "4                     3.562                  1.355                    5.175   \n",
       "...                     ...                    ...                      ...   \n",
       "205                   2.981                  3.631                    4.870   \n",
       "206                   2.795                  4.325                    5.003   \n",
       "207                   3.232                  8.315                    5.056   \n",
       "208                   2.836                  3.598                    5.044   \n",
       "209                   2.974                  5.637                    5.063   \n",
       "\n",
       "                type  \n",
       "sample no.            \n",
       "0               Kama  \n",
       "1               Kama  \n",
       "2               Kama  \n",
       "3               Kama  \n",
       "4               Kama  \n",
       "...              ...  \n",
       "205         Canadian  \n",
       "206         Canadian  \n",
       "207         Canadian  \n",
       "208         Canadian  \n",
       "209         Canadian  \n",
       "\n",
       "[210 rows x 8 columns]"
      ]
     },
     "execution_count": 13,
     "metadata": {},
     "output_type": "execute_result"
    }
   ],
   "source": [
    "# Spaltenname einführen:\n",
    "data.columns = [\n",
    "    \"area A\",\n",
    "    \"perimeter P\",\n",
    "    \"compactness C\",\n",
    "    \"length of kernel\",\n",
    "    \"width of kernel\",\n",
    "    \"asymmetry coefficient\",\n",
    "    \"length of kernel groove\",\n",
    "    \"type\"]\n",
    "\n",
    "# Index-Spalte wird separat behandelt in pandas-Bibliothek\n",
    "data.index.name='sample no.'\n",
    "\n",
    "# Jetzt nennen wir noch die Weizensorte um\n",
    "Weizensorten = ['Kama', 'Rosa', 'Canadian']\n",
    "data['type'] = data['type'].replace([1,2,3], Weizensorten)\n",
    "\n",
    "# Wie sieht die Datentabelle jetzt aus?\n",
    "data"
   ]
  },
  {
   "cell_type": "markdown",
   "metadata": {
    "slideshow": {
     "slide_type": "subslide"
    }
   },
   "source": [
    "#### slicing"
   ]
  },
  {
   "cell_type": "code",
   "execution_count": 17,
   "metadata": {},
   "outputs": [
    {
     "data": {
      "text/html": [
       "<div>\n",
       "<style scoped>\n",
       "    .dataframe tbody tr th:only-of-type {\n",
       "        vertical-align: middle;\n",
       "    }\n",
       "\n",
       "    .dataframe tbody tr th {\n",
       "        vertical-align: top;\n",
       "    }\n",
       "\n",
       "    .dataframe thead th {\n",
       "        text-align: right;\n",
       "    }\n",
       "</style>\n",
       "<table border=\"1\" class=\"dataframe\">\n",
       "  <thead>\n",
       "    <tr style=\"text-align: right;\">\n",
       "      <th></th>\n",
       "      <th>area A</th>\n",
       "      <th>perimeter P</th>\n",
       "      <th>compactness C</th>\n",
       "      <th>length of kernel</th>\n",
       "      <th>width of kernel</th>\n",
       "      <th>asymmetry coefficient</th>\n",
       "      <th>length of kernel groove</th>\n",
       "      <th>type</th>\n",
       "    </tr>\n",
       "    <tr>\n",
       "      <th>sample no.</th>\n",
       "      <th></th>\n",
       "      <th></th>\n",
       "      <th></th>\n",
       "      <th></th>\n",
       "      <th></th>\n",
       "      <th></th>\n",
       "      <th></th>\n",
       "      <th></th>\n",
       "    </tr>\n",
       "  </thead>\n",
       "  <tbody>\n",
       "    <tr>\n",
       "      <th>4</th>\n",
       "      <td>16.14</td>\n",
       "      <td>14.99</td>\n",
       "      <td>0.9034</td>\n",
       "      <td>5.658</td>\n",
       "      <td>3.562</td>\n",
       "      <td>1.3550</td>\n",
       "      <td>5.175</td>\n",
       "      <td>Kama</td>\n",
       "    </tr>\n",
       "    <tr>\n",
       "      <th>22</th>\n",
       "      <td>15.88</td>\n",
       "      <td>14.90</td>\n",
       "      <td>0.8988</td>\n",
       "      <td>5.618</td>\n",
       "      <td>3.507</td>\n",
       "      <td>0.7651</td>\n",
       "      <td>5.091</td>\n",
       "      <td>Kama</td>\n",
       "    </tr>\n",
       "    <tr>\n",
       "      <th>25</th>\n",
       "      <td>16.19</td>\n",
       "      <td>15.16</td>\n",
       "      <td>0.8849</td>\n",
       "      <td>5.833</td>\n",
       "      <td>3.421</td>\n",
       "      <td>0.9030</td>\n",
       "      <td>5.307</td>\n",
       "      <td>Kama</td>\n",
       "    </tr>\n",
       "    <tr>\n",
       "      <th>46</th>\n",
       "      <td>15.36</td>\n",
       "      <td>14.76</td>\n",
       "      <td>0.8861</td>\n",
       "      <td>5.701</td>\n",
       "      <td>3.393</td>\n",
       "      <td>1.3670</td>\n",
       "      <td>5.132</td>\n",
       "      <td>Kama</td>\n",
       "    </tr>\n",
       "    <tr>\n",
       "      <th>83</th>\n",
       "      <td>19.57</td>\n",
       "      <td>16.74</td>\n",
       "      <td>0.8779</td>\n",
       "      <td>6.384</td>\n",
       "      <td>3.772</td>\n",
       "      <td>1.4720</td>\n",
       "      <td>6.273</td>\n",
       "      <td>Rosa</td>\n",
       "    </tr>\n",
       "  </tbody>\n",
       "</table>\n",
       "</div>"
      ],
      "text/plain": [
       "            area A  perimeter P  compactness C  length of kernel  \\\n",
       "sample no.                                                         \n",
       "4            16.14        14.99         0.9034             5.658   \n",
       "22           15.88        14.90         0.8988             5.618   \n",
       "25           16.19        15.16         0.8849             5.833   \n",
       "46           15.36        14.76         0.8861             5.701   \n",
       "83           19.57        16.74         0.8779             6.384   \n",
       "\n",
       "            width of kernel  asymmetry coefficient  length of kernel groove  \\\n",
       "sample no.                                                                    \n",
       "4                     3.562                 1.3550                    5.175   \n",
       "22                    3.507                 0.7651                    5.091   \n",
       "25                    3.421                 0.9030                    5.307   \n",
       "46                    3.393                 1.3670                    5.132   \n",
       "83                    3.772                 1.4720                    6.273   \n",
       "\n",
       "            type  \n",
       "sample no.        \n",
       "4           Kama  \n",
       "22          Kama  \n",
       "25          Kama  \n",
       "46          Kama  \n",
       "83          Rosa  "
      ]
     },
     "execution_count": 17,
     "metadata": {},
     "output_type": "execute_result"
    }
   ],
   "source": [
    "# wählen Sie Beobachtungen aus, in denen die Fläche A>15 ist, und der Asymmetry-Koeffizient < 1.5\n",
    "slice = (data['area A']>15) & (data['asymmetry coefficient'] < 1.5)\n",
    "data[slice]"
   ]
  },
  {
   "cell_type": "code",
   "execution_count": 18,
   "metadata": {},
   "outputs": [
    {
     "data": {
      "text/plain": [
       "area A                     16.62800\n",
       "perimeter P                15.31000\n",
       "compactness C               0.89022\n",
       "length of kernel            5.83880\n",
       "width of kernel             3.53100\n",
       "asymmetry coefficient       1.17242\n",
       "length of kernel groove     5.39560\n",
       "dtype: float64"
      ]
     },
     "execution_count": 18,
     "metadata": {},
     "output_type": "execute_result"
    }
   ],
   "source": [
    "# Sie sollten fünf Zeilen (=5 Körner) gefunden haben. Was ist der mittlere Durchmesser für diese 5 Körner?\n",
    "data[slice].mean()"
   ]
  },
  {
   "cell_type": "markdown",
   "metadata": {
    "slideshow": {
     "slide_type": "slide"
    }
   },
   "source": [
    "## Explorative Datenanalyse (EDA)"
   ]
  },
  {
   "cell_type": "code",
   "execution_count": 22,
   "metadata": {
    "slideshow": {
     "slide_type": "fragment"
    }
   },
   "outputs": [
    {
     "data": {
      "application/vnd.plotly.v1+json": {
       "config": {
        "plotlyServerURL": "https://plot.ly"
       },
       "data": [
        {
         "alignmentgroup": "True",
         "bingroup": "x",
         "histnorm": "percent",
         "hovertemplate": "type=Kama<br>perimeter P=%{x}<br>count=%{y}<extra></extra>",
         "legendgroup": "Kama",
         "marker": {
          "color": "#636efa"
         },
         "name": "Kama",
         "nbinsx": 20,
         "offsetgroup": "Kama",
         "orientation": "v",
         "showlegend": true,
         "type": "histogram",
         "x": [
          14.84,
          14.57,
          14.09,
          13.94,
          14.99,
          14.21,
          14.49,
          14.1,
          15.46,
          15.25,
          14.85,
          14.16,
          14.02,
          14.06,
          14.05,
          14.28,
          13.83,
          14.75,
          14.21,
          13.57,
          14.4,
          14.26,
          14.9,
          13.23,
          14.76,
          15.16,
          13.76,
          13.67,
          14.18,
          14.02,
          13.82,
          14.94,
          14.41,
          14.17,
          14.68,
          15,
          15.27,
          15.38,
          14.52,
          14.17,
          13.85,
          13.85,
          13.55,
          14.86,
          14.54,
          14.04,
          14.76,
          14.56,
          14.52,
          14.67,
          14.4,
          14.91,
          14.61,
          14.28,
          14.6,
          14.77,
          14.35,
          14.43,
          14.77,
          13.47,
          12.86,
          12.63,
          13.19,
          13.84,
          13.57,
          13.5,
          14.37,
          14.29,
          14.39,
          13.75
         ],
         "xaxis": "x",
         "yaxis": "y"
        },
        {
         "alignmentgroup": "True",
         "hovertemplate": "type=Kama<br>perimeter P=%{x}<extra></extra>",
         "legendgroup": "Kama",
         "marker": {
          "color": "#636efa"
         },
         "name": "Kama",
         "notched": true,
         "offsetgroup": "Kama",
         "showlegend": false,
         "type": "box",
         "x": [
          14.84,
          14.57,
          14.09,
          13.94,
          14.99,
          14.21,
          14.49,
          14.1,
          15.46,
          15.25,
          14.85,
          14.16,
          14.02,
          14.06,
          14.05,
          14.28,
          13.83,
          14.75,
          14.21,
          13.57,
          14.4,
          14.26,
          14.9,
          13.23,
          14.76,
          15.16,
          13.76,
          13.67,
          14.18,
          14.02,
          13.82,
          14.94,
          14.41,
          14.17,
          14.68,
          15,
          15.27,
          15.38,
          14.52,
          14.17,
          13.85,
          13.85,
          13.55,
          14.86,
          14.54,
          14.04,
          14.76,
          14.56,
          14.52,
          14.67,
          14.4,
          14.91,
          14.61,
          14.28,
          14.6,
          14.77,
          14.35,
          14.43,
          14.77,
          13.47,
          12.86,
          12.63,
          13.19,
          13.84,
          13.57,
          13.5,
          14.37,
          14.29,
          14.39,
          13.75
         ],
         "xaxis": "x2",
         "yaxis": "y2"
        },
        {
         "alignmentgroup": "True",
         "bingroup": "x",
         "histnorm": "percent",
         "hovertemplate": "type=Rosa<br>perimeter P=%{x}<br>count=%{y}<extra></extra>",
         "legendgroup": "Rosa",
         "marker": {
          "color": "#EF553B"
         },
         "name": "Rosa",
         "nbinsx": 20,
         "offsetgroup": "Rosa",
         "orientation": "v",
         "showlegend": true,
         "type": "histogram",
         "x": [
          15.98,
          15.67,
          15.73,
          16.26,
          15.51,
          15.62,
          15.91,
          17.23,
          16.49,
          15.55,
          15.34,
          16.19,
          16.89,
          16.74,
          16.71,
          16.09,
          16.26,
          16.66,
          17.21,
          17.05,
          16.99,
          16.2,
          16.29,
          16.05,
          16.52,
          15.65,
          16.59,
          16.57,
          16.26,
          16.34,
          15.25,
          15.86,
          16.5,
          16.63,
          16.42,
          16.29,
          16.17,
          15.86,
          16.92,
          16.22,
          16.12,
          16.72,
          16.31,
          16.61,
          17.25,
          16.45,
          16.2,
          16.45,
          16.23,
          16.9,
          16.91,
          16.12,
          15.38,
          15.97,
          14.89,
          16.18,
          16.41,
          15.85,
          17.03,
          15.66,
          15.89,
          16.32,
          14.9,
          15.33,
          14.89,
          14.66,
          15.76,
          15.15,
          15.11,
          15.18
         ],
         "xaxis": "x",
         "yaxis": "y"
        },
        {
         "alignmentgroup": "True",
         "hovertemplate": "type=Rosa<br>perimeter P=%{x}<extra></extra>",
         "legendgroup": "Rosa",
         "marker": {
          "color": "#EF553B"
         },
         "name": "Rosa",
         "notched": true,
         "offsetgroup": "Rosa",
         "showlegend": false,
         "type": "box",
         "x": [
          15.98,
          15.67,
          15.73,
          16.26,
          15.51,
          15.62,
          15.91,
          17.23,
          16.49,
          15.55,
          15.34,
          16.19,
          16.89,
          16.74,
          16.71,
          16.09,
          16.26,
          16.66,
          17.21,
          17.05,
          16.99,
          16.2,
          16.29,
          16.05,
          16.52,
          15.65,
          16.59,
          16.57,
          16.26,
          16.34,
          15.25,
          15.86,
          16.5,
          16.63,
          16.42,
          16.29,
          16.17,
          15.86,
          16.92,
          16.22,
          16.12,
          16.72,
          16.31,
          16.61,
          17.25,
          16.45,
          16.2,
          16.45,
          16.23,
          16.9,
          16.91,
          16.12,
          15.38,
          15.97,
          14.89,
          16.18,
          16.41,
          15.85,
          17.03,
          15.66,
          15.89,
          16.32,
          14.9,
          15.33,
          14.89,
          14.66,
          15.76,
          15.15,
          15.11,
          15.18
         ],
         "xaxis": "x2",
         "yaxis": "y2"
        },
        {
         "alignmentgroup": "True",
         "bingroup": "x",
         "histnorm": "percent",
         "hovertemplate": "type=Canadian<br>perimeter P=%{x}<br>count=%{y}<extra></extra>",
         "legendgroup": "Canadian",
         "marker": {
          "color": "#00cc96"
         },
         "name": "Canadian",
         "nbinsx": 20,
         "offsetgroup": "Canadian",
         "orientation": "v",
         "showlegend": true,
         "type": "histogram",
         "x": [
          13.92,
          13.94,
          13.95,
          13.32,
          13.4,
          13.13,
          13.13,
          13.46,
          13.71,
          12.93,
          13.23,
          13.52,
          13.6,
          13.04,
          13.05,
          13.05,
          12.87,
          13.73,
          13.52,
          13.22,
          13.67,
          13.33,
          13.41,
          13.57,
          12.79,
          13.15,
          13.59,
          13.45,
          13.12,
          13,
          13,
          13.1,
          12.97,
          13.08,
          12.96,
          12.57,
          13.01,
          12.73,
          13.05,
          13.47,
          12.95,
          13.41,
          13.36,
          13.07,
          13.77,
          13.31,
          13.45,
          12.8,
          12.82,
          12.41,
          12.8,
          12.86,
          13.02,
          12.83,
          13.27,
          13.47,
          13.53,
          13.78,
          13.67,
          13.38,
          13.44,
          13.32,
          12.72,
          13.41,
          13.47,
          13.2,
          12.88,
          13.66,
          13.21,
          13.34
         ],
         "xaxis": "x",
         "yaxis": "y"
        },
        {
         "alignmentgroup": "True",
         "hovertemplate": "type=Canadian<br>perimeter P=%{x}<extra></extra>",
         "legendgroup": "Canadian",
         "marker": {
          "color": "#00cc96"
         },
         "name": "Canadian",
         "notched": true,
         "offsetgroup": "Canadian",
         "showlegend": false,
         "type": "box",
         "x": [
          13.92,
          13.94,
          13.95,
          13.32,
          13.4,
          13.13,
          13.13,
          13.46,
          13.71,
          12.93,
          13.23,
          13.52,
          13.6,
          13.04,
          13.05,
          13.05,
          12.87,
          13.73,
          13.52,
          13.22,
          13.67,
          13.33,
          13.41,
          13.57,
          12.79,
          13.15,
          13.59,
          13.45,
          13.12,
          13,
          13,
          13.1,
          12.97,
          13.08,
          12.96,
          12.57,
          13.01,
          12.73,
          13.05,
          13.47,
          12.95,
          13.41,
          13.36,
          13.07,
          13.77,
          13.31,
          13.45,
          12.8,
          12.82,
          12.41,
          12.8,
          12.86,
          13.02,
          12.83,
          13.27,
          13.47,
          13.53,
          13.78,
          13.67,
          13.38,
          13.44,
          13.32,
          12.72,
          13.41,
          13.47,
          13.2,
          12.88,
          13.66,
          13.21,
          13.34
         ],
         "xaxis": "x2",
         "yaxis": "y2"
        }
       ],
       "layout": {
        "barmode": "group",
        "legend": {
         "title": {
          "text": "type"
         },
         "tracegroupgap": 0
        },
        "margin": {
         "t": 60
        },
        "template": {
         "data": {
          "bar": [
           {
            "error_x": {
             "color": "#2a3f5f"
            },
            "error_y": {
             "color": "#2a3f5f"
            },
            "marker": {
             "line": {
              "color": "#E5ECF6",
              "width": 0.5
             }
            },
            "type": "bar"
           }
          ],
          "barpolar": [
           {
            "marker": {
             "line": {
              "color": "#E5ECF6",
              "width": 0.5
             }
            },
            "type": "barpolar"
           }
          ],
          "carpet": [
           {
            "aaxis": {
             "endlinecolor": "#2a3f5f",
             "gridcolor": "white",
             "linecolor": "white",
             "minorgridcolor": "white",
             "startlinecolor": "#2a3f5f"
            },
            "baxis": {
             "endlinecolor": "#2a3f5f",
             "gridcolor": "white",
             "linecolor": "white",
             "minorgridcolor": "white",
             "startlinecolor": "#2a3f5f"
            },
            "type": "carpet"
           }
          ],
          "choropleth": [
           {
            "colorbar": {
             "outlinewidth": 0,
             "ticks": ""
            },
            "type": "choropleth"
           }
          ],
          "contour": [
           {
            "colorbar": {
             "outlinewidth": 0,
             "ticks": ""
            },
            "colorscale": [
             [
              0,
              "#0d0887"
             ],
             [
              0.1111111111111111,
              "#46039f"
             ],
             [
              0.2222222222222222,
              "#7201a8"
             ],
             [
              0.3333333333333333,
              "#9c179e"
             ],
             [
              0.4444444444444444,
              "#bd3786"
             ],
             [
              0.5555555555555556,
              "#d8576b"
             ],
             [
              0.6666666666666666,
              "#ed7953"
             ],
             [
              0.7777777777777778,
              "#fb9f3a"
             ],
             [
              0.8888888888888888,
              "#fdca26"
             ],
             [
              1,
              "#f0f921"
             ]
            ],
            "type": "contour"
           }
          ],
          "contourcarpet": [
           {
            "colorbar": {
             "outlinewidth": 0,
             "ticks": ""
            },
            "type": "contourcarpet"
           }
          ],
          "heatmap": [
           {
            "colorbar": {
             "outlinewidth": 0,
             "ticks": ""
            },
            "colorscale": [
             [
              0,
              "#0d0887"
             ],
             [
              0.1111111111111111,
              "#46039f"
             ],
             [
              0.2222222222222222,
              "#7201a8"
             ],
             [
              0.3333333333333333,
              "#9c179e"
             ],
             [
              0.4444444444444444,
              "#bd3786"
             ],
             [
              0.5555555555555556,
              "#d8576b"
             ],
             [
              0.6666666666666666,
              "#ed7953"
             ],
             [
              0.7777777777777778,
              "#fb9f3a"
             ],
             [
              0.8888888888888888,
              "#fdca26"
             ],
             [
              1,
              "#f0f921"
             ]
            ],
            "type": "heatmap"
           }
          ],
          "heatmapgl": [
           {
            "colorbar": {
             "outlinewidth": 0,
             "ticks": ""
            },
            "colorscale": [
             [
              0,
              "#0d0887"
             ],
             [
              0.1111111111111111,
              "#46039f"
             ],
             [
              0.2222222222222222,
              "#7201a8"
             ],
             [
              0.3333333333333333,
              "#9c179e"
             ],
             [
              0.4444444444444444,
              "#bd3786"
             ],
             [
              0.5555555555555556,
              "#d8576b"
             ],
             [
              0.6666666666666666,
              "#ed7953"
             ],
             [
              0.7777777777777778,
              "#fb9f3a"
             ],
             [
              0.8888888888888888,
              "#fdca26"
             ],
             [
              1,
              "#f0f921"
             ]
            ],
            "type": "heatmapgl"
           }
          ],
          "histogram": [
           {
            "marker": {
             "colorbar": {
              "outlinewidth": 0,
              "ticks": ""
             }
            },
            "type": "histogram"
           }
          ],
          "histogram2d": [
           {
            "colorbar": {
             "outlinewidth": 0,
             "ticks": ""
            },
            "colorscale": [
             [
              0,
              "#0d0887"
             ],
             [
              0.1111111111111111,
              "#46039f"
             ],
             [
              0.2222222222222222,
              "#7201a8"
             ],
             [
              0.3333333333333333,
              "#9c179e"
             ],
             [
              0.4444444444444444,
              "#bd3786"
             ],
             [
              0.5555555555555556,
              "#d8576b"
             ],
             [
              0.6666666666666666,
              "#ed7953"
             ],
             [
              0.7777777777777778,
              "#fb9f3a"
             ],
             [
              0.8888888888888888,
              "#fdca26"
             ],
             [
              1,
              "#f0f921"
             ]
            ],
            "type": "histogram2d"
           }
          ],
          "histogram2dcontour": [
           {
            "colorbar": {
             "outlinewidth": 0,
             "ticks": ""
            },
            "colorscale": [
             [
              0,
              "#0d0887"
             ],
             [
              0.1111111111111111,
              "#46039f"
             ],
             [
              0.2222222222222222,
              "#7201a8"
             ],
             [
              0.3333333333333333,
              "#9c179e"
             ],
             [
              0.4444444444444444,
              "#bd3786"
             ],
             [
              0.5555555555555556,
              "#d8576b"
             ],
             [
              0.6666666666666666,
              "#ed7953"
             ],
             [
              0.7777777777777778,
              "#fb9f3a"
             ],
             [
              0.8888888888888888,
              "#fdca26"
             ],
             [
              1,
              "#f0f921"
             ]
            ],
            "type": "histogram2dcontour"
           }
          ],
          "mesh3d": [
           {
            "colorbar": {
             "outlinewidth": 0,
             "ticks": ""
            },
            "type": "mesh3d"
           }
          ],
          "parcoords": [
           {
            "line": {
             "colorbar": {
              "outlinewidth": 0,
              "ticks": ""
             }
            },
            "type": "parcoords"
           }
          ],
          "pie": [
           {
            "automargin": true,
            "type": "pie"
           }
          ],
          "scatter": [
           {
            "marker": {
             "colorbar": {
              "outlinewidth": 0,
              "ticks": ""
             }
            },
            "type": "scatter"
           }
          ],
          "scatter3d": [
           {
            "line": {
             "colorbar": {
              "outlinewidth": 0,
              "ticks": ""
             }
            },
            "marker": {
             "colorbar": {
              "outlinewidth": 0,
              "ticks": ""
             }
            },
            "type": "scatter3d"
           }
          ],
          "scattercarpet": [
           {
            "marker": {
             "colorbar": {
              "outlinewidth": 0,
              "ticks": ""
             }
            },
            "type": "scattercarpet"
           }
          ],
          "scattergeo": [
           {
            "marker": {
             "colorbar": {
              "outlinewidth": 0,
              "ticks": ""
             }
            },
            "type": "scattergeo"
           }
          ],
          "scattergl": [
           {
            "marker": {
             "colorbar": {
              "outlinewidth": 0,
              "ticks": ""
             }
            },
            "type": "scattergl"
           }
          ],
          "scattermapbox": [
           {
            "marker": {
             "colorbar": {
              "outlinewidth": 0,
              "ticks": ""
             }
            },
            "type": "scattermapbox"
           }
          ],
          "scatterpolar": [
           {
            "marker": {
             "colorbar": {
              "outlinewidth": 0,
              "ticks": ""
             }
            },
            "type": "scatterpolar"
           }
          ],
          "scatterpolargl": [
           {
            "marker": {
             "colorbar": {
              "outlinewidth": 0,
              "ticks": ""
             }
            },
            "type": "scatterpolargl"
           }
          ],
          "scatterternary": [
           {
            "marker": {
             "colorbar": {
              "outlinewidth": 0,
              "ticks": ""
             }
            },
            "type": "scatterternary"
           }
          ],
          "surface": [
           {
            "colorbar": {
             "outlinewidth": 0,
             "ticks": ""
            },
            "colorscale": [
             [
              0,
              "#0d0887"
             ],
             [
              0.1111111111111111,
              "#46039f"
             ],
             [
              0.2222222222222222,
              "#7201a8"
             ],
             [
              0.3333333333333333,
              "#9c179e"
             ],
             [
              0.4444444444444444,
              "#bd3786"
             ],
             [
              0.5555555555555556,
              "#d8576b"
             ],
             [
              0.6666666666666666,
              "#ed7953"
             ],
             [
              0.7777777777777778,
              "#fb9f3a"
             ],
             [
              0.8888888888888888,
              "#fdca26"
             ],
             [
              1,
              "#f0f921"
             ]
            ],
            "type": "surface"
           }
          ],
          "table": [
           {
            "cells": {
             "fill": {
              "color": "#EBF0F8"
             },
             "line": {
              "color": "white"
             }
            },
            "header": {
             "fill": {
              "color": "#C8D4E3"
             },
             "line": {
              "color": "white"
             }
            },
            "type": "table"
           }
          ]
         },
         "layout": {
          "annotationdefaults": {
           "arrowcolor": "#2a3f5f",
           "arrowhead": 0,
           "arrowwidth": 1
          },
          "coloraxis": {
           "colorbar": {
            "outlinewidth": 0,
            "ticks": ""
           }
          },
          "colorscale": {
           "diverging": [
            [
             0,
             "#8e0152"
            ],
            [
             0.1,
             "#c51b7d"
            ],
            [
             0.2,
             "#de77ae"
            ],
            [
             0.3,
             "#f1b6da"
            ],
            [
             0.4,
             "#fde0ef"
            ],
            [
             0.5,
             "#f7f7f7"
            ],
            [
             0.6,
             "#e6f5d0"
            ],
            [
             0.7,
             "#b8e186"
            ],
            [
             0.8,
             "#7fbc41"
            ],
            [
             0.9,
             "#4d9221"
            ],
            [
             1,
             "#276419"
            ]
           ],
           "sequential": [
            [
             0,
             "#0d0887"
            ],
            [
             0.1111111111111111,
             "#46039f"
            ],
            [
             0.2222222222222222,
             "#7201a8"
            ],
            [
             0.3333333333333333,
             "#9c179e"
            ],
            [
             0.4444444444444444,
             "#bd3786"
            ],
            [
             0.5555555555555556,
             "#d8576b"
            ],
            [
             0.6666666666666666,
             "#ed7953"
            ],
            [
             0.7777777777777778,
             "#fb9f3a"
            ],
            [
             0.8888888888888888,
             "#fdca26"
            ],
            [
             1,
             "#f0f921"
            ]
           ],
           "sequentialminus": [
            [
             0,
             "#0d0887"
            ],
            [
             0.1111111111111111,
             "#46039f"
            ],
            [
             0.2222222222222222,
             "#7201a8"
            ],
            [
             0.3333333333333333,
             "#9c179e"
            ],
            [
             0.4444444444444444,
             "#bd3786"
            ],
            [
             0.5555555555555556,
             "#d8576b"
            ],
            [
             0.6666666666666666,
             "#ed7953"
            ],
            [
             0.7777777777777778,
             "#fb9f3a"
            ],
            [
             0.8888888888888888,
             "#fdca26"
            ],
            [
             1,
             "#f0f921"
            ]
           ]
          },
          "colorway": [
           "#636efa",
           "#EF553B",
           "#00cc96",
           "#ab63fa",
           "#FFA15A",
           "#19d3f3",
           "#FF6692",
           "#B6E880",
           "#FF97FF",
           "#FECB52"
          ],
          "font": {
           "color": "#2a3f5f"
          },
          "geo": {
           "bgcolor": "white",
           "lakecolor": "white",
           "landcolor": "#E5ECF6",
           "showlakes": true,
           "showland": true,
           "subunitcolor": "white"
          },
          "hoverlabel": {
           "align": "left"
          },
          "hovermode": "closest",
          "mapbox": {
           "style": "light"
          },
          "paper_bgcolor": "white",
          "plot_bgcolor": "#E5ECF6",
          "polar": {
           "angularaxis": {
            "gridcolor": "white",
            "linecolor": "white",
            "ticks": ""
           },
           "bgcolor": "#E5ECF6",
           "radialaxis": {
            "gridcolor": "white",
            "linecolor": "white",
            "ticks": ""
           }
          },
          "scene": {
           "xaxis": {
            "backgroundcolor": "#E5ECF6",
            "gridcolor": "white",
            "gridwidth": 2,
            "linecolor": "white",
            "showbackground": true,
            "ticks": "",
            "zerolinecolor": "white"
           },
           "yaxis": {
            "backgroundcolor": "#E5ECF6",
            "gridcolor": "white",
            "gridwidth": 2,
            "linecolor": "white",
            "showbackground": true,
            "ticks": "",
            "zerolinecolor": "white"
           },
           "zaxis": {
            "backgroundcolor": "#E5ECF6",
            "gridcolor": "white",
            "gridwidth": 2,
            "linecolor": "white",
            "showbackground": true,
            "ticks": "",
            "zerolinecolor": "white"
           }
          },
          "shapedefaults": {
           "line": {
            "color": "#2a3f5f"
           }
          },
          "ternary": {
           "aaxis": {
            "gridcolor": "white",
            "linecolor": "white",
            "ticks": ""
           },
           "baxis": {
            "gridcolor": "white",
            "linecolor": "white",
            "ticks": ""
           },
           "bgcolor": "#E5ECF6",
           "caxis": {
            "gridcolor": "white",
            "linecolor": "white",
            "ticks": ""
           }
          },
          "title": {
           "x": 0.05
          },
          "xaxis": {
           "automargin": true,
           "gridcolor": "white",
           "linecolor": "white",
           "ticks": "",
           "title": {
            "standoff": 15
           },
           "zerolinecolor": "white",
           "zerolinewidth": 2
          },
          "yaxis": {
           "automargin": true,
           "gridcolor": "white",
           "linecolor": "white",
           "ticks": "",
           "title": {
            "standoff": 15
           },
           "zerolinecolor": "white",
           "zerolinewidth": 2
          }
         }
        },
        "xaxis": {
         "anchor": "y",
         "domain": [
          0,
          1
         ],
         "title": {
          "text": "perimeter P"
         }
        },
        "xaxis2": {
         "anchor": "y2",
         "domain": [
          0,
          1
         ],
         "matches": "x",
         "showgrid": true,
         "showticklabels": false
        },
        "yaxis": {
         "anchor": "x",
         "domain": [
          0,
          0.7326
         ],
         "title": {
          "text": "count"
         }
        },
        "yaxis2": {
         "anchor": "x2",
         "domain": [
          0.7426,
          1
         ],
         "matches": "y2",
         "showgrid": false,
         "showline": false,
         "showticklabels": false,
         "ticks": ""
        }
       }
      },
      "text/html": [
       "<div>\n",
       "        \n",
       "        \n",
       "            <div id=\"79bcb17e-4bde-4ac6-9aa5-dbfa25702753\" class=\"plotly-graph-div\" style=\"height:525px; width:100%;\"></div>\n",
       "            <script type=\"text/javascript\">\n",
       "                require([\"plotly\"], function(Plotly) {\n",
       "                    window.PLOTLYENV=window.PLOTLYENV || {};\n",
       "                    \n",
       "                if (document.getElementById(\"79bcb17e-4bde-4ac6-9aa5-dbfa25702753\")) {\n",
       "                    Plotly.newPlot(\n",
       "                        '79bcb17e-4bde-4ac6-9aa5-dbfa25702753',\n",
       "                        [{\"alignmentgroup\": \"True\", \"bingroup\": \"x\", \"histnorm\": \"percent\", \"hovertemplate\": \"type=Kama<br>perimeter P=%{x}<br>count=%{y}<extra></extra>\", \"legendgroup\": \"Kama\", \"marker\": {\"color\": \"#636efa\"}, \"name\": \"Kama\", \"nbinsx\": 20, \"offsetgroup\": \"Kama\", \"orientation\": \"v\", \"showlegend\": true, \"type\": \"histogram\", \"x\": [14.84, 14.57, 14.09, 13.94, 14.99, 14.21, 14.49, 14.1, 15.46, 15.25, 14.85, 14.16, 14.02, 14.06, 14.05, 14.28, 13.83, 14.75, 14.21, 13.57, 14.4, 14.26, 14.9, 13.23, 14.76, 15.16, 13.76, 13.67, 14.18, 14.02, 13.82, 14.94, 14.41, 14.17, 14.68, 15.0, 15.27, 15.38, 14.52, 14.17, 13.85, 13.85, 13.55, 14.86, 14.54, 14.04, 14.76, 14.56, 14.52, 14.67, 14.4, 14.91, 14.61, 14.28, 14.6, 14.77, 14.35, 14.43, 14.77, 13.47, 12.86, 12.63, 13.19, 13.84, 13.57, 13.5, 14.37, 14.29, 14.39, 13.75], \"xaxis\": \"x\", \"yaxis\": \"y\"}, {\"alignmentgroup\": \"True\", \"hovertemplate\": \"type=Kama<br>perimeter P=%{x}<extra></extra>\", \"legendgroup\": \"Kama\", \"marker\": {\"color\": \"#636efa\"}, \"name\": \"Kama\", \"notched\": true, \"offsetgroup\": \"Kama\", \"showlegend\": false, \"type\": \"box\", \"x\": [14.84, 14.57, 14.09, 13.94, 14.99, 14.21, 14.49, 14.1, 15.46, 15.25, 14.85, 14.16, 14.02, 14.06, 14.05, 14.28, 13.83, 14.75, 14.21, 13.57, 14.4, 14.26, 14.9, 13.23, 14.76, 15.16, 13.76, 13.67, 14.18, 14.02, 13.82, 14.94, 14.41, 14.17, 14.68, 15.0, 15.27, 15.38, 14.52, 14.17, 13.85, 13.85, 13.55, 14.86, 14.54, 14.04, 14.76, 14.56, 14.52, 14.67, 14.4, 14.91, 14.61, 14.28, 14.6, 14.77, 14.35, 14.43, 14.77, 13.47, 12.86, 12.63, 13.19, 13.84, 13.57, 13.5, 14.37, 14.29, 14.39, 13.75], \"xaxis\": \"x2\", \"yaxis\": \"y2\"}, {\"alignmentgroup\": \"True\", \"bingroup\": \"x\", \"histnorm\": \"percent\", \"hovertemplate\": \"type=Rosa<br>perimeter P=%{x}<br>count=%{y}<extra></extra>\", \"legendgroup\": \"Rosa\", \"marker\": {\"color\": \"#EF553B\"}, \"name\": \"Rosa\", \"nbinsx\": 20, \"offsetgroup\": \"Rosa\", \"orientation\": \"v\", \"showlegend\": true, \"type\": \"histogram\", \"x\": [15.98, 15.67, 15.73, 16.26, 15.51, 15.62, 15.91, 17.23, 16.49, 15.55, 15.34, 16.19, 16.89, 16.74, 16.71, 16.09, 16.26, 16.66, 17.21, 17.05, 16.99, 16.2, 16.29, 16.05, 16.52, 15.65, 16.59, 16.57, 16.26, 16.34, 15.25, 15.86, 16.5, 16.63, 16.42, 16.29, 16.17, 15.86, 16.92, 16.22, 16.12, 16.72, 16.31, 16.61, 17.25, 16.45, 16.2, 16.45, 16.23, 16.9, 16.91, 16.12, 15.38, 15.97, 14.89, 16.18, 16.41, 15.85, 17.03, 15.66, 15.89, 16.32, 14.9, 15.33, 14.89, 14.66, 15.76, 15.15, 15.11, 15.18], \"xaxis\": \"x\", \"yaxis\": \"y\"}, {\"alignmentgroup\": \"True\", \"hovertemplate\": \"type=Rosa<br>perimeter P=%{x}<extra></extra>\", \"legendgroup\": \"Rosa\", \"marker\": {\"color\": \"#EF553B\"}, \"name\": \"Rosa\", \"notched\": true, \"offsetgroup\": \"Rosa\", \"showlegend\": false, \"type\": \"box\", \"x\": [15.98, 15.67, 15.73, 16.26, 15.51, 15.62, 15.91, 17.23, 16.49, 15.55, 15.34, 16.19, 16.89, 16.74, 16.71, 16.09, 16.26, 16.66, 17.21, 17.05, 16.99, 16.2, 16.29, 16.05, 16.52, 15.65, 16.59, 16.57, 16.26, 16.34, 15.25, 15.86, 16.5, 16.63, 16.42, 16.29, 16.17, 15.86, 16.92, 16.22, 16.12, 16.72, 16.31, 16.61, 17.25, 16.45, 16.2, 16.45, 16.23, 16.9, 16.91, 16.12, 15.38, 15.97, 14.89, 16.18, 16.41, 15.85, 17.03, 15.66, 15.89, 16.32, 14.9, 15.33, 14.89, 14.66, 15.76, 15.15, 15.11, 15.18], \"xaxis\": \"x2\", \"yaxis\": \"y2\"}, {\"alignmentgroup\": \"True\", \"bingroup\": \"x\", \"histnorm\": \"percent\", \"hovertemplate\": \"type=Canadian<br>perimeter P=%{x}<br>count=%{y}<extra></extra>\", \"legendgroup\": \"Canadian\", \"marker\": {\"color\": \"#00cc96\"}, \"name\": \"Canadian\", \"nbinsx\": 20, \"offsetgroup\": \"Canadian\", \"orientation\": \"v\", \"showlegend\": true, \"type\": \"histogram\", \"x\": [13.92, 13.94, 13.95, 13.32, 13.4, 13.13, 13.13, 13.46, 13.71, 12.93, 13.23, 13.52, 13.6, 13.04, 13.05, 13.05, 12.87, 13.73, 13.52, 13.22, 13.67, 13.33, 13.41, 13.57, 12.79, 13.15, 13.59, 13.45, 13.12, 13.0, 13.0, 13.1, 12.97, 13.08, 12.96, 12.57, 13.01, 12.73, 13.05, 13.47, 12.95, 13.41, 13.36, 13.07, 13.77, 13.31, 13.45, 12.8, 12.82, 12.41, 12.8, 12.86, 13.02, 12.83, 13.27, 13.47, 13.53, 13.78, 13.67, 13.38, 13.44, 13.32, 12.72, 13.41, 13.47, 13.2, 12.88, 13.66, 13.21, 13.34], \"xaxis\": \"x\", \"yaxis\": \"y\"}, {\"alignmentgroup\": \"True\", \"hovertemplate\": \"type=Canadian<br>perimeter P=%{x}<extra></extra>\", \"legendgroup\": \"Canadian\", \"marker\": {\"color\": \"#00cc96\"}, \"name\": \"Canadian\", \"notched\": true, \"offsetgroup\": \"Canadian\", \"showlegend\": false, \"type\": \"box\", \"x\": [13.92, 13.94, 13.95, 13.32, 13.4, 13.13, 13.13, 13.46, 13.71, 12.93, 13.23, 13.52, 13.6, 13.04, 13.05, 13.05, 12.87, 13.73, 13.52, 13.22, 13.67, 13.33, 13.41, 13.57, 12.79, 13.15, 13.59, 13.45, 13.12, 13.0, 13.0, 13.1, 12.97, 13.08, 12.96, 12.57, 13.01, 12.73, 13.05, 13.47, 12.95, 13.41, 13.36, 13.07, 13.77, 13.31, 13.45, 12.8, 12.82, 12.41, 12.8, 12.86, 13.02, 12.83, 13.27, 13.47, 13.53, 13.78, 13.67, 13.38, 13.44, 13.32, 12.72, 13.41, 13.47, 13.2, 12.88, 13.66, 13.21, 13.34], \"xaxis\": \"x2\", \"yaxis\": \"y2\"}],\n",
       "                        {\"barmode\": \"group\", \"legend\": {\"title\": {\"text\": \"type\"}, \"tracegroupgap\": 0}, \"margin\": {\"t\": 60}, \"template\": {\"data\": {\"bar\": [{\"error_x\": {\"color\": \"#2a3f5f\"}, \"error_y\": {\"color\": \"#2a3f5f\"}, \"marker\": {\"line\": {\"color\": \"#E5ECF6\", \"width\": 0.5}}, \"type\": \"bar\"}], \"barpolar\": [{\"marker\": {\"line\": {\"color\": \"#E5ECF6\", \"width\": 0.5}}, \"type\": \"barpolar\"}], \"carpet\": [{\"aaxis\": {\"endlinecolor\": \"#2a3f5f\", \"gridcolor\": \"white\", \"linecolor\": \"white\", \"minorgridcolor\": \"white\", \"startlinecolor\": \"#2a3f5f\"}, \"baxis\": {\"endlinecolor\": \"#2a3f5f\", \"gridcolor\": \"white\", \"linecolor\": \"white\", \"minorgridcolor\": \"white\", \"startlinecolor\": \"#2a3f5f\"}, \"type\": \"carpet\"}], \"choropleth\": [{\"colorbar\": {\"outlinewidth\": 0, \"ticks\": \"\"}, \"type\": \"choropleth\"}], \"contour\": [{\"colorbar\": {\"outlinewidth\": 0, \"ticks\": \"\"}, \"colorscale\": [[0.0, \"#0d0887\"], [0.1111111111111111, \"#46039f\"], [0.2222222222222222, \"#7201a8\"], [0.3333333333333333, \"#9c179e\"], [0.4444444444444444, \"#bd3786\"], [0.5555555555555556, \"#d8576b\"], [0.6666666666666666, \"#ed7953\"], [0.7777777777777778, \"#fb9f3a\"], [0.8888888888888888, \"#fdca26\"], [1.0, \"#f0f921\"]], \"type\": \"contour\"}], \"contourcarpet\": [{\"colorbar\": {\"outlinewidth\": 0, \"ticks\": \"\"}, \"type\": \"contourcarpet\"}], \"heatmap\": [{\"colorbar\": {\"outlinewidth\": 0, \"ticks\": \"\"}, \"colorscale\": [[0.0, \"#0d0887\"], [0.1111111111111111, \"#46039f\"], [0.2222222222222222, \"#7201a8\"], [0.3333333333333333, \"#9c179e\"], [0.4444444444444444, \"#bd3786\"], [0.5555555555555556, \"#d8576b\"], [0.6666666666666666, \"#ed7953\"], [0.7777777777777778, \"#fb9f3a\"], [0.8888888888888888, \"#fdca26\"], [1.0, \"#f0f921\"]], \"type\": \"heatmap\"}], \"heatmapgl\": [{\"colorbar\": {\"outlinewidth\": 0, \"ticks\": \"\"}, \"colorscale\": [[0.0, \"#0d0887\"], [0.1111111111111111, \"#46039f\"], [0.2222222222222222, \"#7201a8\"], [0.3333333333333333, \"#9c179e\"], [0.4444444444444444, \"#bd3786\"], [0.5555555555555556, \"#d8576b\"], [0.6666666666666666, \"#ed7953\"], [0.7777777777777778, \"#fb9f3a\"], [0.8888888888888888, \"#fdca26\"], [1.0, \"#f0f921\"]], \"type\": \"heatmapgl\"}], \"histogram\": [{\"marker\": {\"colorbar\": {\"outlinewidth\": 0, \"ticks\": \"\"}}, \"type\": \"histogram\"}], \"histogram2d\": [{\"colorbar\": {\"outlinewidth\": 0, \"ticks\": \"\"}, \"colorscale\": [[0.0, \"#0d0887\"], [0.1111111111111111, \"#46039f\"], [0.2222222222222222, \"#7201a8\"], [0.3333333333333333, \"#9c179e\"], [0.4444444444444444, \"#bd3786\"], [0.5555555555555556, \"#d8576b\"], [0.6666666666666666, \"#ed7953\"], [0.7777777777777778, \"#fb9f3a\"], [0.8888888888888888, \"#fdca26\"], [1.0, \"#f0f921\"]], \"type\": \"histogram2d\"}], \"histogram2dcontour\": [{\"colorbar\": {\"outlinewidth\": 0, \"ticks\": \"\"}, \"colorscale\": [[0.0, \"#0d0887\"], [0.1111111111111111, \"#46039f\"], [0.2222222222222222, \"#7201a8\"], [0.3333333333333333, \"#9c179e\"], [0.4444444444444444, \"#bd3786\"], [0.5555555555555556, \"#d8576b\"], [0.6666666666666666, \"#ed7953\"], [0.7777777777777778, \"#fb9f3a\"], [0.8888888888888888, \"#fdca26\"], [1.0, \"#f0f921\"]], \"type\": \"histogram2dcontour\"}], \"mesh3d\": [{\"colorbar\": {\"outlinewidth\": 0, \"ticks\": \"\"}, \"type\": \"mesh3d\"}], \"parcoords\": [{\"line\": {\"colorbar\": {\"outlinewidth\": 0, \"ticks\": \"\"}}, \"type\": \"parcoords\"}], \"pie\": [{\"automargin\": true, \"type\": \"pie\"}], \"scatter\": [{\"marker\": {\"colorbar\": {\"outlinewidth\": 0, \"ticks\": \"\"}}, \"type\": \"scatter\"}], \"scatter3d\": [{\"line\": {\"colorbar\": {\"outlinewidth\": 0, \"ticks\": \"\"}}, \"marker\": {\"colorbar\": {\"outlinewidth\": 0, \"ticks\": \"\"}}, \"type\": \"scatter3d\"}], \"scattercarpet\": [{\"marker\": {\"colorbar\": {\"outlinewidth\": 0, \"ticks\": \"\"}}, \"type\": \"scattercarpet\"}], \"scattergeo\": [{\"marker\": {\"colorbar\": {\"outlinewidth\": 0, \"ticks\": \"\"}}, \"type\": \"scattergeo\"}], \"scattergl\": [{\"marker\": {\"colorbar\": {\"outlinewidth\": 0, \"ticks\": \"\"}}, \"type\": \"scattergl\"}], \"scattermapbox\": [{\"marker\": {\"colorbar\": {\"outlinewidth\": 0, \"ticks\": \"\"}}, \"type\": \"scattermapbox\"}], \"scatterpolar\": [{\"marker\": {\"colorbar\": {\"outlinewidth\": 0, \"ticks\": \"\"}}, \"type\": \"scatterpolar\"}], \"scatterpolargl\": [{\"marker\": {\"colorbar\": {\"outlinewidth\": 0, \"ticks\": \"\"}}, \"type\": \"scatterpolargl\"}], \"scatterternary\": [{\"marker\": {\"colorbar\": {\"outlinewidth\": 0, \"ticks\": \"\"}}, \"type\": \"scatterternary\"}], \"surface\": [{\"colorbar\": {\"outlinewidth\": 0, \"ticks\": \"\"}, \"colorscale\": [[0.0, \"#0d0887\"], [0.1111111111111111, \"#46039f\"], [0.2222222222222222, \"#7201a8\"], [0.3333333333333333, \"#9c179e\"], [0.4444444444444444, \"#bd3786\"], [0.5555555555555556, \"#d8576b\"], [0.6666666666666666, \"#ed7953\"], [0.7777777777777778, \"#fb9f3a\"], [0.8888888888888888, \"#fdca26\"], [1.0, \"#f0f921\"]], \"type\": \"surface\"}], \"table\": [{\"cells\": {\"fill\": {\"color\": \"#EBF0F8\"}, \"line\": {\"color\": \"white\"}}, \"header\": {\"fill\": {\"color\": \"#C8D4E3\"}, \"line\": {\"color\": \"white\"}}, \"type\": \"table\"}]}, \"layout\": {\"annotationdefaults\": {\"arrowcolor\": \"#2a3f5f\", \"arrowhead\": 0, \"arrowwidth\": 1}, \"coloraxis\": {\"colorbar\": {\"outlinewidth\": 0, \"ticks\": \"\"}}, \"colorscale\": {\"diverging\": [[0, \"#8e0152\"], [0.1, \"#c51b7d\"], [0.2, \"#de77ae\"], [0.3, \"#f1b6da\"], [0.4, \"#fde0ef\"], [0.5, \"#f7f7f7\"], [0.6, \"#e6f5d0\"], [0.7, \"#b8e186\"], [0.8, \"#7fbc41\"], [0.9, \"#4d9221\"], [1, \"#276419\"]], \"sequential\": [[0.0, \"#0d0887\"], [0.1111111111111111, \"#46039f\"], [0.2222222222222222, \"#7201a8\"], [0.3333333333333333, \"#9c179e\"], [0.4444444444444444, \"#bd3786\"], [0.5555555555555556, \"#d8576b\"], [0.6666666666666666, \"#ed7953\"], [0.7777777777777778, \"#fb9f3a\"], [0.8888888888888888, \"#fdca26\"], [1.0, \"#f0f921\"]], \"sequentialminus\": [[0.0, \"#0d0887\"], [0.1111111111111111, \"#46039f\"], [0.2222222222222222, \"#7201a8\"], [0.3333333333333333, \"#9c179e\"], [0.4444444444444444, \"#bd3786\"], [0.5555555555555556, \"#d8576b\"], [0.6666666666666666, \"#ed7953\"], [0.7777777777777778, \"#fb9f3a\"], [0.8888888888888888, \"#fdca26\"], [1.0, \"#f0f921\"]]}, \"colorway\": [\"#636efa\", \"#EF553B\", \"#00cc96\", \"#ab63fa\", \"#FFA15A\", \"#19d3f3\", \"#FF6692\", \"#B6E880\", \"#FF97FF\", \"#FECB52\"], \"font\": {\"color\": \"#2a3f5f\"}, \"geo\": {\"bgcolor\": \"white\", \"lakecolor\": \"white\", \"landcolor\": \"#E5ECF6\", \"showlakes\": true, \"showland\": true, \"subunitcolor\": \"white\"}, \"hoverlabel\": {\"align\": \"left\"}, \"hovermode\": \"closest\", \"mapbox\": {\"style\": \"light\"}, \"paper_bgcolor\": \"white\", \"plot_bgcolor\": \"#E5ECF6\", \"polar\": {\"angularaxis\": {\"gridcolor\": \"white\", \"linecolor\": \"white\", \"ticks\": \"\"}, \"bgcolor\": \"#E5ECF6\", \"radialaxis\": {\"gridcolor\": \"white\", \"linecolor\": \"white\", \"ticks\": \"\"}}, \"scene\": {\"xaxis\": {\"backgroundcolor\": \"#E5ECF6\", \"gridcolor\": \"white\", \"gridwidth\": 2, \"linecolor\": \"white\", \"showbackground\": true, \"ticks\": \"\", \"zerolinecolor\": \"white\"}, \"yaxis\": {\"backgroundcolor\": \"#E5ECF6\", \"gridcolor\": \"white\", \"gridwidth\": 2, \"linecolor\": \"white\", \"showbackground\": true, \"ticks\": \"\", \"zerolinecolor\": \"white\"}, \"zaxis\": {\"backgroundcolor\": \"#E5ECF6\", \"gridcolor\": \"white\", \"gridwidth\": 2, \"linecolor\": \"white\", \"showbackground\": true, \"ticks\": \"\", \"zerolinecolor\": \"white\"}}, \"shapedefaults\": {\"line\": {\"color\": \"#2a3f5f\"}}, \"ternary\": {\"aaxis\": {\"gridcolor\": \"white\", \"linecolor\": \"white\", \"ticks\": \"\"}, \"baxis\": {\"gridcolor\": \"white\", \"linecolor\": \"white\", \"ticks\": \"\"}, \"bgcolor\": \"#E5ECF6\", \"caxis\": {\"gridcolor\": \"white\", \"linecolor\": \"white\", \"ticks\": \"\"}}, \"title\": {\"x\": 0.05}, \"xaxis\": {\"automargin\": true, \"gridcolor\": \"white\", \"linecolor\": \"white\", \"ticks\": \"\", \"title\": {\"standoff\": 15}, \"zerolinecolor\": \"white\", \"zerolinewidth\": 2}, \"yaxis\": {\"automargin\": true, \"gridcolor\": \"white\", \"linecolor\": \"white\", \"ticks\": \"\", \"title\": {\"standoff\": 15}, \"zerolinecolor\": \"white\", \"zerolinewidth\": 2}}}, \"xaxis\": {\"anchor\": \"y\", \"domain\": [0.0, 1.0], \"title\": {\"text\": \"perimeter P\"}}, \"xaxis2\": {\"anchor\": \"y2\", \"domain\": [0.0, 1.0], \"matches\": \"x\", \"showgrid\": true, \"showticklabels\": false}, \"yaxis\": {\"anchor\": \"x\", \"domain\": [0.0, 0.7326], \"title\": {\"text\": \"count\"}}, \"yaxis2\": {\"anchor\": \"x2\", \"domain\": [0.7426, 1.0], \"matches\": \"y2\", \"showgrid\": false, \"showline\": false, \"showticklabels\": false, \"ticks\": \"\"}},\n",
       "                        {\"responsive\": true}\n",
       "                    ).then(function(){\n",
       "                            \n",
       "var gd = document.getElementById('79bcb17e-4bde-4ac6-9aa5-dbfa25702753');\n",
       "var x = new MutationObserver(function (mutations, observer) {{\n",
       "        var display = window.getComputedStyle(gd).display;\n",
       "        if (!display || display === 'none') {{\n",
       "            console.log([gd, 'removed!']);\n",
       "            Plotly.purge(gd);\n",
       "            observer.disconnect();\n",
       "        }}\n",
       "}});\n",
       "\n",
       "// Listen for the removal of the full notebook cells\n",
       "var notebookContainer = gd.closest('#notebook-container');\n",
       "if (notebookContainer) {{\n",
       "    x.observe(notebookContainer, {childList: true});\n",
       "}}\n",
       "\n",
       "// Listen for the clearing of the current output cell\n",
       "var outputEl = gd.closest('.output');\n",
       "if (outputEl) {{\n",
       "    x.observe(outputEl, {childList: true});\n",
       "}}\n",
       "\n",
       "                        })\n",
       "                };\n",
       "                });\n",
       "            </script>\n",
       "        </div>"
      ]
     },
     "metadata": {},
     "output_type": "display_data"
    }
   ],
   "source": [
    "# Setzen Sie in untenstehendem Code als Variable ('x') den Umfang ('Perimeter P') ein, und als Farbe ('color') die Weizensort ('type')\n",
    "px.histogram(data,\n",
    "                   x=\"perimeter P\",\n",
    "                   color=\"type\", # einzelne Histogramme für jede Weinsorte\n",
    "                   nbins=20, # Anzahl Balken ('bins')\n",
    "                   barmode='group', # gruppiere die Balken für die 3 Weinsorten, nicht überlagern\n",
    "                   marginal='box', # Boxplot über das Histogram\n",
    "                   histnorm='percent') # normieren Histogramm auf 100%, nicht auf die Anzahl der Beobachtung"
   ]
  },
  {
   "cell_type": "markdown",
   "metadata": {},
   "source": [
    "#### Fragen zum Histogram:\n",
    "* Kann man die drei Sorten anhand des Umfangs eindeutig trennen?\n",
    "* Oder gibt es wenigstens zwei Sorten, die sich trennen lassen?\n",
    "\n",
    "_Rosa und Canadian lassen sich trennen, aber nicht alle drei Sorten._"
   ]
  },
  {
   "cell_type": "markdown",
   "metadata": {
    "slideshow": {
     "slide_type": "subslide"
    }
   },
   "source": [
    "#### scatter matrix plot"
   ]
  },
  {
   "cell_type": "code",
   "execution_count": 32,
   "metadata": {
    "scrolled": true
   },
   "outputs": [
    {
     "data": {
      "application/vnd.plotly.v1+json": {
       "config": {
        "plotlyServerURL": "https://plot.ly"
       },
       "data": [
        {
         "dimensions": [
          {
           "axis": {
            "matches": true
           },
           "label": "area A",
           "values": [
            15.26,
            14.88,
            14.29,
            13.84,
            16.14,
            14.38,
            14.69,
            14.11,
            16.63,
            16.44,
            15.26,
            14.03,
            13.89,
            13.78,
            13.74,
            14.59,
            13.99,
            15.69,
            14.7,
            12.72,
            14.16,
            14.11,
            15.88,
            12.08,
            15.01,
            16.19,
            13.02,
            12.74,
            14.11,
            13.45,
            13.16,
            15.49,
            14.09,
            13.94,
            15.05,
            16.12,
            16.2,
            17.08,
            14.8,
            14.28,
            13.54,
            13.5,
            13.16,
            15.5,
            15.11,
            13.8,
            15.36,
            14.99,
            14.79,
            14.86,
            14.43,
            15.78,
            14.49,
            14.33,
            14.52,
            15.03,
            14.46,
            14.92,
            15.38,
            12.11,
            11.42,
            11.23,
            12.36,
            13.22,
            12.78,
            12.88,
            14.34,
            14.01,
            14.37,
            12.73
           ]
          },
          {
           "axis": {
            "matches": true
           },
           "label": "perimeter P",
           "values": [
            14.84,
            14.57,
            14.09,
            13.94,
            14.99,
            14.21,
            14.49,
            14.1,
            15.46,
            15.25,
            14.85,
            14.16,
            14.02,
            14.06,
            14.05,
            14.28,
            13.83,
            14.75,
            14.21,
            13.57,
            14.4,
            14.26,
            14.9,
            13.23,
            14.76,
            15.16,
            13.76,
            13.67,
            14.18,
            14.02,
            13.82,
            14.94,
            14.41,
            14.17,
            14.68,
            15,
            15.27,
            15.38,
            14.52,
            14.17,
            13.85,
            13.85,
            13.55,
            14.86,
            14.54,
            14.04,
            14.76,
            14.56,
            14.52,
            14.67,
            14.4,
            14.91,
            14.61,
            14.28,
            14.6,
            14.77,
            14.35,
            14.43,
            14.77,
            13.47,
            12.86,
            12.63,
            13.19,
            13.84,
            13.57,
            13.5,
            14.37,
            14.29,
            14.39,
            13.75
           ]
          },
          {
           "axis": {
            "matches": true
           },
           "label": "compactness C",
           "values": [
            0.871,
            0.8811,
            0.905,
            0.8955,
            0.9034,
            0.8951,
            0.8799,
            0.8911,
            0.8747,
            0.888,
            0.8696,
            0.8796,
            0.888,
            0.8759,
            0.8744,
            0.8993,
            0.9183,
            0.9058,
            0.9153,
            0.8686,
            0.8584,
            0.8722,
            0.8988,
            0.8664,
            0.8657,
            0.8849,
            0.8641,
            0.8564,
            0.882,
            0.8604,
            0.8662,
            0.8724,
            0.8529,
            0.8728,
            0.8779,
            0.9,
            0.8734,
            0.9079,
            0.8823,
            0.8944,
            0.8871,
            0.8852,
            0.9009,
            0.882,
            0.8986,
            0.8794,
            0.8861,
            0.8883,
            0.8819,
            0.8676,
            0.8751,
            0.8923,
            0.8538,
            0.8831,
            0.8557,
            0.8658,
            0.8818,
            0.9006,
            0.8857,
            0.8392,
            0.8683,
            0.884,
            0.8923,
            0.868,
            0.8716,
            0.8879,
            0.8726,
            0.8625,
            0.8726,
            0.8458
           ]
          },
          {
           "axis": {
            "matches": true
           },
           "label": "length of kernel",
           "values": [
            5.763,
            5.553999999999999,
            5.291,
            5.324,
            5.6579999999999995,
            5.386,
            5.563,
            5.42,
            6.053,
            5.8839999999999995,
            5.7139999999999995,
            5.438,
            5.439,
            5.479,
            5.482,
            5.351,
            5.119,
            5.527,
            5.205,
            5.226,
            5.6579999999999995,
            5.52,
            5.617999999999999,
            5.099,
            5.789,
            5.832999999999999,
            5.395,
            5.395,
            5.541,
            5.516,
            5.454,
            5.757000000000001,
            5.7170000000000005,
            5.585,
            5.712000000000001,
            5.709,
            5.8260000000000005,
            5.832000000000001,
            5.656000000000001,
            5.397,
            5.348,
            5.351,
            5.138,
            5.877000000000001,
            5.579,
            5.376,
            5.7010000000000005,
            5.57,
            5.545,
            5.678,
            5.585,
            5.6739999999999995,
            5.715,
            5.504,
            5.7410000000000005,
            5.702000000000001,
            5.388,
            5.3839999999999995,
            5.662000000000001,
            5.159,
            5.008,
            4.902,
            5.0760000000000005,
            5.395,
            5.2620000000000005,
            5.138999999999999,
            5.63,
            5.609,
            5.569,
            5.412000000000001
           ]
          },
          {
           "axis": {
            "matches": true
           },
           "label": "width of kernel",
           "values": [
            3.312,
            3.333,
            3.3369999999999997,
            3.3789999999999996,
            3.562,
            3.312,
            3.259,
            3.302,
            3.465,
            3.505,
            3.242,
            3.201,
            3.199,
            3.156,
            3.114,
            3.333,
            3.383,
            3.514,
            3.466,
            3.049,
            3.1289999999999996,
            3.168,
            3.5069999999999997,
            2.9360000000000004,
            3.245,
            3.4210000000000003,
            3.0260000000000002,
            2.9560000000000004,
            3.221,
            3.065,
            2.975,
            3.3710000000000004,
            3.1860000000000004,
            3.15,
            3.3280000000000003,
            3.485,
            3.464,
            3.6830000000000003,
            3.2880000000000003,
            3.298,
            3.156,
            3.158,
            3.201,
            3.3960000000000004,
            3.4619999999999997,
            3.155,
            3.3930000000000002,
            3.377,
            3.2910000000000004,
            3.258,
            3.272,
            3.4339999999999997,
            3.113,
            3.199,
            3.113,
            3.2119999999999997,
            3.377,
            3.412,
            3.4189999999999996,
            3.032,
            2.85,
            2.8789999999999996,
            3.042,
            3.07,
            3.0260000000000002,
            3.1189999999999998,
            3.19,
            3.158,
            3.153,
            2.8819999999999997
           ]
          },
          {
           "axis": {
            "matches": true
           },
           "label": "asymmetry coefficient",
           "values": [
            2.221,
            1.018,
            2.699,
            2.259,
            1.355,
            2.4619999999999997,
            3.5860000000000003,
            2.7,
            2.04,
            1.969,
            4.543,
            1.7169999999999999,
            3.986,
            3.136,
            2.932,
            4.185,
            5.234,
            1.599,
            1.767,
            4.102,
            3.072,
            2.688,
            0.7651,
            1.415,
            1.791,
            0.903,
            3.373,
            2.504,
            2.7539999999999996,
            3.531,
            0.8551,
            3.412,
            3.92,
            2.124,
            2.129,
            2.27,
            2.823,
            2.9560000000000004,
            3.112,
            6.685,
            2.5869999999999997,
            2.249,
            2.461,
            4.711,
            3.128,
            1.56,
            1.367,
            2.958,
            2.7039999999999997,
            2.129,
            3.975,
            5.593,
            4.1160000000000005,
            3.3280000000000003,
            1.4809999999999999,
            1.933,
            2.802,
            1.1420000000000001,
            1.999,
            1.5019999999999998,
            2.7,
            2.269,
            3.22,
            4.157,
            1.176,
            2.352,
            1.3130000000000002,
            2.217,
            1.464,
            3.533
           ]
          },
          {
           "axis": {
            "matches": true
           },
           "label": "length of kernel groove",
           "values": [
            5.22,
            4.956,
            4.825,
            4.805,
            5.175,
            4.956,
            5.218999999999999,
            5,
            5.877000000000001,
            5.5329999999999995,
            5.314,
            5.001,
            4.738,
            4.872,
            4.825,
            4.781000000000001,
            4.781000000000001,
            5.046,
            4.649,
            4.914,
            5.176,
            5.218999999999999,
            5.091,
            4.961,
            5.001,
            5.307,
            4.825,
            4.869,
            5.038,
            5.0969999999999995,
            5.056,
            5.228,
            5.2989999999999995,
            5.012,
            5.36,
            5.443,
            5.527,
            5.484,
            5.309,
            5.001,
            5.178,
            5.176,
            4.783,
            5.528,
            5.18,
            4.961,
            5.132000000000001,
            5.175,
            5.111000000000001,
            5.351,
            5.144,
            5.136,
            5.396,
            5.224,
            5.487,
            5.439,
            5.044,
            5.088,
            5.222,
            4.519,
            4.607,
            4.703,
            4.605,
            5.088,
            4.782,
            4.607,
            5.15,
            5.132000000000001,
            5.3,
            5.067
           ]
          }
         ],
         "hovertemplate": "<b>%{hovertext}</b><br><br>type=Kama<br>%{xaxis.title.text}=%{x}<br>%{yaxis.title.text}=%{y}<extra></extra>",
         "hovertext": [
          0,
          1,
          2,
          3,
          4,
          5,
          6,
          7,
          8,
          9,
          10,
          11,
          12,
          13,
          14,
          15,
          16,
          17,
          18,
          19,
          20,
          21,
          22,
          23,
          24,
          25,
          26,
          27,
          28,
          29,
          30,
          31,
          32,
          33,
          34,
          35,
          36,
          37,
          38,
          39,
          40,
          41,
          42,
          43,
          44,
          45,
          46,
          47,
          48,
          49,
          50,
          51,
          52,
          53,
          54,
          55,
          56,
          57,
          58,
          59,
          60,
          61,
          62,
          63,
          64,
          65,
          66,
          67,
          68,
          69
         ],
         "legendgroup": "Kama",
         "marker": {
          "color": "#636efa",
          "opacity": 0.8,
          "symbol": "circle"
         },
         "name": "Kama",
         "showlegend": true,
         "type": "splom"
        },
        {
         "dimensions": [
          {
           "axis": {
            "matches": true
           },
           "label": "area A",
           "values": [
            17.63,
            16.84,
            17.26,
            19.11,
            16.82,
            16.77,
            17.32,
            20.71,
            18.94,
            17.12,
            16.53,
            18.72,
            20.2,
            19.57,
            19.51,
            18.27,
            18.88,
            18.98,
            21.18,
            20.88,
            20.1,
            18.76,
            18.81,
            18.59,
            18.36,
            16.87,
            19.31,
            18.98,
            18.17,
            18.72,
            16.41,
            17.99,
            19.46,
            19.18,
            18.95,
            18.83,
            18.85,
            17.63,
            19.94,
            18.55,
            18.45,
            19.38,
            19.13,
            19.14,
            20.97,
            19.06,
            18.96,
            19.15,
            18.89,
            20.03,
            20.24,
            18.14,
            16.17,
            18.43,
            15.99,
            18.75,
            18.65,
            17.98,
            20.16,
            17.55,
            18.3,
            18.94,
            15.38,
            16.16,
            15.56,
            15.38,
            17.36,
            15.57,
            15.6,
            16.23
           ]
          },
          {
           "axis": {
            "matches": true
           },
           "label": "perimeter P",
           "values": [
            15.98,
            15.67,
            15.73,
            16.26,
            15.51,
            15.62,
            15.91,
            17.23,
            16.49,
            15.55,
            15.34,
            16.19,
            16.89,
            16.74,
            16.71,
            16.09,
            16.26,
            16.66,
            17.21,
            17.05,
            16.99,
            16.2,
            16.29,
            16.05,
            16.52,
            15.65,
            16.59,
            16.57,
            16.26,
            16.34,
            15.25,
            15.86,
            16.5,
            16.63,
            16.42,
            16.29,
            16.17,
            15.86,
            16.92,
            16.22,
            16.12,
            16.72,
            16.31,
            16.61,
            17.25,
            16.45,
            16.2,
            16.45,
            16.23,
            16.9,
            16.91,
            16.12,
            15.38,
            15.97,
            14.89,
            16.18,
            16.41,
            15.85,
            17.03,
            15.66,
            15.89,
            16.32,
            14.9,
            15.33,
            14.89,
            14.66,
            15.76,
            15.15,
            15.11,
            15.18
           ]
          },
          {
           "axis": {
            "matches": true
           },
           "label": "compactness C",
           "values": [
            0.8673,
            0.8623,
            0.8763,
            0.9081,
            0.8786,
            0.8638,
            0.8599,
            0.8763,
            0.875,
            0.8892,
            0.8823,
            0.8977,
            0.8894,
            0.8779,
            0.878,
            0.887,
            0.8969,
            0.8590000000000001,
            0.8989,
            0.9031,
            0.8746,
            0.8984,
            0.8906,
            0.9066,
            0.8452,
            0.8648,
            0.8815,
            0.8687,
            0.8637,
            0.8809999999999999,
            0.8866,
            0.8992,
            0.8985,
            0.8717,
            0.8829,
            0.8917,
            0.9056,
            0.88,
            0.8752,
            0.8865,
            0.8921,
            0.8716,
            0.9035,
            0.8722,
            0.8859,
            0.8854,
            0.9077,
            0.889,
            0.9008,
            0.8811,
            0.8897,
            0.8772,
            0.8588,
            0.9077,
            0.9064,
            0.8999,
            0.8698,
            0.8993,
            0.8735,
            0.8991,
            0.9108,
            0.8942,
            0.8706,
            0.8644,
            0.8823,
            0.899,
            0.8785,
            0.8527,
            0.858,
            0.885
           ]
          },
          {
           "axis": {
            "matches": true
           },
           "label": "length of kernel",
           "values": [
            6.191,
            5.997999999999999,
            5.978,
            6.154,
            6.017,
            5.9270000000000005,
            6.064,
            6.579,
            6.445,
            5.85,
            5.875,
            6.006,
            6.285,
            6.3839999999999995,
            6.3660000000000005,
            6.172999999999999,
            6.084,
            6.5489999999999995,
            6.5729999999999995,
            6.45,
            6.581,
            6.172000000000001,
            6.272,
            6.037000000000001,
            6.666,
            6.138999999999999,
            6.341,
            6.449,
            6.271,
            6.218999999999999,
            5.718,
            5.89,
            6.1129999999999995,
            6.369,
            6.247999999999999,
            6.037000000000001,
            6.152,
            6.0329999999999995,
            6.675,
            6.153,
            6.107,
            6.303,
            6.183,
            6.2589999999999995,
            6.563,
            6.416,
            6.051,
            6.245,
            6.227,
            6.492999999999999,
            6.315,
            6.059,
            5.7620000000000005,
            5.98,
            5.3629999999999995,
            6.111000000000001,
            6.285,
            5.979,
            6.513,
            5.791,
            5.979,
            6.144,
            5.8839999999999995,
            5.845,
            5.776,
            5.477,
            6.145,
            5.92,
            5.832000000000001,
            5.872000000000001
           ]
          },
          {
           "axis": {
            "matches": true
           },
           "label": "width of kernel",
           "values": [
            3.5610000000000004,
            3.484,
            3.594,
            3.93,
            3.486,
            3.438,
            3.403,
            3.8139999999999996,
            3.639,
            3.5660000000000003,
            3.467,
            3.8569999999999998,
            3.864,
            3.772,
            3.801,
            3.6510000000000002,
            3.764,
            3.67,
            4.033,
            4.032,
            3.785,
            3.7960000000000003,
            3.693,
            3.86,
            3.485,
            3.463,
            3.81,
            3.552,
            3.512,
            3.6839999999999997,
            3.525,
            3.694,
            3.892,
            3.681,
            3.755,
            3.786,
            3.806,
            3.573,
            3.763,
            3.674,
            3.7689999999999997,
            3.7910000000000004,
            3.9019999999999997,
            3.737,
            3.991,
            3.719,
            3.897,
            3.815,
            3.7689999999999997,
            3.8569999999999998,
            3.9619999999999997,
            3.563,
            3.387,
            3.7710000000000004,
            3.582,
            3.8689999999999998,
            3.594,
            3.687,
            3.773,
            3.69,
            3.755,
            3.825,
            3.2680000000000002,
            3.395,
            3.408,
            3.465,
            3.574,
            3.2310000000000003,
            3.286,
            3.472
           ]
          },
          {
           "axis": {
            "matches": true
           },
           "label": "asymmetry coefficient",
           "values": [
            4.0760000000000005,
            4.675,
            4.539,
            2.9360000000000004,
            4.004,
            4.92,
            3.824,
            4.4510000000000005,
            5.064,
            2.858,
            5.532,
            5.324,
            5.172999999999999,
            1.472,
            2.9619999999999997,
            2.443,
            1.649,
            3.6910000000000003,
            5.78,
            5.016,
            1.955,
            3.12,
            3.237,
            6.001,
            4.933,
            3.696,
            3.477,
            2.144,
            2.853,
            2.188,
            4.217,
            2.068,
            4.308,
            3.3569999999999998,
            3.3680000000000003,
            2.553,
            2.843,
            3.747,
            3.252,
            1.7380000000000002,
            2.235,
            3.678,
            2.109,
            6.682,
            4.677,
            2.248,
            4.334,
            3.0839999999999996,
            3.639,
            3.063,
            5.901,
            3.6189999999999998,
            4.2860000000000005,
            2.984,
            3.3360000000000003,
            4.188,
            4.391,
            2.2569999999999997,
            1.91,
            5.3660000000000005,
            2.8369999999999997,
            2.908,
            4.462,
            4.266,
            4.9719999999999995,
            3.6,
            3.5260000000000002,
            2.64,
            2.725,
            3.7689999999999997
           ]
          },
          {
           "axis": {
            "matches": true
           },
           "label": "length of kernel groove",
           "values": [
            6.06,
            5.877000000000001,
            5.791,
            6.079,
            5.841,
            5.795,
            5.922000000000001,
            6.4510000000000005,
            6.362,
            5.746,
            5.88,
            5.879,
            6.187,
            6.273,
            6.185,
            6.197,
            6.109,
            6.497999999999999,
            6.231,
            6.321000000000001,
            6.449,
            6.053,
            6.053,
            5.877000000000001,
            6.4479999999999995,
            5.9670000000000005,
            6.2379999999999995,
            6.452999999999999,
            6.273,
            6.097,
            5.617999999999999,
            5.837000000000001,
            6.0089999999999995,
            6.229,
            6.148,
            5.879,
            6.2,
            5.928999999999999,
            6.55,
            5.894,
            5.794,
            5.965,
            5.9239999999999995,
            6.053,
            6.316,
            6.162999999999999,
            5.75,
            6.185,
            5.966,
            6.32,
            6.188,
            6.011,
            5.702999999999999,
            5.905,
            5.144,
            5.992000000000001,
            6.102,
            5.919,
            6.185,
            5.6610000000000005,
            5.962000000000001,
            5.949,
            5.795,
            5.795,
            5.847,
            5.439,
            5.971,
            5.879,
            5.752000000000001,
            5.922000000000001
           ]
          }
         ],
         "hovertemplate": "<b>%{hovertext}</b><br><br>type=Rosa<br>%{xaxis.title.text}=%{x}<br>%{yaxis.title.text}=%{y}<extra></extra>",
         "hovertext": [
          70,
          71,
          72,
          73,
          74,
          75,
          76,
          77,
          78,
          79,
          80,
          81,
          82,
          83,
          84,
          85,
          86,
          87,
          88,
          89,
          90,
          91,
          92,
          93,
          94,
          95,
          96,
          97,
          98,
          99,
          100,
          101,
          102,
          103,
          104,
          105,
          106,
          107,
          108,
          109,
          110,
          111,
          112,
          113,
          114,
          115,
          116,
          117,
          118,
          119,
          120,
          121,
          122,
          123,
          124,
          125,
          126,
          127,
          128,
          129,
          130,
          131,
          132,
          133,
          134,
          135,
          136,
          137,
          138,
          139
         ],
         "legendgroup": "Rosa",
         "marker": {
          "color": "#EF553B",
          "opacity": 0.8,
          "symbol": "circle"
         },
         "name": "Rosa",
         "showlegend": true,
         "type": "splom"
        },
        {
         "dimensions": [
          {
           "axis": {
            "matches": true
           },
           "label": "area A",
           "values": [
            13.07,
            13.32,
            13.34,
            12.22,
            11.82,
            11.21,
            11.43,
            12.49,
            12.7,
            10.79,
            11.83,
            12.01,
            12.26,
            11.18,
            11.36,
            11.19,
            11.34,
            12.13,
            11.75,
            11.49,
            12.54,
            12.02,
            12.05,
            12.55,
            11.14,
            12.1,
            12.44,
            12.15,
            11.35,
            11.24,
            11.02,
            11.55,
            11.27,
            11.4,
            10.83,
            10.8,
            11.26,
            10.74,
            11.48,
            12.21,
            11.41,
            12.46,
            12.19,
            11.65,
            12.89,
            11.56,
            11.81,
            10.91,
            11.23,
            10.59,
            10.93,
            11.27,
            11.87,
            10.82,
            12.11,
            12.8,
            12.79,
            13.37,
            12.62,
            12.76,
            12.38,
            12.67,
            11.18,
            12.7,
            12.37,
            12.19,
            11.23,
            13.2,
            11.84,
            12.3
           ]
          },
          {
           "axis": {
            "matches": true
           },
           "label": "perimeter P",
           "values": [
            13.92,
            13.94,
            13.95,
            13.32,
            13.4,
            13.13,
            13.13,
            13.46,
            13.71,
            12.93,
            13.23,
            13.52,
            13.6,
            13.04,
            13.05,
            13.05,
            12.87,
            13.73,
            13.52,
            13.22,
            13.67,
            13.33,
            13.41,
            13.57,
            12.79,
            13.15,
            13.59,
            13.45,
            13.12,
            13,
            13,
            13.1,
            12.97,
            13.08,
            12.96,
            12.57,
            13.01,
            12.73,
            13.05,
            13.47,
            12.95,
            13.41,
            13.36,
            13.07,
            13.77,
            13.31,
            13.45,
            12.8,
            12.82,
            12.41,
            12.8,
            12.86,
            13.02,
            12.83,
            13.27,
            13.47,
            13.53,
            13.78,
            13.67,
            13.38,
            13.44,
            13.32,
            12.72,
            13.41,
            13.47,
            13.2,
            12.88,
            13.66,
            13.21,
            13.34
           ]
          },
          {
           "axis": {
            "matches": true
           },
           "label": "compactness C",
           "values": [
            0.848,
            0.8613,
            0.862,
            0.8652,
            0.8274,
            0.8167,
            0.8335,
            0.8658,
            0.8491,
            0.8107,
            0.8496,
            0.8249,
            0.8333,
            0.8266,
            0.8382,
            0.8253,
            0.8596,
            0.8081,
            0.8082,
            0.8263,
            0.8425,
            0.8503,
            0.8416,
            0.8558,
            0.8558,
            0.8793,
            0.8462,
            0.8443,
            0.8291,
            0.8359,
            0.8189,
            0.8455,
            0.8419,
            0.8375,
            0.8099,
            0.8590000000000001,
            0.8355,
            0.8329,
            0.8473,
            0.8453,
            0.856,
            0.8706,
            0.8579,
            0.8575,
            0.8541,
            0.8198,
            0.8198,
            0.8372,
            0.8594,
            0.8648,
            0.8390000000000001,
            0.8563,
            0.8795,
            0.8256,
            0.8639,
            0.8859999999999999,
            0.8786,
            0.8849,
            0.8481,
            0.8964,
            0.8609,
            0.8977,
            0.868,
            0.8874,
            0.8567,
            0.8783,
            0.8511,
            0.8883,
            0.8521,
            0.8684
           ]
          },
          {
           "axis": {
            "matches": true
           },
           "label": "length of kernel",
           "values": [
            5.472,
            5.541,
            5.388999999999999,
            5.224,
            5.314,
            5.279,
            5.176,
            5.267,
            5.386,
            5.317,
            5.263,
            5.405,
            5.4079999999999995,
            5.22,
            5.175,
            5.25,
            5.053,
            5.394,
            5.444,
            5.303999999999999,
            5.4510000000000005,
            5.35,
            5.267,
            5.332999999999999,
            5.011,
            5.105,
            5.319,
            5.417000000000001,
            5.176,
            5.09,
            5.325,
            5.167000000000001,
            5.088,
            5.136,
            5.278,
            4.981,
            5.186,
            5.145,
            5.18,
            5.357,
            5.09,
            5.236000000000001,
            5.24,
            5.1080000000000005,
            5.495,
            5.3629999999999995,
            5.412999999999999,
            5.088,
            5.0889999999999995,
            4.899,
            5.046,
            5.091,
            5.132000000000001,
            5.18,
            5.236000000000001,
            5.16,
            5.224,
            5.32,
            5.41,
            5.073,
            5.218999999999999,
            4.984,
            5.0089999999999995,
            5.183,
            5.204,
            5.1370000000000005,
            5.14,
            5.236000000000001,
            5.175,
            5.242999999999999
           ]
          },
          {
           "axis": {
            "matches": true
           },
           "label": "width of kernel",
           "values": [
            2.9939999999999998,
            3.073,
            3.074,
            2.967,
            2.7769999999999997,
            2.687,
            2.719,
            2.967,
            2.911,
            2.648,
            2.84,
            2.7760000000000002,
            2.833,
            2.693,
            2.755,
            2.675,
            2.8489999999999998,
            2.745,
            2.678,
            2.695,
            2.8789999999999996,
            2.81,
            2.847,
            2.968,
            2.7939999999999996,
            2.9410000000000003,
            2.897,
            2.8369999999999997,
            2.668,
            2.715,
            2.701,
            2.845,
            2.763,
            2.763,
            2.641,
            2.821,
            2.71,
            2.642,
            2.758,
            2.8930000000000002,
            2.775,
            3.017,
            2.909,
            2.85,
            3.0260000000000002,
            2.6830000000000003,
            2.716,
            2.675,
            2.821,
            2.787,
            2.717,
            2.804,
            2.9530000000000003,
            2.63,
            2.975,
            3.1260000000000003,
            3.054,
            3.128,
            2.911,
            3.155,
            2.989,
            3.135,
            2.81,
            3.091,
            2.96,
            2.9810000000000003,
            2.795,
            3.2319999999999998,
            2.8360000000000003,
            2.9739999999999998
           ]
          },
          {
           "axis": {
            "matches": true
           },
           "label": "asymmetry coefficient",
           "values": [
            5.303999999999999,
            7.035,
            5.995,
            5.468999999999999,
            4.471,
            6.169,
            2.221,
            4.421,
            3.26,
            5.462000000000001,
            5.195,
            6.992000000000001,
            4.756,
            3.332,
            4.048,
            5.813,
            3.347,
            4.825,
            4.378,
            5.388,
            3.082,
            4.271,
            4.988,
            4.419,
            6.388,
            2.201,
            4.9239999999999995,
            3.638,
            4.337,
            3.5210000000000004,
            6.735,
            6.715,
            4.309,
            5.587999999999999,
            5.182,
            4.773,
            5.335,
            4.702,
            5.876,
            1.661,
            4.957,
            4.987,
            4.857,
            5.209,
            6.185,
            4.062,
            4.898,
            4.178999999999999,
            7.524,
            4.975,
            5.398,
            3.985,
            3.597,
            4.853,
            4.132,
            4.873,
            5.483,
            4.67,
            3.306,
            2.8280000000000003,
            5.472,
            2.3,
            4.051,
            8.456,
            3.9189999999999996,
            3.6310000000000002,
            4.325,
            8.315,
            3.5980000000000003,
            5.6370000000000005
           ]
          },
          {
           "axis": {
            "matches": true
           },
           "label": "length of kernel groove",
           "values": [
            5.395,
            5.44,
            5.307,
            5.221,
            5.178,
            5.275,
            5.132000000000001,
            5.002,
            5.316,
            5.194,
            5.307,
            5.27,
            5.36,
            5.001,
            5.263,
            5.218999999999999,
            5.003,
            5.22,
            5.31,
            5.31,
            5.4910000000000005,
            5.308,
            5.046,
            5.176,
            5.0489999999999995,
            5.056,
            5.27,
            5.337999999999999,
            5.132000000000001,
            5.088,
            5.162999999999999,
            4.956,
            5,
            5.0889999999999995,
            5.185,
            5.063,
            5.092,
            4.963,
            5.002,
            5.178,
            4.825,
            5.147,
            5.1579999999999995,
            5.135,
            5.316,
            5.182,
            5.352,
            4.956,
            4.957,
            4.794,
            5.045,
            5.001,
            5.132000000000001,
            5.0889999999999995,
            5.012,
            4.914,
            4.958,
            5.091,
            5.231,
            4.83,
            5.045,
            4.745,
            4.828,
            5,
            5.001,
            4.87,
            5.003,
            5.056,
            5.044,
            5.063
           ]
          }
         ],
         "hovertemplate": "<b>%{hovertext}</b><br><br>type=Canadian<br>%{xaxis.title.text}=%{x}<br>%{yaxis.title.text}=%{y}<extra></extra>",
         "hovertext": [
          140,
          141,
          142,
          143,
          144,
          145,
          146,
          147,
          148,
          149,
          150,
          151,
          152,
          153,
          154,
          155,
          156,
          157,
          158,
          159,
          160,
          161,
          162,
          163,
          164,
          165,
          166,
          167,
          168,
          169,
          170,
          171,
          172,
          173,
          174,
          175,
          176,
          177,
          178,
          179,
          180,
          181,
          182,
          183,
          184,
          185,
          186,
          187,
          188,
          189,
          190,
          191,
          192,
          193,
          194,
          195,
          196,
          197,
          198,
          199,
          200,
          201,
          202,
          203,
          204,
          205,
          206,
          207,
          208,
          209
         ],
         "legendgroup": "Canadian",
         "marker": {
          "color": "#00cc96",
          "opacity": 0.8,
          "symbol": "circle"
         },
         "name": "Canadian",
         "showlegend": true,
         "type": "splom"
        }
       ],
       "layout": {
        "dragmode": "select",
        "height": 1000,
        "legend": {
         "title": {
          "text": "type"
         },
         "tracegroupgap": 0
        },
        "margin": {
         "t": 60
        },
        "template": {
         "data": {
          "bar": [
           {
            "error_x": {
             "color": "#2a3f5f"
            },
            "error_y": {
             "color": "#2a3f5f"
            },
            "marker": {
             "line": {
              "color": "#E5ECF6",
              "width": 0.5
             }
            },
            "type": "bar"
           }
          ],
          "barpolar": [
           {
            "marker": {
             "line": {
              "color": "#E5ECF6",
              "width": 0.5
             }
            },
            "type": "barpolar"
           }
          ],
          "carpet": [
           {
            "aaxis": {
             "endlinecolor": "#2a3f5f",
             "gridcolor": "white",
             "linecolor": "white",
             "minorgridcolor": "white",
             "startlinecolor": "#2a3f5f"
            },
            "baxis": {
             "endlinecolor": "#2a3f5f",
             "gridcolor": "white",
             "linecolor": "white",
             "minorgridcolor": "white",
             "startlinecolor": "#2a3f5f"
            },
            "type": "carpet"
           }
          ],
          "choropleth": [
           {
            "colorbar": {
             "outlinewidth": 0,
             "ticks": ""
            },
            "type": "choropleth"
           }
          ],
          "contour": [
           {
            "colorbar": {
             "outlinewidth": 0,
             "ticks": ""
            },
            "colorscale": [
             [
              0,
              "#0d0887"
             ],
             [
              0.1111111111111111,
              "#46039f"
             ],
             [
              0.2222222222222222,
              "#7201a8"
             ],
             [
              0.3333333333333333,
              "#9c179e"
             ],
             [
              0.4444444444444444,
              "#bd3786"
             ],
             [
              0.5555555555555556,
              "#d8576b"
             ],
             [
              0.6666666666666666,
              "#ed7953"
             ],
             [
              0.7777777777777778,
              "#fb9f3a"
             ],
             [
              0.8888888888888888,
              "#fdca26"
             ],
             [
              1,
              "#f0f921"
             ]
            ],
            "type": "contour"
           }
          ],
          "contourcarpet": [
           {
            "colorbar": {
             "outlinewidth": 0,
             "ticks": ""
            },
            "type": "contourcarpet"
           }
          ],
          "heatmap": [
           {
            "colorbar": {
             "outlinewidth": 0,
             "ticks": ""
            },
            "colorscale": [
             [
              0,
              "#0d0887"
             ],
             [
              0.1111111111111111,
              "#46039f"
             ],
             [
              0.2222222222222222,
              "#7201a8"
             ],
             [
              0.3333333333333333,
              "#9c179e"
             ],
             [
              0.4444444444444444,
              "#bd3786"
             ],
             [
              0.5555555555555556,
              "#d8576b"
             ],
             [
              0.6666666666666666,
              "#ed7953"
             ],
             [
              0.7777777777777778,
              "#fb9f3a"
             ],
             [
              0.8888888888888888,
              "#fdca26"
             ],
             [
              1,
              "#f0f921"
             ]
            ],
            "type": "heatmap"
           }
          ],
          "heatmapgl": [
           {
            "colorbar": {
             "outlinewidth": 0,
             "ticks": ""
            },
            "colorscale": [
             [
              0,
              "#0d0887"
             ],
             [
              0.1111111111111111,
              "#46039f"
             ],
             [
              0.2222222222222222,
              "#7201a8"
             ],
             [
              0.3333333333333333,
              "#9c179e"
             ],
             [
              0.4444444444444444,
              "#bd3786"
             ],
             [
              0.5555555555555556,
              "#d8576b"
             ],
             [
              0.6666666666666666,
              "#ed7953"
             ],
             [
              0.7777777777777778,
              "#fb9f3a"
             ],
             [
              0.8888888888888888,
              "#fdca26"
             ],
             [
              1,
              "#f0f921"
             ]
            ],
            "type": "heatmapgl"
           }
          ],
          "histogram": [
           {
            "marker": {
             "colorbar": {
              "outlinewidth": 0,
              "ticks": ""
             }
            },
            "type": "histogram"
           }
          ],
          "histogram2d": [
           {
            "colorbar": {
             "outlinewidth": 0,
             "ticks": ""
            },
            "colorscale": [
             [
              0,
              "#0d0887"
             ],
             [
              0.1111111111111111,
              "#46039f"
             ],
             [
              0.2222222222222222,
              "#7201a8"
             ],
             [
              0.3333333333333333,
              "#9c179e"
             ],
             [
              0.4444444444444444,
              "#bd3786"
             ],
             [
              0.5555555555555556,
              "#d8576b"
             ],
             [
              0.6666666666666666,
              "#ed7953"
             ],
             [
              0.7777777777777778,
              "#fb9f3a"
             ],
             [
              0.8888888888888888,
              "#fdca26"
             ],
             [
              1,
              "#f0f921"
             ]
            ],
            "type": "histogram2d"
           }
          ],
          "histogram2dcontour": [
           {
            "colorbar": {
             "outlinewidth": 0,
             "ticks": ""
            },
            "colorscale": [
             [
              0,
              "#0d0887"
             ],
             [
              0.1111111111111111,
              "#46039f"
             ],
             [
              0.2222222222222222,
              "#7201a8"
             ],
             [
              0.3333333333333333,
              "#9c179e"
             ],
             [
              0.4444444444444444,
              "#bd3786"
             ],
             [
              0.5555555555555556,
              "#d8576b"
             ],
             [
              0.6666666666666666,
              "#ed7953"
             ],
             [
              0.7777777777777778,
              "#fb9f3a"
             ],
             [
              0.8888888888888888,
              "#fdca26"
             ],
             [
              1,
              "#f0f921"
             ]
            ],
            "type": "histogram2dcontour"
           }
          ],
          "mesh3d": [
           {
            "colorbar": {
             "outlinewidth": 0,
             "ticks": ""
            },
            "type": "mesh3d"
           }
          ],
          "parcoords": [
           {
            "line": {
             "colorbar": {
              "outlinewidth": 0,
              "ticks": ""
             }
            },
            "type": "parcoords"
           }
          ],
          "pie": [
           {
            "automargin": true,
            "type": "pie"
           }
          ],
          "scatter": [
           {
            "marker": {
             "colorbar": {
              "outlinewidth": 0,
              "ticks": ""
             }
            },
            "type": "scatter"
           }
          ],
          "scatter3d": [
           {
            "line": {
             "colorbar": {
              "outlinewidth": 0,
              "ticks": ""
             }
            },
            "marker": {
             "colorbar": {
              "outlinewidth": 0,
              "ticks": ""
             }
            },
            "type": "scatter3d"
           }
          ],
          "scattercarpet": [
           {
            "marker": {
             "colorbar": {
              "outlinewidth": 0,
              "ticks": ""
             }
            },
            "type": "scattercarpet"
           }
          ],
          "scattergeo": [
           {
            "marker": {
             "colorbar": {
              "outlinewidth": 0,
              "ticks": ""
             }
            },
            "type": "scattergeo"
           }
          ],
          "scattergl": [
           {
            "marker": {
             "colorbar": {
              "outlinewidth": 0,
              "ticks": ""
             }
            },
            "type": "scattergl"
           }
          ],
          "scattermapbox": [
           {
            "marker": {
             "colorbar": {
              "outlinewidth": 0,
              "ticks": ""
             }
            },
            "type": "scattermapbox"
           }
          ],
          "scatterpolar": [
           {
            "marker": {
             "colorbar": {
              "outlinewidth": 0,
              "ticks": ""
             }
            },
            "type": "scatterpolar"
           }
          ],
          "scatterpolargl": [
           {
            "marker": {
             "colorbar": {
              "outlinewidth": 0,
              "ticks": ""
             }
            },
            "type": "scatterpolargl"
           }
          ],
          "scatterternary": [
           {
            "marker": {
             "colorbar": {
              "outlinewidth": 0,
              "ticks": ""
             }
            },
            "type": "scatterternary"
           }
          ],
          "surface": [
           {
            "colorbar": {
             "outlinewidth": 0,
             "ticks": ""
            },
            "colorscale": [
             [
              0,
              "#0d0887"
             ],
             [
              0.1111111111111111,
              "#46039f"
             ],
             [
              0.2222222222222222,
              "#7201a8"
             ],
             [
              0.3333333333333333,
              "#9c179e"
             ],
             [
              0.4444444444444444,
              "#bd3786"
             ],
             [
              0.5555555555555556,
              "#d8576b"
             ],
             [
              0.6666666666666666,
              "#ed7953"
             ],
             [
              0.7777777777777778,
              "#fb9f3a"
             ],
             [
              0.8888888888888888,
              "#fdca26"
             ],
             [
              1,
              "#f0f921"
             ]
            ],
            "type": "surface"
           }
          ],
          "table": [
           {
            "cells": {
             "fill": {
              "color": "#EBF0F8"
             },
             "line": {
              "color": "white"
             }
            },
            "header": {
             "fill": {
              "color": "#C8D4E3"
             },
             "line": {
              "color": "white"
             }
            },
            "type": "table"
           }
          ]
         },
         "layout": {
          "annotationdefaults": {
           "arrowcolor": "#2a3f5f",
           "arrowhead": 0,
           "arrowwidth": 1
          },
          "coloraxis": {
           "colorbar": {
            "outlinewidth": 0,
            "ticks": ""
           }
          },
          "colorscale": {
           "diverging": [
            [
             0,
             "#8e0152"
            ],
            [
             0.1,
             "#c51b7d"
            ],
            [
             0.2,
             "#de77ae"
            ],
            [
             0.3,
             "#f1b6da"
            ],
            [
             0.4,
             "#fde0ef"
            ],
            [
             0.5,
             "#f7f7f7"
            ],
            [
             0.6,
             "#e6f5d0"
            ],
            [
             0.7,
             "#b8e186"
            ],
            [
             0.8,
             "#7fbc41"
            ],
            [
             0.9,
             "#4d9221"
            ],
            [
             1,
             "#276419"
            ]
           ],
           "sequential": [
            [
             0,
             "#0d0887"
            ],
            [
             0.1111111111111111,
             "#46039f"
            ],
            [
             0.2222222222222222,
             "#7201a8"
            ],
            [
             0.3333333333333333,
             "#9c179e"
            ],
            [
             0.4444444444444444,
             "#bd3786"
            ],
            [
             0.5555555555555556,
             "#d8576b"
            ],
            [
             0.6666666666666666,
             "#ed7953"
            ],
            [
             0.7777777777777778,
             "#fb9f3a"
            ],
            [
             0.8888888888888888,
             "#fdca26"
            ],
            [
             1,
             "#f0f921"
            ]
           ],
           "sequentialminus": [
            [
             0,
             "#0d0887"
            ],
            [
             0.1111111111111111,
             "#46039f"
            ],
            [
             0.2222222222222222,
             "#7201a8"
            ],
            [
             0.3333333333333333,
             "#9c179e"
            ],
            [
             0.4444444444444444,
             "#bd3786"
            ],
            [
             0.5555555555555556,
             "#d8576b"
            ],
            [
             0.6666666666666666,
             "#ed7953"
            ],
            [
             0.7777777777777778,
             "#fb9f3a"
            ],
            [
             0.8888888888888888,
             "#fdca26"
            ],
            [
             1,
             "#f0f921"
            ]
           ]
          },
          "colorway": [
           "#636efa",
           "#EF553B",
           "#00cc96",
           "#ab63fa",
           "#FFA15A",
           "#19d3f3",
           "#FF6692",
           "#B6E880",
           "#FF97FF",
           "#FECB52"
          ],
          "font": {
           "color": "#2a3f5f"
          },
          "geo": {
           "bgcolor": "white",
           "lakecolor": "white",
           "landcolor": "#E5ECF6",
           "showlakes": true,
           "showland": true,
           "subunitcolor": "white"
          },
          "hoverlabel": {
           "align": "left"
          },
          "hovermode": "closest",
          "mapbox": {
           "style": "light"
          },
          "paper_bgcolor": "white",
          "plot_bgcolor": "#E5ECF6",
          "polar": {
           "angularaxis": {
            "gridcolor": "white",
            "linecolor": "white",
            "ticks": ""
           },
           "bgcolor": "#E5ECF6",
           "radialaxis": {
            "gridcolor": "white",
            "linecolor": "white",
            "ticks": ""
           }
          },
          "scene": {
           "xaxis": {
            "backgroundcolor": "#E5ECF6",
            "gridcolor": "white",
            "gridwidth": 2,
            "linecolor": "white",
            "showbackground": true,
            "ticks": "",
            "zerolinecolor": "white"
           },
           "yaxis": {
            "backgroundcolor": "#E5ECF6",
            "gridcolor": "white",
            "gridwidth": 2,
            "linecolor": "white",
            "showbackground": true,
            "ticks": "",
            "zerolinecolor": "white"
           },
           "zaxis": {
            "backgroundcolor": "#E5ECF6",
            "gridcolor": "white",
            "gridwidth": 2,
            "linecolor": "white",
            "showbackground": true,
            "ticks": "",
            "zerolinecolor": "white"
           }
          },
          "shapedefaults": {
           "line": {
            "color": "#2a3f5f"
           }
          },
          "ternary": {
           "aaxis": {
            "gridcolor": "white",
            "linecolor": "white",
            "ticks": ""
           },
           "baxis": {
            "gridcolor": "white",
            "linecolor": "white",
            "ticks": ""
           },
           "bgcolor": "#E5ECF6",
           "caxis": {
            "gridcolor": "white",
            "linecolor": "white",
            "ticks": ""
           }
          },
          "title": {
           "x": 0.05
          },
          "xaxis": {
           "automargin": true,
           "gridcolor": "white",
           "linecolor": "white",
           "ticks": "",
           "title": {
            "standoff": 15
           },
           "zerolinecolor": "white",
           "zerolinewidth": 2
          },
          "yaxis": {
           "automargin": true,
           "gridcolor": "white",
           "linecolor": "white",
           "ticks": "",
           "title": {
            "standoff": 15
           },
           "zerolinecolor": "white",
           "zerolinewidth": 2
          }
         }
        }
       }
      },
      "text/html": [
       "<div>\n",
       "        \n",
       "        \n",
       "            <div id=\"93ff918b-4437-442e-856f-9125ffd2eeea\" class=\"plotly-graph-div\" style=\"height:1000px; width:100%;\"></div>\n",
       "            <script type=\"text/javascript\">\n",
       "                require([\"plotly\"], function(Plotly) {\n",
       "                    window.PLOTLYENV=window.PLOTLYENV || {};\n",
       "                    \n",
       "                if (document.getElementById(\"93ff918b-4437-442e-856f-9125ffd2eeea\")) {\n",
       "                    Plotly.newPlot(\n",
       "                        '93ff918b-4437-442e-856f-9125ffd2eeea',\n",
       "                        [{\"dimensions\": [{\"axis\": {\"matches\": true}, \"label\": \"area A\", \"values\": [15.26, 14.88, 14.29, 13.84, 16.14, 14.38, 14.69, 14.11, 16.63, 16.44, 15.26, 14.03, 13.89, 13.78, 13.74, 14.59, 13.99, 15.69, 14.7, 12.72, 14.16, 14.11, 15.88, 12.08, 15.01, 16.19, 13.02, 12.74, 14.11, 13.45, 13.16, 15.49, 14.09, 13.94, 15.05, 16.12, 16.2, 17.08, 14.8, 14.28, 13.54, 13.5, 13.16, 15.5, 15.11, 13.8, 15.36, 14.99, 14.79, 14.86, 14.43, 15.78, 14.49, 14.33, 14.52, 15.03, 14.46, 14.92, 15.38, 12.11, 11.42, 11.23, 12.36, 13.22, 12.78, 12.88, 14.34, 14.01, 14.37, 12.73]}, {\"axis\": {\"matches\": true}, \"label\": \"perimeter P\", \"values\": [14.84, 14.57, 14.09, 13.94, 14.99, 14.21, 14.49, 14.1, 15.46, 15.25, 14.85, 14.16, 14.02, 14.06, 14.05, 14.28, 13.83, 14.75, 14.21, 13.57, 14.4, 14.26, 14.9, 13.23, 14.76, 15.16, 13.76, 13.67, 14.18, 14.02, 13.82, 14.94, 14.41, 14.17, 14.68, 15.0, 15.27, 15.38, 14.52, 14.17, 13.85, 13.85, 13.55, 14.86, 14.54, 14.04, 14.76, 14.56, 14.52, 14.67, 14.4, 14.91, 14.61, 14.28, 14.6, 14.77, 14.35, 14.43, 14.77, 13.47, 12.86, 12.63, 13.19, 13.84, 13.57, 13.5, 14.37, 14.29, 14.39, 13.75]}, {\"axis\": {\"matches\": true}, \"label\": \"compactness C\", \"values\": [0.871, 0.8811, 0.905, 0.8955, 0.9034, 0.8951, 0.8799, 0.8911, 0.8747, 0.888, 0.8696, 0.8796, 0.888, 0.8759, 0.8744, 0.8993, 0.9183, 0.9058, 0.9153, 0.8686, 0.8584, 0.8722, 0.8988, 0.8664, 0.8657, 0.8849, 0.8641, 0.8564, 0.882, 0.8604, 0.8662, 0.8724, 0.8529, 0.8728, 0.8779, 0.9, 0.8734, 0.9079, 0.8823, 0.8944, 0.8871, 0.8852, 0.9009, 0.882, 0.8986, 0.8794, 0.8861, 0.8883, 0.8819, 0.8676, 0.8751, 0.8923, 0.8538, 0.8831, 0.8557, 0.8658, 0.8818, 0.9006, 0.8857, 0.8392, 0.8683, 0.884, 0.8923, 0.868, 0.8716, 0.8879, 0.8726, 0.8625, 0.8726, 0.8458]}, {\"axis\": {\"matches\": true}, \"label\": \"length of kernel\", \"values\": [5.763, 5.553999999999999, 5.291, 5.324, 5.6579999999999995, 5.386, 5.563, 5.42, 6.053, 5.8839999999999995, 5.7139999999999995, 5.438, 5.439, 5.479, 5.482, 5.351, 5.119, 5.527, 5.205, 5.226, 5.6579999999999995, 5.52, 5.617999999999999, 5.099, 5.789, 5.832999999999999, 5.395, 5.395, 5.541, 5.516, 5.454, 5.757000000000001, 5.7170000000000005, 5.585, 5.712000000000001, 5.709, 5.8260000000000005, 5.832000000000001, 5.656000000000001, 5.397, 5.348, 5.351, 5.138, 5.877000000000001, 5.579, 5.376, 5.7010000000000005, 5.57, 5.545, 5.678, 5.585, 5.6739999999999995, 5.715, 5.504, 5.7410000000000005, 5.702000000000001, 5.388, 5.3839999999999995, 5.662000000000001, 5.159, 5.008, 4.902, 5.0760000000000005, 5.395, 5.2620000000000005, 5.138999999999999, 5.63, 5.609, 5.569, 5.412000000000001]}, {\"axis\": {\"matches\": true}, \"label\": \"width of kernel\", \"values\": [3.312, 3.333, 3.3369999999999997, 3.3789999999999996, 3.562, 3.312, 3.259, 3.302, 3.465, 3.505, 3.242, 3.201, 3.199, 3.156, 3.114, 3.333, 3.383, 3.514, 3.466, 3.049, 3.1289999999999996, 3.168, 3.5069999999999997, 2.9360000000000004, 3.245, 3.4210000000000003, 3.0260000000000002, 2.9560000000000004, 3.221, 3.065, 2.975, 3.3710000000000004, 3.1860000000000004, 3.15, 3.3280000000000003, 3.485, 3.464, 3.6830000000000003, 3.2880000000000003, 3.298, 3.156, 3.158, 3.201, 3.3960000000000004, 3.4619999999999997, 3.155, 3.3930000000000002, 3.377, 3.2910000000000004, 3.258, 3.272, 3.4339999999999997, 3.113, 3.199, 3.113, 3.2119999999999997, 3.377, 3.412, 3.4189999999999996, 3.032, 2.85, 2.8789999999999996, 3.042, 3.07, 3.0260000000000002, 3.1189999999999998, 3.19, 3.158, 3.153, 2.8819999999999997]}, {\"axis\": {\"matches\": true}, \"label\": \"asymmetry coefficient\", \"values\": [2.221, 1.018, 2.699, 2.259, 1.355, 2.4619999999999997, 3.5860000000000003, 2.7, 2.04, 1.969, 4.543, 1.7169999999999999, 3.986, 3.136, 2.932, 4.185, 5.234, 1.599, 1.767, 4.102, 3.072, 2.688, 0.7651, 1.415, 1.791, 0.903, 3.373, 2.504, 2.7539999999999996, 3.531, 0.8551, 3.412, 3.92, 2.124, 2.129, 2.27, 2.823, 2.9560000000000004, 3.112, 6.685, 2.5869999999999997, 2.249, 2.461, 4.711, 3.128, 1.56, 1.367, 2.958, 2.7039999999999997, 2.129, 3.975, 5.593, 4.1160000000000005, 3.3280000000000003, 1.4809999999999999, 1.933, 2.802, 1.1420000000000001, 1.999, 1.5019999999999998, 2.7, 2.269, 3.22, 4.157, 1.176, 2.352, 1.3130000000000002, 2.217, 1.464, 3.533]}, {\"axis\": {\"matches\": true}, \"label\": \"length of kernel groove\", \"values\": [5.22, 4.956, 4.825, 4.805, 5.175, 4.956, 5.218999999999999, 5.0, 5.877000000000001, 5.5329999999999995, 5.314, 5.001, 4.738, 4.872, 4.825, 4.781000000000001, 4.781000000000001, 5.046, 4.649, 4.914, 5.176, 5.218999999999999, 5.091, 4.961, 5.001, 5.307, 4.825, 4.869, 5.038, 5.0969999999999995, 5.056, 5.228, 5.2989999999999995, 5.012, 5.36, 5.443, 5.527, 5.484, 5.309, 5.001, 5.178, 5.176, 4.783, 5.528, 5.18, 4.961, 5.132000000000001, 5.175, 5.111000000000001, 5.351, 5.144, 5.136, 5.396, 5.224, 5.487, 5.439, 5.044, 5.088, 5.222, 4.519, 4.607, 4.703, 4.605, 5.088, 4.782, 4.607, 5.15, 5.132000000000001, 5.3, 5.067]}], \"hovertemplate\": \"<b>%{hovertext}</b><br><br>type=Kama<br>%{xaxis.title.text}=%{x}<br>%{yaxis.title.text}=%{y}<extra></extra>\", \"hovertext\": [0.0, 1.0, 2.0, 3.0, 4.0, 5.0, 6.0, 7.0, 8.0, 9.0, 10.0, 11.0, 12.0, 13.0, 14.0, 15.0, 16.0, 17.0, 18.0, 19.0, 20.0, 21.0, 22.0, 23.0, 24.0, 25.0, 26.0, 27.0, 28.0, 29.0, 30.0, 31.0, 32.0, 33.0, 34.0, 35.0, 36.0, 37.0, 38.0, 39.0, 40.0, 41.0, 42.0, 43.0, 44.0, 45.0, 46.0, 47.0, 48.0, 49.0, 50.0, 51.0, 52.0, 53.0, 54.0, 55.0, 56.0, 57.0, 58.0, 59.0, 60.0, 61.0, 62.0, 63.0, 64.0, 65.0, 66.0, 67.0, 68.0, 69.0], \"legendgroup\": \"Kama\", \"marker\": {\"color\": \"#636efa\", \"opacity\": 0.8, \"symbol\": \"circle\"}, \"name\": \"Kama\", \"showlegend\": true, \"type\": \"splom\"}, {\"dimensions\": [{\"axis\": {\"matches\": true}, \"label\": \"area A\", \"values\": [17.63, 16.84, 17.26, 19.11, 16.82, 16.77, 17.32, 20.71, 18.94, 17.12, 16.53, 18.72, 20.2, 19.57, 19.51, 18.27, 18.88, 18.98, 21.18, 20.88, 20.1, 18.76, 18.81, 18.59, 18.36, 16.87, 19.31, 18.98, 18.17, 18.72, 16.41, 17.99, 19.46, 19.18, 18.95, 18.83, 18.85, 17.63, 19.94, 18.55, 18.45, 19.38, 19.13, 19.14, 20.97, 19.06, 18.96, 19.15, 18.89, 20.03, 20.24, 18.14, 16.17, 18.43, 15.99, 18.75, 18.65, 17.98, 20.16, 17.55, 18.3, 18.94, 15.38, 16.16, 15.56, 15.38, 17.36, 15.57, 15.6, 16.23]}, {\"axis\": {\"matches\": true}, \"label\": \"perimeter P\", \"values\": [15.98, 15.67, 15.73, 16.26, 15.51, 15.62, 15.91, 17.23, 16.49, 15.55, 15.34, 16.19, 16.89, 16.74, 16.71, 16.09, 16.26, 16.66, 17.21, 17.05, 16.99, 16.2, 16.29, 16.05, 16.52, 15.65, 16.59, 16.57, 16.26, 16.34, 15.25, 15.86, 16.5, 16.63, 16.42, 16.29, 16.17, 15.86, 16.92, 16.22, 16.12, 16.72, 16.31, 16.61, 17.25, 16.45, 16.2, 16.45, 16.23, 16.9, 16.91, 16.12, 15.38, 15.97, 14.89, 16.18, 16.41, 15.85, 17.03, 15.66, 15.89, 16.32, 14.9, 15.33, 14.89, 14.66, 15.76, 15.15, 15.11, 15.18]}, {\"axis\": {\"matches\": true}, \"label\": \"compactness C\", \"values\": [0.8673, 0.8623, 0.8763, 0.9081, 0.8786, 0.8638, 0.8599, 0.8763, 0.875, 0.8892, 0.8823, 0.8977, 0.8894, 0.8779, 0.878, 0.887, 0.8969, 0.8590000000000001, 0.8989, 0.9031, 0.8746, 0.8984, 0.8906, 0.9066, 0.8452, 0.8648, 0.8815, 0.8687, 0.8637, 0.8809999999999999, 0.8866, 0.8992, 0.8985, 0.8717, 0.8829, 0.8917, 0.9056, 0.88, 0.8752, 0.8865, 0.8921, 0.8716, 0.9035, 0.8722, 0.8859, 0.8854, 0.9077, 0.889, 0.9008, 0.8811, 0.8897, 0.8772, 0.8588, 0.9077, 0.9064, 0.8999, 0.8698, 0.8993, 0.8735, 0.8991, 0.9108, 0.8942, 0.8706, 0.8644, 0.8823, 0.899, 0.8785, 0.8527, 0.858, 0.885]}, {\"axis\": {\"matches\": true}, \"label\": \"length of kernel\", \"values\": [6.191, 5.997999999999999, 5.978, 6.154, 6.017, 5.9270000000000005, 6.064, 6.579, 6.445, 5.85, 5.875, 6.006, 6.285, 6.3839999999999995, 6.3660000000000005, 6.172999999999999, 6.084, 6.5489999999999995, 6.5729999999999995, 6.45, 6.581, 6.172000000000001, 6.272, 6.037000000000001, 6.666, 6.138999999999999, 6.341, 6.449, 6.271, 6.218999999999999, 5.718, 5.89, 6.1129999999999995, 6.369, 6.247999999999999, 6.037000000000001, 6.152, 6.0329999999999995, 6.675, 6.153, 6.107, 6.303, 6.183, 6.2589999999999995, 6.563, 6.416, 6.051, 6.245, 6.227, 6.492999999999999, 6.315, 6.059, 5.7620000000000005, 5.98, 5.3629999999999995, 6.111000000000001, 6.285, 5.979, 6.513, 5.791, 5.979, 6.144, 5.8839999999999995, 5.845, 5.776, 5.477, 6.145, 5.92, 5.832000000000001, 5.872000000000001]}, {\"axis\": {\"matches\": true}, \"label\": \"width of kernel\", \"values\": [3.5610000000000004, 3.484, 3.594, 3.93, 3.486, 3.438, 3.403, 3.8139999999999996, 3.639, 3.5660000000000003, 3.467, 3.8569999999999998, 3.864, 3.772, 3.801, 3.6510000000000002, 3.764, 3.67, 4.033, 4.032, 3.785, 3.7960000000000003, 3.693, 3.86, 3.485, 3.463, 3.81, 3.552, 3.512, 3.6839999999999997, 3.525, 3.694, 3.892, 3.681, 3.755, 3.786, 3.806, 3.573, 3.763, 3.674, 3.7689999999999997, 3.7910000000000004, 3.9019999999999997, 3.737, 3.991, 3.719, 3.897, 3.815, 3.7689999999999997, 3.8569999999999998, 3.9619999999999997, 3.563, 3.387, 3.7710000000000004, 3.582, 3.8689999999999998, 3.594, 3.687, 3.773, 3.69, 3.755, 3.825, 3.2680000000000002, 3.395, 3.408, 3.465, 3.574, 3.2310000000000003, 3.286, 3.472]}, {\"axis\": {\"matches\": true}, \"label\": \"asymmetry coefficient\", \"values\": [4.0760000000000005, 4.675, 4.539, 2.9360000000000004, 4.004, 4.92, 3.824, 4.4510000000000005, 5.064, 2.858, 5.532, 5.324, 5.172999999999999, 1.472, 2.9619999999999997, 2.443, 1.649, 3.6910000000000003, 5.78, 5.016, 1.955, 3.12, 3.237, 6.001, 4.933, 3.696, 3.477, 2.144, 2.853, 2.188, 4.217, 2.068, 4.308, 3.3569999999999998, 3.3680000000000003, 2.553, 2.843, 3.747, 3.252, 1.7380000000000002, 2.235, 3.678, 2.109, 6.682, 4.677, 2.248, 4.334, 3.0839999999999996, 3.639, 3.063, 5.901, 3.6189999999999998, 4.2860000000000005, 2.984, 3.3360000000000003, 4.188, 4.391, 2.2569999999999997, 1.91, 5.3660000000000005, 2.8369999999999997, 2.908, 4.462, 4.266, 4.9719999999999995, 3.6, 3.5260000000000002, 2.64, 2.725, 3.7689999999999997]}, {\"axis\": {\"matches\": true}, \"label\": \"length of kernel groove\", \"values\": [6.06, 5.877000000000001, 5.791, 6.079, 5.841, 5.795, 5.922000000000001, 6.4510000000000005, 6.362, 5.746, 5.88, 5.879, 6.187, 6.273, 6.185, 6.197, 6.109, 6.497999999999999, 6.231, 6.321000000000001, 6.449, 6.053, 6.053, 5.877000000000001, 6.4479999999999995, 5.9670000000000005, 6.2379999999999995, 6.452999999999999, 6.273, 6.097, 5.617999999999999, 5.837000000000001, 6.0089999999999995, 6.229, 6.148, 5.879, 6.2, 5.928999999999999, 6.55, 5.894, 5.794, 5.965, 5.9239999999999995, 6.053, 6.316, 6.162999999999999, 5.75, 6.185, 5.966, 6.32, 6.188, 6.011, 5.702999999999999, 5.905, 5.144, 5.992000000000001, 6.102, 5.919, 6.185, 5.6610000000000005, 5.962000000000001, 5.949, 5.795, 5.795, 5.847, 5.439, 5.971, 5.879, 5.752000000000001, 5.922000000000001]}], \"hovertemplate\": \"<b>%{hovertext}</b><br><br>type=Rosa<br>%{xaxis.title.text}=%{x}<br>%{yaxis.title.text}=%{y}<extra></extra>\", \"hovertext\": [70.0, 71.0, 72.0, 73.0, 74.0, 75.0, 76.0, 77.0, 78.0, 79.0, 80.0, 81.0, 82.0, 83.0, 84.0, 85.0, 86.0, 87.0, 88.0, 89.0, 90.0, 91.0, 92.0, 93.0, 94.0, 95.0, 96.0, 97.0, 98.0, 99.0, 100.0, 101.0, 102.0, 103.0, 104.0, 105.0, 106.0, 107.0, 108.0, 109.0, 110.0, 111.0, 112.0, 113.0, 114.0, 115.0, 116.0, 117.0, 118.0, 119.0, 120.0, 121.0, 122.0, 123.0, 124.0, 125.0, 126.0, 127.0, 128.0, 129.0, 130.0, 131.0, 132.0, 133.0, 134.0, 135.0, 136.0, 137.0, 138.0, 139.0], \"legendgroup\": \"Rosa\", \"marker\": {\"color\": \"#EF553B\", \"opacity\": 0.8, \"symbol\": \"circle\"}, \"name\": \"Rosa\", \"showlegend\": true, \"type\": \"splom\"}, {\"dimensions\": [{\"axis\": {\"matches\": true}, \"label\": \"area A\", \"values\": [13.07, 13.32, 13.34, 12.22, 11.82, 11.21, 11.43, 12.49, 12.7, 10.79, 11.83, 12.01, 12.26, 11.18, 11.36, 11.19, 11.34, 12.13, 11.75, 11.49, 12.54, 12.02, 12.05, 12.55, 11.14, 12.1, 12.44, 12.15, 11.35, 11.24, 11.02, 11.55, 11.27, 11.4, 10.83, 10.8, 11.26, 10.74, 11.48, 12.21, 11.41, 12.46, 12.19, 11.65, 12.89, 11.56, 11.81, 10.91, 11.23, 10.59, 10.93, 11.27, 11.87, 10.82, 12.11, 12.8, 12.79, 13.37, 12.62, 12.76, 12.38, 12.67, 11.18, 12.7, 12.37, 12.19, 11.23, 13.2, 11.84, 12.3]}, {\"axis\": {\"matches\": true}, \"label\": \"perimeter P\", \"values\": [13.92, 13.94, 13.95, 13.32, 13.4, 13.13, 13.13, 13.46, 13.71, 12.93, 13.23, 13.52, 13.6, 13.04, 13.05, 13.05, 12.87, 13.73, 13.52, 13.22, 13.67, 13.33, 13.41, 13.57, 12.79, 13.15, 13.59, 13.45, 13.12, 13.0, 13.0, 13.1, 12.97, 13.08, 12.96, 12.57, 13.01, 12.73, 13.05, 13.47, 12.95, 13.41, 13.36, 13.07, 13.77, 13.31, 13.45, 12.8, 12.82, 12.41, 12.8, 12.86, 13.02, 12.83, 13.27, 13.47, 13.53, 13.78, 13.67, 13.38, 13.44, 13.32, 12.72, 13.41, 13.47, 13.2, 12.88, 13.66, 13.21, 13.34]}, {\"axis\": {\"matches\": true}, \"label\": \"compactness C\", \"values\": [0.848, 0.8613, 0.862, 0.8652, 0.8274, 0.8167, 0.8335, 0.8658, 0.8491, 0.8107, 0.8496, 0.8249, 0.8333, 0.8266, 0.8382, 0.8253, 0.8596, 0.8081, 0.8082, 0.8263, 0.8425, 0.8503, 0.8416, 0.8558, 0.8558, 0.8793, 0.8462, 0.8443, 0.8291, 0.8359, 0.8189, 0.8455, 0.8419, 0.8375, 0.8099, 0.8590000000000001, 0.8355, 0.8329, 0.8473, 0.8453, 0.856, 0.8706, 0.8579, 0.8575, 0.8541, 0.8198, 0.8198, 0.8372, 0.8594, 0.8648, 0.8390000000000001, 0.8563, 0.8795, 0.8256, 0.8639, 0.8859999999999999, 0.8786, 0.8849, 0.8481, 0.8964, 0.8609, 0.8977, 0.868, 0.8874, 0.8567, 0.8783, 0.8511, 0.8883, 0.8521, 0.8684]}, {\"axis\": {\"matches\": true}, \"label\": \"length of kernel\", \"values\": [5.472, 5.541, 5.388999999999999, 5.224, 5.314, 5.279, 5.176, 5.267, 5.386, 5.317, 5.263, 5.405, 5.4079999999999995, 5.22, 5.175, 5.25, 5.053, 5.394, 5.444, 5.303999999999999, 5.4510000000000005, 5.35, 5.267, 5.332999999999999, 5.011, 5.105, 5.319, 5.417000000000001, 5.176, 5.09, 5.325, 5.167000000000001, 5.088, 5.136, 5.278, 4.981, 5.186, 5.145, 5.18, 5.357, 5.09, 5.236000000000001, 5.24, 5.1080000000000005, 5.495, 5.3629999999999995, 5.412999999999999, 5.088, 5.0889999999999995, 4.899, 5.046, 5.091, 5.132000000000001, 5.18, 5.236000000000001, 5.16, 5.224, 5.32, 5.41, 5.073, 5.218999999999999, 4.984, 5.0089999999999995, 5.183, 5.204, 5.1370000000000005, 5.14, 5.236000000000001, 5.175, 5.242999999999999]}, {\"axis\": {\"matches\": true}, \"label\": \"width of kernel\", \"values\": [2.9939999999999998, 3.073, 3.074, 2.967, 2.7769999999999997, 2.687, 2.719, 2.967, 2.911, 2.648, 2.84, 2.7760000000000002, 2.833, 2.693, 2.755, 2.675, 2.8489999999999998, 2.745, 2.678, 2.695, 2.8789999999999996, 2.81, 2.847, 2.968, 2.7939999999999996, 2.9410000000000003, 2.897, 2.8369999999999997, 2.668, 2.715, 2.701, 2.845, 2.763, 2.763, 2.641, 2.821, 2.71, 2.642, 2.758, 2.8930000000000002, 2.775, 3.017, 2.909, 2.85, 3.0260000000000002, 2.6830000000000003, 2.716, 2.675, 2.821, 2.787, 2.717, 2.804, 2.9530000000000003, 2.63, 2.975, 3.1260000000000003, 3.054, 3.128, 2.911, 3.155, 2.989, 3.135, 2.81, 3.091, 2.96, 2.9810000000000003, 2.795, 3.2319999999999998, 2.8360000000000003, 2.9739999999999998]}, {\"axis\": {\"matches\": true}, \"label\": \"asymmetry coefficient\", \"values\": [5.303999999999999, 7.035, 5.995, 5.468999999999999, 4.471, 6.169, 2.221, 4.421, 3.26, 5.462000000000001, 5.195, 6.992000000000001, 4.756, 3.332, 4.048, 5.813, 3.347, 4.825, 4.378, 5.388, 3.082, 4.271, 4.988, 4.419, 6.388, 2.201, 4.9239999999999995, 3.638, 4.337, 3.5210000000000004, 6.735, 6.715, 4.309, 5.587999999999999, 5.182, 4.773, 5.335, 4.702, 5.876, 1.661, 4.957, 4.987, 4.857, 5.209, 6.185, 4.062, 4.898, 4.178999999999999, 7.524, 4.975, 5.398, 3.985, 3.597, 4.853, 4.132, 4.873, 5.483, 4.67, 3.306, 2.8280000000000003, 5.472, 2.3, 4.051, 8.456, 3.9189999999999996, 3.6310000000000002, 4.325, 8.315, 3.5980000000000003, 5.6370000000000005]}, {\"axis\": {\"matches\": true}, \"label\": \"length of kernel groove\", \"values\": [5.395, 5.44, 5.307, 5.221, 5.178, 5.275, 5.132000000000001, 5.002, 5.316, 5.194, 5.307, 5.27, 5.36, 5.001, 5.263, 5.218999999999999, 5.003, 5.22, 5.31, 5.31, 5.4910000000000005, 5.308, 5.046, 5.176, 5.0489999999999995, 5.056, 5.27, 5.337999999999999, 5.132000000000001, 5.088, 5.162999999999999, 4.956, 5.0, 5.0889999999999995, 5.185, 5.063, 5.092, 4.963, 5.002, 5.178, 4.825, 5.147, 5.1579999999999995, 5.135, 5.316, 5.182, 5.352, 4.956, 4.957, 4.794, 5.045, 5.001, 5.132000000000001, 5.0889999999999995, 5.012, 4.914, 4.958, 5.091, 5.231, 4.83, 5.045, 4.745, 4.828, 5.0, 5.001, 4.87, 5.003, 5.056, 5.044, 5.063]}], \"hovertemplate\": \"<b>%{hovertext}</b><br><br>type=Canadian<br>%{xaxis.title.text}=%{x}<br>%{yaxis.title.text}=%{y}<extra></extra>\", \"hovertext\": [140.0, 141.0, 142.0, 143.0, 144.0, 145.0, 146.0, 147.0, 148.0, 149.0, 150.0, 151.0, 152.0, 153.0, 154.0, 155.0, 156.0, 157.0, 158.0, 159.0, 160.0, 161.0, 162.0, 163.0, 164.0, 165.0, 166.0, 167.0, 168.0, 169.0, 170.0, 171.0, 172.0, 173.0, 174.0, 175.0, 176.0, 177.0, 178.0, 179.0, 180.0, 181.0, 182.0, 183.0, 184.0, 185.0, 186.0, 187.0, 188.0, 189.0, 190.0, 191.0, 192.0, 193.0, 194.0, 195.0, 196.0, 197.0, 198.0, 199.0, 200.0, 201.0, 202.0, 203.0, 204.0, 205.0, 206.0, 207.0, 208.0, 209.0], \"legendgroup\": \"Canadian\", \"marker\": {\"color\": \"#00cc96\", \"opacity\": 0.8, \"symbol\": \"circle\"}, \"name\": \"Canadian\", \"showlegend\": true, \"type\": \"splom\"}],\n",
       "                        {\"dragmode\": \"select\", \"height\": 1000, \"legend\": {\"title\": {\"text\": \"type\"}, \"tracegroupgap\": 0}, \"margin\": {\"t\": 60}, \"template\": {\"data\": {\"bar\": [{\"error_x\": {\"color\": \"#2a3f5f\"}, \"error_y\": {\"color\": \"#2a3f5f\"}, \"marker\": {\"line\": {\"color\": \"#E5ECF6\", \"width\": 0.5}}, \"type\": \"bar\"}], \"barpolar\": [{\"marker\": {\"line\": {\"color\": \"#E5ECF6\", \"width\": 0.5}}, \"type\": \"barpolar\"}], \"carpet\": [{\"aaxis\": {\"endlinecolor\": \"#2a3f5f\", \"gridcolor\": \"white\", \"linecolor\": \"white\", \"minorgridcolor\": \"white\", \"startlinecolor\": \"#2a3f5f\"}, \"baxis\": {\"endlinecolor\": \"#2a3f5f\", \"gridcolor\": \"white\", \"linecolor\": \"white\", \"minorgridcolor\": \"white\", \"startlinecolor\": \"#2a3f5f\"}, \"type\": \"carpet\"}], \"choropleth\": [{\"colorbar\": {\"outlinewidth\": 0, \"ticks\": \"\"}, \"type\": \"choropleth\"}], \"contour\": [{\"colorbar\": {\"outlinewidth\": 0, \"ticks\": \"\"}, \"colorscale\": [[0.0, \"#0d0887\"], [0.1111111111111111, \"#46039f\"], [0.2222222222222222, \"#7201a8\"], [0.3333333333333333, \"#9c179e\"], [0.4444444444444444, \"#bd3786\"], [0.5555555555555556, \"#d8576b\"], [0.6666666666666666, \"#ed7953\"], [0.7777777777777778, \"#fb9f3a\"], [0.8888888888888888, \"#fdca26\"], [1.0, \"#f0f921\"]], \"type\": \"contour\"}], \"contourcarpet\": [{\"colorbar\": {\"outlinewidth\": 0, \"ticks\": \"\"}, \"type\": \"contourcarpet\"}], \"heatmap\": [{\"colorbar\": {\"outlinewidth\": 0, \"ticks\": \"\"}, \"colorscale\": [[0.0, \"#0d0887\"], [0.1111111111111111, \"#46039f\"], [0.2222222222222222, \"#7201a8\"], [0.3333333333333333, \"#9c179e\"], [0.4444444444444444, \"#bd3786\"], [0.5555555555555556, \"#d8576b\"], [0.6666666666666666, \"#ed7953\"], [0.7777777777777778, \"#fb9f3a\"], [0.8888888888888888, \"#fdca26\"], [1.0, \"#f0f921\"]], \"type\": \"heatmap\"}], \"heatmapgl\": [{\"colorbar\": {\"outlinewidth\": 0, \"ticks\": \"\"}, \"colorscale\": [[0.0, \"#0d0887\"], [0.1111111111111111, \"#46039f\"], [0.2222222222222222, \"#7201a8\"], [0.3333333333333333, \"#9c179e\"], [0.4444444444444444, \"#bd3786\"], [0.5555555555555556, \"#d8576b\"], [0.6666666666666666, \"#ed7953\"], [0.7777777777777778, \"#fb9f3a\"], [0.8888888888888888, \"#fdca26\"], [1.0, \"#f0f921\"]], \"type\": \"heatmapgl\"}], \"histogram\": [{\"marker\": {\"colorbar\": {\"outlinewidth\": 0, \"ticks\": \"\"}}, \"type\": \"histogram\"}], \"histogram2d\": [{\"colorbar\": {\"outlinewidth\": 0, \"ticks\": \"\"}, \"colorscale\": [[0.0, \"#0d0887\"], [0.1111111111111111, \"#46039f\"], [0.2222222222222222, \"#7201a8\"], [0.3333333333333333, \"#9c179e\"], [0.4444444444444444, \"#bd3786\"], [0.5555555555555556, \"#d8576b\"], [0.6666666666666666, \"#ed7953\"], [0.7777777777777778, \"#fb9f3a\"], [0.8888888888888888, \"#fdca26\"], [1.0, \"#f0f921\"]], \"type\": \"histogram2d\"}], \"histogram2dcontour\": [{\"colorbar\": {\"outlinewidth\": 0, \"ticks\": \"\"}, \"colorscale\": [[0.0, \"#0d0887\"], [0.1111111111111111, \"#46039f\"], [0.2222222222222222, \"#7201a8\"], [0.3333333333333333, \"#9c179e\"], [0.4444444444444444, \"#bd3786\"], [0.5555555555555556, \"#d8576b\"], [0.6666666666666666, \"#ed7953\"], [0.7777777777777778, \"#fb9f3a\"], [0.8888888888888888, \"#fdca26\"], [1.0, \"#f0f921\"]], \"type\": \"histogram2dcontour\"}], \"mesh3d\": [{\"colorbar\": {\"outlinewidth\": 0, \"ticks\": \"\"}, \"type\": \"mesh3d\"}], \"parcoords\": [{\"line\": {\"colorbar\": {\"outlinewidth\": 0, \"ticks\": \"\"}}, \"type\": \"parcoords\"}], \"pie\": [{\"automargin\": true, \"type\": \"pie\"}], \"scatter\": [{\"marker\": {\"colorbar\": {\"outlinewidth\": 0, \"ticks\": \"\"}}, \"type\": \"scatter\"}], \"scatter3d\": [{\"line\": {\"colorbar\": {\"outlinewidth\": 0, \"ticks\": \"\"}}, \"marker\": {\"colorbar\": {\"outlinewidth\": 0, \"ticks\": \"\"}}, \"type\": \"scatter3d\"}], \"scattercarpet\": [{\"marker\": {\"colorbar\": {\"outlinewidth\": 0, \"ticks\": \"\"}}, \"type\": \"scattercarpet\"}], \"scattergeo\": [{\"marker\": {\"colorbar\": {\"outlinewidth\": 0, \"ticks\": \"\"}}, \"type\": \"scattergeo\"}], \"scattergl\": [{\"marker\": {\"colorbar\": {\"outlinewidth\": 0, \"ticks\": \"\"}}, \"type\": \"scattergl\"}], \"scattermapbox\": [{\"marker\": {\"colorbar\": {\"outlinewidth\": 0, \"ticks\": \"\"}}, \"type\": \"scattermapbox\"}], \"scatterpolar\": [{\"marker\": {\"colorbar\": {\"outlinewidth\": 0, \"ticks\": \"\"}}, \"type\": \"scatterpolar\"}], \"scatterpolargl\": [{\"marker\": {\"colorbar\": {\"outlinewidth\": 0, \"ticks\": \"\"}}, \"type\": \"scatterpolargl\"}], \"scatterternary\": [{\"marker\": {\"colorbar\": {\"outlinewidth\": 0, \"ticks\": \"\"}}, \"type\": \"scatterternary\"}], \"surface\": [{\"colorbar\": {\"outlinewidth\": 0, \"ticks\": \"\"}, \"colorscale\": [[0.0, \"#0d0887\"], [0.1111111111111111, \"#46039f\"], [0.2222222222222222, \"#7201a8\"], [0.3333333333333333, \"#9c179e\"], [0.4444444444444444, \"#bd3786\"], [0.5555555555555556, \"#d8576b\"], [0.6666666666666666, \"#ed7953\"], [0.7777777777777778, \"#fb9f3a\"], [0.8888888888888888, \"#fdca26\"], [1.0, \"#f0f921\"]], \"type\": \"surface\"}], \"table\": [{\"cells\": {\"fill\": {\"color\": \"#EBF0F8\"}, \"line\": {\"color\": \"white\"}}, \"header\": {\"fill\": {\"color\": \"#C8D4E3\"}, \"line\": {\"color\": \"white\"}}, \"type\": \"table\"}]}, \"layout\": {\"annotationdefaults\": {\"arrowcolor\": \"#2a3f5f\", \"arrowhead\": 0, \"arrowwidth\": 1}, \"coloraxis\": {\"colorbar\": {\"outlinewidth\": 0, \"ticks\": \"\"}}, \"colorscale\": {\"diverging\": [[0, \"#8e0152\"], [0.1, \"#c51b7d\"], [0.2, \"#de77ae\"], [0.3, \"#f1b6da\"], [0.4, \"#fde0ef\"], [0.5, \"#f7f7f7\"], [0.6, \"#e6f5d0\"], [0.7, \"#b8e186\"], [0.8, \"#7fbc41\"], [0.9, \"#4d9221\"], [1, \"#276419\"]], \"sequential\": [[0.0, \"#0d0887\"], [0.1111111111111111, \"#46039f\"], [0.2222222222222222, \"#7201a8\"], [0.3333333333333333, \"#9c179e\"], [0.4444444444444444, \"#bd3786\"], [0.5555555555555556, \"#d8576b\"], [0.6666666666666666, \"#ed7953\"], [0.7777777777777778, \"#fb9f3a\"], [0.8888888888888888, \"#fdca26\"], [1.0, \"#f0f921\"]], \"sequentialminus\": [[0.0, \"#0d0887\"], [0.1111111111111111, \"#46039f\"], [0.2222222222222222, \"#7201a8\"], [0.3333333333333333, \"#9c179e\"], [0.4444444444444444, \"#bd3786\"], [0.5555555555555556, \"#d8576b\"], [0.6666666666666666, \"#ed7953\"], [0.7777777777777778, \"#fb9f3a\"], [0.8888888888888888, \"#fdca26\"], [1.0, \"#f0f921\"]]}, \"colorway\": [\"#636efa\", \"#EF553B\", \"#00cc96\", \"#ab63fa\", \"#FFA15A\", \"#19d3f3\", \"#FF6692\", \"#B6E880\", \"#FF97FF\", \"#FECB52\"], \"font\": {\"color\": \"#2a3f5f\"}, \"geo\": {\"bgcolor\": \"white\", \"lakecolor\": \"white\", \"landcolor\": \"#E5ECF6\", \"showlakes\": true, \"showland\": true, \"subunitcolor\": \"white\"}, \"hoverlabel\": {\"align\": \"left\"}, \"hovermode\": \"closest\", \"mapbox\": {\"style\": \"light\"}, \"paper_bgcolor\": \"white\", \"plot_bgcolor\": \"#E5ECF6\", \"polar\": {\"angularaxis\": {\"gridcolor\": \"white\", \"linecolor\": \"white\", \"ticks\": \"\"}, \"bgcolor\": \"#E5ECF6\", \"radialaxis\": {\"gridcolor\": \"white\", \"linecolor\": \"white\", \"ticks\": \"\"}}, \"scene\": {\"xaxis\": {\"backgroundcolor\": \"#E5ECF6\", \"gridcolor\": \"white\", \"gridwidth\": 2, \"linecolor\": \"white\", \"showbackground\": true, \"ticks\": \"\", \"zerolinecolor\": \"white\"}, \"yaxis\": {\"backgroundcolor\": \"#E5ECF6\", \"gridcolor\": \"white\", \"gridwidth\": 2, \"linecolor\": \"white\", \"showbackground\": true, \"ticks\": \"\", \"zerolinecolor\": \"white\"}, \"zaxis\": {\"backgroundcolor\": \"#E5ECF6\", \"gridcolor\": \"white\", \"gridwidth\": 2, \"linecolor\": \"white\", \"showbackground\": true, \"ticks\": \"\", \"zerolinecolor\": \"white\"}}, \"shapedefaults\": {\"line\": {\"color\": \"#2a3f5f\"}}, \"ternary\": {\"aaxis\": {\"gridcolor\": \"white\", \"linecolor\": \"white\", \"ticks\": \"\"}, \"baxis\": {\"gridcolor\": \"white\", \"linecolor\": \"white\", \"ticks\": \"\"}, \"bgcolor\": \"#E5ECF6\", \"caxis\": {\"gridcolor\": \"white\", \"linecolor\": \"white\", \"ticks\": \"\"}}, \"title\": {\"x\": 0.05}, \"xaxis\": {\"automargin\": true, \"gridcolor\": \"white\", \"linecolor\": \"white\", \"ticks\": \"\", \"title\": {\"standoff\": 15}, \"zerolinecolor\": \"white\", \"zerolinewidth\": 2}, \"yaxis\": {\"automargin\": true, \"gridcolor\": \"white\", \"linecolor\": \"white\", \"ticks\": \"\", \"title\": {\"standoff\": 15}, \"zerolinecolor\": \"white\", \"zerolinewidth\": 2}}}},\n",
       "                        {\"responsive\": true}\n",
       "                    ).then(function(){\n",
       "                            \n",
       "var gd = document.getElementById('93ff918b-4437-442e-856f-9125ffd2eeea');\n",
       "var x = new MutationObserver(function (mutations, observer) {{\n",
       "        var display = window.getComputedStyle(gd).display;\n",
       "        if (!display || display === 'none') {{\n",
       "            console.log([gd, 'removed!']);\n",
       "            Plotly.purge(gd);\n",
       "            observer.disconnect();\n",
       "        }}\n",
       "}});\n",
       "\n",
       "// Listen for the removal of the full notebook cells\n",
       "var notebookContainer = gd.closest('#notebook-container');\n",
       "if (notebookContainer) {{\n",
       "    x.observe(notebookContainer, {childList: true});\n",
       "}}\n",
       "\n",
       "// Listen for the clearing of the current output cell\n",
       "var outputEl = gd.closest('.output');\n",
       "if (outputEl) {{\n",
       "    x.observe(outputEl, {childList: true});\n",
       "}}\n",
       "\n",
       "                        })\n",
       "                };\n",
       "                });\n",
       "            </script>\n",
       "        </div>"
      ]
     },
     "metadata": {},
     "output_type": "display_data"
    }
   ],
   "source": [
    "# Färben Sie im Scatter Matrix Plot die Datenpunkte anhand ihrer Sorte ('type') ein.\n",
    "px.scatter_matrix(data,\n",
    "                  color='type',\n",
    "                  dimensions=data.iloc[:,0:7],\n",
    "                  opacity=0.8, # macht Datenpunkte zu 20% durchsichtig\n",
    "                  height=1000, # Höhe des Gesamtplots in Pixeln\n",
    "                  hover_name=data.index) # Überschrift der eingeblendeten Mouse-Over-Information: Zeilennr."
   ]
  },
  {
   "cell_type": "markdown",
   "metadata": {},
   "source": [
    "Frage: Welche Variablen sind stark miteinander korreliert?\n",
    "\n",
    "_z.B. 'Area A' und 'Perimenter P'; klar, großer Umfang geht auch mit großer Fläche einher._"
   ]
  },
  {
   "cell_type": "markdown",
   "metadata": {
    "slideshow": {
     "slide_type": "subslide"
    }
   },
   "source": [
    "#### Bubble chart"
   ]
  },
  {
   "cell_type": "code",
   "execution_count": 38,
   "metadata": {
    "slideshow": {
     "slide_type": "subslide"
    }
   },
   "outputs": [
    {
     "data": {
      "application/vnd.plotly.v1+json": {
       "config": {
        "plotlyServerURL": "https://plot.ly"
       },
       "data": [
        {
         "hovertemplate": "<b>%{hovertext}</b><br><br>type=Kama<br>perimeter P=%{x}<br>length of kernel groove=%{y}<br>asymmetry coefficient=%{marker.size}<extra></extra>",
         "hovertext": [
          0,
          1,
          2,
          3,
          4,
          5,
          6,
          7,
          8,
          9,
          10,
          11,
          12,
          13,
          14,
          15,
          16,
          17,
          18,
          19,
          20,
          21,
          22,
          23,
          24,
          25,
          26,
          27,
          28,
          29,
          30,
          31,
          32,
          33,
          34,
          35,
          36,
          37,
          38,
          39,
          40,
          41,
          42,
          43,
          44,
          45,
          46,
          47,
          48,
          49,
          50,
          51,
          52,
          53,
          54,
          55,
          56,
          57,
          58,
          59,
          60,
          61,
          62,
          63,
          64,
          65,
          66,
          67,
          68,
          69
         ],
         "legendgroup": "Kama",
         "marker": {
          "color": "#636efa",
          "size": [
           2.221,
           1.018,
           2.699,
           2.259,
           1.355,
           2.4619999999999997,
           3.5860000000000003,
           2.7,
           2.04,
           1.969,
           4.543,
           1.7169999999999999,
           3.986,
           3.136,
           2.932,
           4.185,
           5.234,
           1.599,
           1.767,
           4.102,
           3.072,
           2.688,
           0.7651,
           1.415,
           1.791,
           0.903,
           3.373,
           2.504,
           2.7539999999999996,
           3.531,
           0.8551,
           3.412,
           3.92,
           2.124,
           2.129,
           2.27,
           2.823,
           2.9560000000000004,
           3.112,
           6.685,
           2.5869999999999997,
           2.249,
           2.461,
           4.711,
           3.128,
           1.56,
           1.367,
           2.958,
           2.7039999999999997,
           2.129,
           3.975,
           5.593,
           4.1160000000000005,
           3.3280000000000003,
           1.4809999999999999,
           1.933,
           2.802,
           1.1420000000000001,
           1.999,
           1.5019999999999998,
           2.7,
           2.269,
           3.22,
           4.157,
           1.176,
           2.352,
           1.3130000000000002,
           2.217,
           1.464,
           3.533
          ],
          "sizemode": "area",
          "sizeref": 0.009395555555555555,
          "symbol": "circle"
         },
         "mode": "markers",
         "name": "Kama",
         "showlegend": true,
         "type": "scatter",
         "x": [
          14.84,
          14.57,
          14.09,
          13.94,
          14.99,
          14.21,
          14.49,
          14.1,
          15.46,
          15.25,
          14.85,
          14.16,
          14.02,
          14.06,
          14.05,
          14.28,
          13.83,
          14.75,
          14.21,
          13.57,
          14.4,
          14.26,
          14.9,
          13.23,
          14.76,
          15.16,
          13.76,
          13.67,
          14.18,
          14.02,
          13.82,
          14.94,
          14.41,
          14.17,
          14.68,
          15,
          15.27,
          15.38,
          14.52,
          14.17,
          13.85,
          13.85,
          13.55,
          14.86,
          14.54,
          14.04,
          14.76,
          14.56,
          14.52,
          14.67,
          14.4,
          14.91,
          14.61,
          14.28,
          14.6,
          14.77,
          14.35,
          14.43,
          14.77,
          13.47,
          12.86,
          12.63,
          13.19,
          13.84,
          13.57,
          13.5,
          14.37,
          14.29,
          14.39,
          13.75
         ],
         "xaxis": "x",
         "y": [
          5.22,
          4.956,
          4.825,
          4.805,
          5.175,
          4.956,
          5.218999999999999,
          5,
          5.877000000000001,
          5.5329999999999995,
          5.314,
          5.001,
          4.738,
          4.872,
          4.825,
          4.781000000000001,
          4.781000000000001,
          5.046,
          4.649,
          4.914,
          5.176,
          5.218999999999999,
          5.091,
          4.961,
          5.001,
          5.307,
          4.825,
          4.869,
          5.038,
          5.0969999999999995,
          5.056,
          5.228,
          5.2989999999999995,
          5.012,
          5.36,
          5.443,
          5.527,
          5.484,
          5.309,
          5.001,
          5.178,
          5.176,
          4.783,
          5.528,
          5.18,
          4.961,
          5.132000000000001,
          5.175,
          5.111000000000001,
          5.351,
          5.144,
          5.136,
          5.396,
          5.224,
          5.487,
          5.439,
          5.044,
          5.088,
          5.222,
          4.519,
          4.607,
          4.703,
          4.605,
          5.088,
          4.782,
          4.607,
          5.15,
          5.132000000000001,
          5.3,
          5.067
         ],
         "yaxis": "y"
        },
        {
         "hovertemplate": "<b>%{hovertext}</b><br><br>type=Rosa<br>perimeter P=%{x}<br>length of kernel groove=%{y}<br>asymmetry coefficient=%{marker.size}<extra></extra>",
         "hovertext": [
          70,
          71,
          72,
          73,
          74,
          75,
          76,
          77,
          78,
          79,
          80,
          81,
          82,
          83,
          84,
          85,
          86,
          87,
          88,
          89,
          90,
          91,
          92,
          93,
          94,
          95,
          96,
          97,
          98,
          99,
          100,
          101,
          102,
          103,
          104,
          105,
          106,
          107,
          108,
          109,
          110,
          111,
          112,
          113,
          114,
          115,
          116,
          117,
          118,
          119,
          120,
          121,
          122,
          123,
          124,
          125,
          126,
          127,
          128,
          129,
          130,
          131,
          132,
          133,
          134,
          135,
          136,
          137,
          138,
          139
         ],
         "legendgroup": "Rosa",
         "marker": {
          "color": "#EF553B",
          "size": [
           4.0760000000000005,
           4.675,
           4.539,
           2.9360000000000004,
           4.004,
           4.92,
           3.824,
           4.4510000000000005,
           5.064,
           2.858,
           5.532,
           5.324,
           5.172999999999999,
           1.472,
           2.9619999999999997,
           2.443,
           1.649,
           3.6910000000000003,
           5.78,
           5.016,
           1.955,
           3.12,
           3.237,
           6.001,
           4.933,
           3.696,
           3.477,
           2.144,
           2.853,
           2.188,
           4.217,
           2.068,
           4.308,
           3.3569999999999998,
           3.3680000000000003,
           2.553,
           2.843,
           3.747,
           3.252,
           1.7380000000000002,
           2.235,
           3.678,
           2.109,
           6.682,
           4.677,
           2.248,
           4.334,
           3.0839999999999996,
           3.639,
           3.063,
           5.901,
           3.6189999999999998,
           4.2860000000000005,
           2.984,
           3.3360000000000003,
           4.188,
           4.391,
           2.2569999999999997,
           1.91,
           5.3660000000000005,
           2.8369999999999997,
           2.908,
           4.462,
           4.266,
           4.9719999999999995,
           3.6,
           3.5260000000000002,
           2.64,
           2.725,
           3.7689999999999997
          ],
          "sizemode": "area",
          "sizeref": 0.009395555555555555,
          "symbol": "circle"
         },
         "mode": "markers",
         "name": "Rosa",
         "showlegend": true,
         "type": "scatter",
         "x": [
          15.98,
          15.67,
          15.73,
          16.26,
          15.51,
          15.62,
          15.91,
          17.23,
          16.49,
          15.55,
          15.34,
          16.19,
          16.89,
          16.74,
          16.71,
          16.09,
          16.26,
          16.66,
          17.21,
          17.05,
          16.99,
          16.2,
          16.29,
          16.05,
          16.52,
          15.65,
          16.59,
          16.57,
          16.26,
          16.34,
          15.25,
          15.86,
          16.5,
          16.63,
          16.42,
          16.29,
          16.17,
          15.86,
          16.92,
          16.22,
          16.12,
          16.72,
          16.31,
          16.61,
          17.25,
          16.45,
          16.2,
          16.45,
          16.23,
          16.9,
          16.91,
          16.12,
          15.38,
          15.97,
          14.89,
          16.18,
          16.41,
          15.85,
          17.03,
          15.66,
          15.89,
          16.32,
          14.9,
          15.33,
          14.89,
          14.66,
          15.76,
          15.15,
          15.11,
          15.18
         ],
         "xaxis": "x",
         "y": [
          6.06,
          5.877000000000001,
          5.791,
          6.079,
          5.841,
          5.795,
          5.922000000000001,
          6.4510000000000005,
          6.362,
          5.746,
          5.88,
          5.879,
          6.187,
          6.273,
          6.185,
          6.197,
          6.109,
          6.497999999999999,
          6.231,
          6.321000000000001,
          6.449,
          6.053,
          6.053,
          5.877000000000001,
          6.4479999999999995,
          5.9670000000000005,
          6.2379999999999995,
          6.452999999999999,
          6.273,
          6.097,
          5.617999999999999,
          5.837000000000001,
          6.0089999999999995,
          6.229,
          6.148,
          5.879,
          6.2,
          5.928999999999999,
          6.55,
          5.894,
          5.794,
          5.965,
          5.9239999999999995,
          6.053,
          6.316,
          6.162999999999999,
          5.75,
          6.185,
          5.966,
          6.32,
          6.188,
          6.011,
          5.702999999999999,
          5.905,
          5.144,
          5.992000000000001,
          6.102,
          5.919,
          6.185,
          5.6610000000000005,
          5.962000000000001,
          5.949,
          5.795,
          5.795,
          5.847,
          5.439,
          5.971,
          5.879,
          5.752000000000001,
          5.922000000000001
         ],
         "yaxis": "y"
        },
        {
         "hovertemplate": "<b>%{hovertext}</b><br><br>type=Canadian<br>perimeter P=%{x}<br>length of kernel groove=%{y}<br>asymmetry coefficient=%{marker.size}<extra></extra>",
         "hovertext": [
          140,
          141,
          142,
          143,
          144,
          145,
          146,
          147,
          148,
          149,
          150,
          151,
          152,
          153,
          154,
          155,
          156,
          157,
          158,
          159,
          160,
          161,
          162,
          163,
          164,
          165,
          166,
          167,
          168,
          169,
          170,
          171,
          172,
          173,
          174,
          175,
          176,
          177,
          178,
          179,
          180,
          181,
          182,
          183,
          184,
          185,
          186,
          187,
          188,
          189,
          190,
          191,
          192,
          193,
          194,
          195,
          196,
          197,
          198,
          199,
          200,
          201,
          202,
          203,
          204,
          205,
          206,
          207,
          208,
          209
         ],
         "legendgroup": "Canadian",
         "marker": {
          "color": "#00cc96",
          "size": [
           5.303999999999999,
           7.035,
           5.995,
           5.468999999999999,
           4.471,
           6.169,
           2.221,
           4.421,
           3.26,
           5.462000000000001,
           5.195,
           6.992000000000001,
           4.756,
           3.332,
           4.048,
           5.813,
           3.347,
           4.825,
           4.378,
           5.388,
           3.082,
           4.271,
           4.988,
           4.419,
           6.388,
           2.201,
           4.9239999999999995,
           3.638,
           4.337,
           3.5210000000000004,
           6.735,
           6.715,
           4.309,
           5.587999999999999,
           5.182,
           4.773,
           5.335,
           4.702,
           5.876,
           1.661,
           4.957,
           4.987,
           4.857,
           5.209,
           6.185,
           4.062,
           4.898,
           4.178999999999999,
           7.524,
           4.975,
           5.398,
           3.985,
           3.597,
           4.853,
           4.132,
           4.873,
           5.483,
           4.67,
           3.306,
           2.8280000000000003,
           5.472,
           2.3,
           4.051,
           8.456,
           3.9189999999999996,
           3.6310000000000002,
           4.325,
           8.315,
           3.5980000000000003,
           5.6370000000000005
          ],
          "sizemode": "area",
          "sizeref": 0.009395555555555555,
          "symbol": "circle"
         },
         "mode": "markers",
         "name": "Canadian",
         "showlegend": true,
         "type": "scatter",
         "x": [
          13.92,
          13.94,
          13.95,
          13.32,
          13.4,
          13.13,
          13.13,
          13.46,
          13.71,
          12.93,
          13.23,
          13.52,
          13.6,
          13.04,
          13.05,
          13.05,
          12.87,
          13.73,
          13.52,
          13.22,
          13.67,
          13.33,
          13.41,
          13.57,
          12.79,
          13.15,
          13.59,
          13.45,
          13.12,
          13,
          13,
          13.1,
          12.97,
          13.08,
          12.96,
          12.57,
          13.01,
          12.73,
          13.05,
          13.47,
          12.95,
          13.41,
          13.36,
          13.07,
          13.77,
          13.31,
          13.45,
          12.8,
          12.82,
          12.41,
          12.8,
          12.86,
          13.02,
          12.83,
          13.27,
          13.47,
          13.53,
          13.78,
          13.67,
          13.38,
          13.44,
          13.32,
          12.72,
          13.41,
          13.47,
          13.2,
          12.88,
          13.66,
          13.21,
          13.34
         ],
         "xaxis": "x",
         "y": [
          5.395,
          5.44,
          5.307,
          5.221,
          5.178,
          5.275,
          5.132000000000001,
          5.002,
          5.316,
          5.194,
          5.307,
          5.27,
          5.36,
          5.001,
          5.263,
          5.218999999999999,
          5.003,
          5.22,
          5.31,
          5.31,
          5.4910000000000005,
          5.308,
          5.046,
          5.176,
          5.0489999999999995,
          5.056,
          5.27,
          5.337999999999999,
          5.132000000000001,
          5.088,
          5.162999999999999,
          4.956,
          5,
          5.0889999999999995,
          5.185,
          5.063,
          5.092,
          4.963,
          5.002,
          5.178,
          4.825,
          5.147,
          5.1579999999999995,
          5.135,
          5.316,
          5.182,
          5.352,
          4.956,
          4.957,
          4.794,
          5.045,
          5.001,
          5.132000000000001,
          5.0889999999999995,
          5.012,
          4.914,
          4.958,
          5.091,
          5.231,
          4.83,
          5.045,
          4.745,
          4.828,
          5,
          5.001,
          4.87,
          5.003,
          5.056,
          5.044,
          5.063
         ],
         "yaxis": "y"
        }
       ],
       "layout": {
        "legend": {
         "itemsizing": "constant",
         "title": {
          "text": "type"
         },
         "tracegroupgap": 0
        },
        "margin": {
         "t": 60
        },
        "template": {
         "data": {
          "bar": [
           {
            "error_x": {
             "color": "#2a3f5f"
            },
            "error_y": {
             "color": "#2a3f5f"
            },
            "marker": {
             "line": {
              "color": "#E5ECF6",
              "width": 0.5
             }
            },
            "type": "bar"
           }
          ],
          "barpolar": [
           {
            "marker": {
             "line": {
              "color": "#E5ECF6",
              "width": 0.5
             }
            },
            "type": "barpolar"
           }
          ],
          "carpet": [
           {
            "aaxis": {
             "endlinecolor": "#2a3f5f",
             "gridcolor": "white",
             "linecolor": "white",
             "minorgridcolor": "white",
             "startlinecolor": "#2a3f5f"
            },
            "baxis": {
             "endlinecolor": "#2a3f5f",
             "gridcolor": "white",
             "linecolor": "white",
             "minorgridcolor": "white",
             "startlinecolor": "#2a3f5f"
            },
            "type": "carpet"
           }
          ],
          "choropleth": [
           {
            "colorbar": {
             "outlinewidth": 0,
             "ticks": ""
            },
            "type": "choropleth"
           }
          ],
          "contour": [
           {
            "colorbar": {
             "outlinewidth": 0,
             "ticks": ""
            },
            "colorscale": [
             [
              0,
              "#0d0887"
             ],
             [
              0.1111111111111111,
              "#46039f"
             ],
             [
              0.2222222222222222,
              "#7201a8"
             ],
             [
              0.3333333333333333,
              "#9c179e"
             ],
             [
              0.4444444444444444,
              "#bd3786"
             ],
             [
              0.5555555555555556,
              "#d8576b"
             ],
             [
              0.6666666666666666,
              "#ed7953"
             ],
             [
              0.7777777777777778,
              "#fb9f3a"
             ],
             [
              0.8888888888888888,
              "#fdca26"
             ],
             [
              1,
              "#f0f921"
             ]
            ],
            "type": "contour"
           }
          ],
          "contourcarpet": [
           {
            "colorbar": {
             "outlinewidth": 0,
             "ticks": ""
            },
            "type": "contourcarpet"
           }
          ],
          "heatmap": [
           {
            "colorbar": {
             "outlinewidth": 0,
             "ticks": ""
            },
            "colorscale": [
             [
              0,
              "#0d0887"
             ],
             [
              0.1111111111111111,
              "#46039f"
             ],
             [
              0.2222222222222222,
              "#7201a8"
             ],
             [
              0.3333333333333333,
              "#9c179e"
             ],
             [
              0.4444444444444444,
              "#bd3786"
             ],
             [
              0.5555555555555556,
              "#d8576b"
             ],
             [
              0.6666666666666666,
              "#ed7953"
             ],
             [
              0.7777777777777778,
              "#fb9f3a"
             ],
             [
              0.8888888888888888,
              "#fdca26"
             ],
             [
              1,
              "#f0f921"
             ]
            ],
            "type": "heatmap"
           }
          ],
          "heatmapgl": [
           {
            "colorbar": {
             "outlinewidth": 0,
             "ticks": ""
            },
            "colorscale": [
             [
              0,
              "#0d0887"
             ],
             [
              0.1111111111111111,
              "#46039f"
             ],
             [
              0.2222222222222222,
              "#7201a8"
             ],
             [
              0.3333333333333333,
              "#9c179e"
             ],
             [
              0.4444444444444444,
              "#bd3786"
             ],
             [
              0.5555555555555556,
              "#d8576b"
             ],
             [
              0.6666666666666666,
              "#ed7953"
             ],
             [
              0.7777777777777778,
              "#fb9f3a"
             ],
             [
              0.8888888888888888,
              "#fdca26"
             ],
             [
              1,
              "#f0f921"
             ]
            ],
            "type": "heatmapgl"
           }
          ],
          "histogram": [
           {
            "marker": {
             "colorbar": {
              "outlinewidth": 0,
              "ticks": ""
             }
            },
            "type": "histogram"
           }
          ],
          "histogram2d": [
           {
            "colorbar": {
             "outlinewidth": 0,
             "ticks": ""
            },
            "colorscale": [
             [
              0,
              "#0d0887"
             ],
             [
              0.1111111111111111,
              "#46039f"
             ],
             [
              0.2222222222222222,
              "#7201a8"
             ],
             [
              0.3333333333333333,
              "#9c179e"
             ],
             [
              0.4444444444444444,
              "#bd3786"
             ],
             [
              0.5555555555555556,
              "#d8576b"
             ],
             [
              0.6666666666666666,
              "#ed7953"
             ],
             [
              0.7777777777777778,
              "#fb9f3a"
             ],
             [
              0.8888888888888888,
              "#fdca26"
             ],
             [
              1,
              "#f0f921"
             ]
            ],
            "type": "histogram2d"
           }
          ],
          "histogram2dcontour": [
           {
            "colorbar": {
             "outlinewidth": 0,
             "ticks": ""
            },
            "colorscale": [
             [
              0,
              "#0d0887"
             ],
             [
              0.1111111111111111,
              "#46039f"
             ],
             [
              0.2222222222222222,
              "#7201a8"
             ],
             [
              0.3333333333333333,
              "#9c179e"
             ],
             [
              0.4444444444444444,
              "#bd3786"
             ],
             [
              0.5555555555555556,
              "#d8576b"
             ],
             [
              0.6666666666666666,
              "#ed7953"
             ],
             [
              0.7777777777777778,
              "#fb9f3a"
             ],
             [
              0.8888888888888888,
              "#fdca26"
             ],
             [
              1,
              "#f0f921"
             ]
            ],
            "type": "histogram2dcontour"
           }
          ],
          "mesh3d": [
           {
            "colorbar": {
             "outlinewidth": 0,
             "ticks": ""
            },
            "type": "mesh3d"
           }
          ],
          "parcoords": [
           {
            "line": {
             "colorbar": {
              "outlinewidth": 0,
              "ticks": ""
             }
            },
            "type": "parcoords"
           }
          ],
          "pie": [
           {
            "automargin": true,
            "type": "pie"
           }
          ],
          "scatter": [
           {
            "marker": {
             "colorbar": {
              "outlinewidth": 0,
              "ticks": ""
             }
            },
            "type": "scatter"
           }
          ],
          "scatter3d": [
           {
            "line": {
             "colorbar": {
              "outlinewidth": 0,
              "ticks": ""
             }
            },
            "marker": {
             "colorbar": {
              "outlinewidth": 0,
              "ticks": ""
             }
            },
            "type": "scatter3d"
           }
          ],
          "scattercarpet": [
           {
            "marker": {
             "colorbar": {
              "outlinewidth": 0,
              "ticks": ""
             }
            },
            "type": "scattercarpet"
           }
          ],
          "scattergeo": [
           {
            "marker": {
             "colorbar": {
              "outlinewidth": 0,
              "ticks": ""
             }
            },
            "type": "scattergeo"
           }
          ],
          "scattergl": [
           {
            "marker": {
             "colorbar": {
              "outlinewidth": 0,
              "ticks": ""
             }
            },
            "type": "scattergl"
           }
          ],
          "scattermapbox": [
           {
            "marker": {
             "colorbar": {
              "outlinewidth": 0,
              "ticks": ""
             }
            },
            "type": "scattermapbox"
           }
          ],
          "scatterpolar": [
           {
            "marker": {
             "colorbar": {
              "outlinewidth": 0,
              "ticks": ""
             }
            },
            "type": "scatterpolar"
           }
          ],
          "scatterpolargl": [
           {
            "marker": {
             "colorbar": {
              "outlinewidth": 0,
              "ticks": ""
             }
            },
            "type": "scatterpolargl"
           }
          ],
          "scatterternary": [
           {
            "marker": {
             "colorbar": {
              "outlinewidth": 0,
              "ticks": ""
             }
            },
            "type": "scatterternary"
           }
          ],
          "surface": [
           {
            "colorbar": {
             "outlinewidth": 0,
             "ticks": ""
            },
            "colorscale": [
             [
              0,
              "#0d0887"
             ],
             [
              0.1111111111111111,
              "#46039f"
             ],
             [
              0.2222222222222222,
              "#7201a8"
             ],
             [
              0.3333333333333333,
              "#9c179e"
             ],
             [
              0.4444444444444444,
              "#bd3786"
             ],
             [
              0.5555555555555556,
              "#d8576b"
             ],
             [
              0.6666666666666666,
              "#ed7953"
             ],
             [
              0.7777777777777778,
              "#fb9f3a"
             ],
             [
              0.8888888888888888,
              "#fdca26"
             ],
             [
              1,
              "#f0f921"
             ]
            ],
            "type": "surface"
           }
          ],
          "table": [
           {
            "cells": {
             "fill": {
              "color": "#EBF0F8"
             },
             "line": {
              "color": "white"
             }
            },
            "header": {
             "fill": {
              "color": "#C8D4E3"
             },
             "line": {
              "color": "white"
             }
            },
            "type": "table"
           }
          ]
         },
         "layout": {
          "annotationdefaults": {
           "arrowcolor": "#2a3f5f",
           "arrowhead": 0,
           "arrowwidth": 1
          },
          "coloraxis": {
           "colorbar": {
            "outlinewidth": 0,
            "ticks": ""
           }
          },
          "colorscale": {
           "diverging": [
            [
             0,
             "#8e0152"
            ],
            [
             0.1,
             "#c51b7d"
            ],
            [
             0.2,
             "#de77ae"
            ],
            [
             0.3,
             "#f1b6da"
            ],
            [
             0.4,
             "#fde0ef"
            ],
            [
             0.5,
             "#f7f7f7"
            ],
            [
             0.6,
             "#e6f5d0"
            ],
            [
             0.7,
             "#b8e186"
            ],
            [
             0.8,
             "#7fbc41"
            ],
            [
             0.9,
             "#4d9221"
            ],
            [
             1,
             "#276419"
            ]
           ],
           "sequential": [
            [
             0,
             "#0d0887"
            ],
            [
             0.1111111111111111,
             "#46039f"
            ],
            [
             0.2222222222222222,
             "#7201a8"
            ],
            [
             0.3333333333333333,
             "#9c179e"
            ],
            [
             0.4444444444444444,
             "#bd3786"
            ],
            [
             0.5555555555555556,
             "#d8576b"
            ],
            [
             0.6666666666666666,
             "#ed7953"
            ],
            [
             0.7777777777777778,
             "#fb9f3a"
            ],
            [
             0.8888888888888888,
             "#fdca26"
            ],
            [
             1,
             "#f0f921"
            ]
           ],
           "sequentialminus": [
            [
             0,
             "#0d0887"
            ],
            [
             0.1111111111111111,
             "#46039f"
            ],
            [
             0.2222222222222222,
             "#7201a8"
            ],
            [
             0.3333333333333333,
             "#9c179e"
            ],
            [
             0.4444444444444444,
             "#bd3786"
            ],
            [
             0.5555555555555556,
             "#d8576b"
            ],
            [
             0.6666666666666666,
             "#ed7953"
            ],
            [
             0.7777777777777778,
             "#fb9f3a"
            ],
            [
             0.8888888888888888,
             "#fdca26"
            ],
            [
             1,
             "#f0f921"
            ]
           ]
          },
          "colorway": [
           "#636efa",
           "#EF553B",
           "#00cc96",
           "#ab63fa",
           "#FFA15A",
           "#19d3f3",
           "#FF6692",
           "#B6E880",
           "#FF97FF",
           "#FECB52"
          ],
          "font": {
           "color": "#2a3f5f"
          },
          "geo": {
           "bgcolor": "white",
           "lakecolor": "white",
           "landcolor": "#E5ECF6",
           "showlakes": true,
           "showland": true,
           "subunitcolor": "white"
          },
          "hoverlabel": {
           "align": "left"
          },
          "hovermode": "closest",
          "mapbox": {
           "style": "light"
          },
          "paper_bgcolor": "white",
          "plot_bgcolor": "#E5ECF6",
          "polar": {
           "angularaxis": {
            "gridcolor": "white",
            "linecolor": "white",
            "ticks": ""
           },
           "bgcolor": "#E5ECF6",
           "radialaxis": {
            "gridcolor": "white",
            "linecolor": "white",
            "ticks": ""
           }
          },
          "scene": {
           "xaxis": {
            "backgroundcolor": "#E5ECF6",
            "gridcolor": "white",
            "gridwidth": 2,
            "linecolor": "white",
            "showbackground": true,
            "ticks": "",
            "zerolinecolor": "white"
           },
           "yaxis": {
            "backgroundcolor": "#E5ECF6",
            "gridcolor": "white",
            "gridwidth": 2,
            "linecolor": "white",
            "showbackground": true,
            "ticks": "",
            "zerolinecolor": "white"
           },
           "zaxis": {
            "backgroundcolor": "#E5ECF6",
            "gridcolor": "white",
            "gridwidth": 2,
            "linecolor": "white",
            "showbackground": true,
            "ticks": "",
            "zerolinecolor": "white"
           }
          },
          "shapedefaults": {
           "line": {
            "color": "#2a3f5f"
           }
          },
          "ternary": {
           "aaxis": {
            "gridcolor": "white",
            "linecolor": "white",
            "ticks": ""
           },
           "baxis": {
            "gridcolor": "white",
            "linecolor": "white",
            "ticks": ""
           },
           "bgcolor": "#E5ECF6",
           "caxis": {
            "gridcolor": "white",
            "linecolor": "white",
            "ticks": ""
           }
          },
          "title": {
           "x": 0.05
          },
          "xaxis": {
           "automargin": true,
           "gridcolor": "white",
           "linecolor": "white",
           "ticks": "",
           "title": {
            "standoff": 15
           },
           "zerolinecolor": "white",
           "zerolinewidth": 2
          },
          "yaxis": {
           "automargin": true,
           "gridcolor": "white",
           "linecolor": "white",
           "ticks": "",
           "title": {
            "standoff": 15
           },
           "zerolinecolor": "white",
           "zerolinewidth": 2
          }
         }
        },
        "xaxis": {
         "anchor": "y",
         "domain": [
          0,
          1
         ],
         "title": {
          "text": "perimeter P"
         }
        },
        "yaxis": {
         "anchor": "x",
         "domain": [
          0,
          1
         ],
         "title": {
          "text": "length of kernel groove"
         }
        }
       }
      },
      "text/html": [
       "<div>\n",
       "        \n",
       "        \n",
       "            <div id=\"f2f328bf-8540-48ac-a548-504c1e23bb92\" class=\"plotly-graph-div\" style=\"height:525px; width:100%;\"></div>\n",
       "            <script type=\"text/javascript\">\n",
       "                require([\"plotly\"], function(Plotly) {\n",
       "                    window.PLOTLYENV=window.PLOTLYENV || {};\n",
       "                    \n",
       "                if (document.getElementById(\"f2f328bf-8540-48ac-a548-504c1e23bb92\")) {\n",
       "                    Plotly.newPlot(\n",
       "                        'f2f328bf-8540-48ac-a548-504c1e23bb92',\n",
       "                        [{\"hovertemplate\": \"<b>%{hovertext}</b><br><br>type=Kama<br>perimeter P=%{x}<br>length of kernel groove=%{y}<br>asymmetry coefficient=%{marker.size}<extra></extra>\", \"hovertext\": [0.0, 1.0, 2.0, 3.0, 4.0, 5.0, 6.0, 7.0, 8.0, 9.0, 10.0, 11.0, 12.0, 13.0, 14.0, 15.0, 16.0, 17.0, 18.0, 19.0, 20.0, 21.0, 22.0, 23.0, 24.0, 25.0, 26.0, 27.0, 28.0, 29.0, 30.0, 31.0, 32.0, 33.0, 34.0, 35.0, 36.0, 37.0, 38.0, 39.0, 40.0, 41.0, 42.0, 43.0, 44.0, 45.0, 46.0, 47.0, 48.0, 49.0, 50.0, 51.0, 52.0, 53.0, 54.0, 55.0, 56.0, 57.0, 58.0, 59.0, 60.0, 61.0, 62.0, 63.0, 64.0, 65.0, 66.0, 67.0, 68.0, 69.0], \"legendgroup\": \"Kama\", \"marker\": {\"color\": \"#636efa\", \"size\": [2.221, 1.018, 2.699, 2.259, 1.355, 2.4619999999999997, 3.5860000000000003, 2.7, 2.04, 1.969, 4.543, 1.7169999999999999, 3.986, 3.136, 2.932, 4.185, 5.234, 1.599, 1.767, 4.102, 3.072, 2.688, 0.7651, 1.415, 1.791, 0.903, 3.373, 2.504, 2.7539999999999996, 3.531, 0.8551, 3.412, 3.92, 2.124, 2.129, 2.27, 2.823, 2.9560000000000004, 3.112, 6.685, 2.5869999999999997, 2.249, 2.461, 4.711, 3.128, 1.56, 1.367, 2.958, 2.7039999999999997, 2.129, 3.975, 5.593, 4.1160000000000005, 3.3280000000000003, 1.4809999999999999, 1.933, 2.802, 1.1420000000000001, 1.999, 1.5019999999999998, 2.7, 2.269, 3.22, 4.157, 1.176, 2.352, 1.3130000000000002, 2.217, 1.464, 3.533], \"sizemode\": \"area\", \"sizeref\": 0.009395555555555555, \"symbol\": \"circle\"}, \"mode\": \"markers\", \"name\": \"Kama\", \"showlegend\": true, \"type\": \"scatter\", \"x\": [14.84, 14.57, 14.09, 13.94, 14.99, 14.21, 14.49, 14.1, 15.46, 15.25, 14.85, 14.16, 14.02, 14.06, 14.05, 14.28, 13.83, 14.75, 14.21, 13.57, 14.4, 14.26, 14.9, 13.23, 14.76, 15.16, 13.76, 13.67, 14.18, 14.02, 13.82, 14.94, 14.41, 14.17, 14.68, 15.0, 15.27, 15.38, 14.52, 14.17, 13.85, 13.85, 13.55, 14.86, 14.54, 14.04, 14.76, 14.56, 14.52, 14.67, 14.4, 14.91, 14.61, 14.28, 14.6, 14.77, 14.35, 14.43, 14.77, 13.47, 12.86, 12.63, 13.19, 13.84, 13.57, 13.5, 14.37, 14.29, 14.39, 13.75], \"xaxis\": \"x\", \"y\": [5.22, 4.956, 4.825, 4.805, 5.175, 4.956, 5.218999999999999, 5.0, 5.877000000000001, 5.5329999999999995, 5.314, 5.001, 4.738, 4.872, 4.825, 4.781000000000001, 4.781000000000001, 5.046, 4.649, 4.914, 5.176, 5.218999999999999, 5.091, 4.961, 5.001, 5.307, 4.825, 4.869, 5.038, 5.0969999999999995, 5.056, 5.228, 5.2989999999999995, 5.012, 5.36, 5.443, 5.527, 5.484, 5.309, 5.001, 5.178, 5.176, 4.783, 5.528, 5.18, 4.961, 5.132000000000001, 5.175, 5.111000000000001, 5.351, 5.144, 5.136, 5.396, 5.224, 5.487, 5.439, 5.044, 5.088, 5.222, 4.519, 4.607, 4.703, 4.605, 5.088, 4.782, 4.607, 5.15, 5.132000000000001, 5.3, 5.067], \"yaxis\": \"y\"}, {\"hovertemplate\": \"<b>%{hovertext}</b><br><br>type=Rosa<br>perimeter P=%{x}<br>length of kernel groove=%{y}<br>asymmetry coefficient=%{marker.size}<extra></extra>\", \"hovertext\": [70.0, 71.0, 72.0, 73.0, 74.0, 75.0, 76.0, 77.0, 78.0, 79.0, 80.0, 81.0, 82.0, 83.0, 84.0, 85.0, 86.0, 87.0, 88.0, 89.0, 90.0, 91.0, 92.0, 93.0, 94.0, 95.0, 96.0, 97.0, 98.0, 99.0, 100.0, 101.0, 102.0, 103.0, 104.0, 105.0, 106.0, 107.0, 108.0, 109.0, 110.0, 111.0, 112.0, 113.0, 114.0, 115.0, 116.0, 117.0, 118.0, 119.0, 120.0, 121.0, 122.0, 123.0, 124.0, 125.0, 126.0, 127.0, 128.0, 129.0, 130.0, 131.0, 132.0, 133.0, 134.0, 135.0, 136.0, 137.0, 138.0, 139.0], \"legendgroup\": \"Rosa\", \"marker\": {\"color\": \"#EF553B\", \"size\": [4.0760000000000005, 4.675, 4.539, 2.9360000000000004, 4.004, 4.92, 3.824, 4.4510000000000005, 5.064, 2.858, 5.532, 5.324, 5.172999999999999, 1.472, 2.9619999999999997, 2.443, 1.649, 3.6910000000000003, 5.78, 5.016, 1.955, 3.12, 3.237, 6.001, 4.933, 3.696, 3.477, 2.144, 2.853, 2.188, 4.217, 2.068, 4.308, 3.3569999999999998, 3.3680000000000003, 2.553, 2.843, 3.747, 3.252, 1.7380000000000002, 2.235, 3.678, 2.109, 6.682, 4.677, 2.248, 4.334, 3.0839999999999996, 3.639, 3.063, 5.901, 3.6189999999999998, 4.2860000000000005, 2.984, 3.3360000000000003, 4.188, 4.391, 2.2569999999999997, 1.91, 5.3660000000000005, 2.8369999999999997, 2.908, 4.462, 4.266, 4.9719999999999995, 3.6, 3.5260000000000002, 2.64, 2.725, 3.7689999999999997], \"sizemode\": \"area\", \"sizeref\": 0.009395555555555555, \"symbol\": \"circle\"}, \"mode\": \"markers\", \"name\": \"Rosa\", \"showlegend\": true, \"type\": \"scatter\", \"x\": [15.98, 15.67, 15.73, 16.26, 15.51, 15.62, 15.91, 17.23, 16.49, 15.55, 15.34, 16.19, 16.89, 16.74, 16.71, 16.09, 16.26, 16.66, 17.21, 17.05, 16.99, 16.2, 16.29, 16.05, 16.52, 15.65, 16.59, 16.57, 16.26, 16.34, 15.25, 15.86, 16.5, 16.63, 16.42, 16.29, 16.17, 15.86, 16.92, 16.22, 16.12, 16.72, 16.31, 16.61, 17.25, 16.45, 16.2, 16.45, 16.23, 16.9, 16.91, 16.12, 15.38, 15.97, 14.89, 16.18, 16.41, 15.85, 17.03, 15.66, 15.89, 16.32, 14.9, 15.33, 14.89, 14.66, 15.76, 15.15, 15.11, 15.18], \"xaxis\": \"x\", \"y\": [6.06, 5.877000000000001, 5.791, 6.079, 5.841, 5.795, 5.922000000000001, 6.4510000000000005, 6.362, 5.746, 5.88, 5.879, 6.187, 6.273, 6.185, 6.197, 6.109, 6.497999999999999, 6.231, 6.321000000000001, 6.449, 6.053, 6.053, 5.877000000000001, 6.4479999999999995, 5.9670000000000005, 6.2379999999999995, 6.452999999999999, 6.273, 6.097, 5.617999999999999, 5.837000000000001, 6.0089999999999995, 6.229, 6.148, 5.879, 6.2, 5.928999999999999, 6.55, 5.894, 5.794, 5.965, 5.9239999999999995, 6.053, 6.316, 6.162999999999999, 5.75, 6.185, 5.966, 6.32, 6.188, 6.011, 5.702999999999999, 5.905, 5.144, 5.992000000000001, 6.102, 5.919, 6.185, 5.6610000000000005, 5.962000000000001, 5.949, 5.795, 5.795, 5.847, 5.439, 5.971, 5.879, 5.752000000000001, 5.922000000000001], \"yaxis\": \"y\"}, {\"hovertemplate\": \"<b>%{hovertext}</b><br><br>type=Canadian<br>perimeter P=%{x}<br>length of kernel groove=%{y}<br>asymmetry coefficient=%{marker.size}<extra></extra>\", \"hovertext\": [140.0, 141.0, 142.0, 143.0, 144.0, 145.0, 146.0, 147.0, 148.0, 149.0, 150.0, 151.0, 152.0, 153.0, 154.0, 155.0, 156.0, 157.0, 158.0, 159.0, 160.0, 161.0, 162.0, 163.0, 164.0, 165.0, 166.0, 167.0, 168.0, 169.0, 170.0, 171.0, 172.0, 173.0, 174.0, 175.0, 176.0, 177.0, 178.0, 179.0, 180.0, 181.0, 182.0, 183.0, 184.0, 185.0, 186.0, 187.0, 188.0, 189.0, 190.0, 191.0, 192.0, 193.0, 194.0, 195.0, 196.0, 197.0, 198.0, 199.0, 200.0, 201.0, 202.0, 203.0, 204.0, 205.0, 206.0, 207.0, 208.0, 209.0], \"legendgroup\": \"Canadian\", \"marker\": {\"color\": \"#00cc96\", \"size\": [5.303999999999999, 7.035, 5.995, 5.468999999999999, 4.471, 6.169, 2.221, 4.421, 3.26, 5.462000000000001, 5.195, 6.992000000000001, 4.756, 3.332, 4.048, 5.813, 3.347, 4.825, 4.378, 5.388, 3.082, 4.271, 4.988, 4.419, 6.388, 2.201, 4.9239999999999995, 3.638, 4.337, 3.5210000000000004, 6.735, 6.715, 4.309, 5.587999999999999, 5.182, 4.773, 5.335, 4.702, 5.876, 1.661, 4.957, 4.987, 4.857, 5.209, 6.185, 4.062, 4.898, 4.178999999999999, 7.524, 4.975, 5.398, 3.985, 3.597, 4.853, 4.132, 4.873, 5.483, 4.67, 3.306, 2.8280000000000003, 5.472, 2.3, 4.051, 8.456, 3.9189999999999996, 3.6310000000000002, 4.325, 8.315, 3.5980000000000003, 5.6370000000000005], \"sizemode\": \"area\", \"sizeref\": 0.009395555555555555, \"symbol\": \"circle\"}, \"mode\": \"markers\", \"name\": \"Canadian\", \"showlegend\": true, \"type\": \"scatter\", \"x\": [13.92, 13.94, 13.95, 13.32, 13.4, 13.13, 13.13, 13.46, 13.71, 12.93, 13.23, 13.52, 13.6, 13.04, 13.05, 13.05, 12.87, 13.73, 13.52, 13.22, 13.67, 13.33, 13.41, 13.57, 12.79, 13.15, 13.59, 13.45, 13.12, 13.0, 13.0, 13.1, 12.97, 13.08, 12.96, 12.57, 13.01, 12.73, 13.05, 13.47, 12.95, 13.41, 13.36, 13.07, 13.77, 13.31, 13.45, 12.8, 12.82, 12.41, 12.8, 12.86, 13.02, 12.83, 13.27, 13.47, 13.53, 13.78, 13.67, 13.38, 13.44, 13.32, 12.72, 13.41, 13.47, 13.2, 12.88, 13.66, 13.21, 13.34], \"xaxis\": \"x\", \"y\": [5.395, 5.44, 5.307, 5.221, 5.178, 5.275, 5.132000000000001, 5.002, 5.316, 5.194, 5.307, 5.27, 5.36, 5.001, 5.263, 5.218999999999999, 5.003, 5.22, 5.31, 5.31, 5.4910000000000005, 5.308, 5.046, 5.176, 5.0489999999999995, 5.056, 5.27, 5.337999999999999, 5.132000000000001, 5.088, 5.162999999999999, 4.956, 5.0, 5.0889999999999995, 5.185, 5.063, 5.092, 4.963, 5.002, 5.178, 4.825, 5.147, 5.1579999999999995, 5.135, 5.316, 5.182, 5.352, 4.956, 4.957, 4.794, 5.045, 5.001, 5.132000000000001, 5.0889999999999995, 5.012, 4.914, 4.958, 5.091, 5.231, 4.83, 5.045, 4.745, 4.828, 5.0, 5.001, 4.87, 5.003, 5.056, 5.044, 5.063], \"yaxis\": \"y\"}],\n",
       "                        {\"legend\": {\"itemsizing\": \"constant\", \"title\": {\"text\": \"type\"}, \"tracegroupgap\": 0}, \"margin\": {\"t\": 60}, \"template\": {\"data\": {\"bar\": [{\"error_x\": {\"color\": \"#2a3f5f\"}, \"error_y\": {\"color\": \"#2a3f5f\"}, \"marker\": {\"line\": {\"color\": \"#E5ECF6\", \"width\": 0.5}}, \"type\": \"bar\"}], \"barpolar\": [{\"marker\": {\"line\": {\"color\": \"#E5ECF6\", \"width\": 0.5}}, \"type\": \"barpolar\"}], \"carpet\": [{\"aaxis\": {\"endlinecolor\": \"#2a3f5f\", \"gridcolor\": \"white\", \"linecolor\": \"white\", \"minorgridcolor\": \"white\", \"startlinecolor\": \"#2a3f5f\"}, \"baxis\": {\"endlinecolor\": \"#2a3f5f\", \"gridcolor\": \"white\", \"linecolor\": \"white\", \"minorgridcolor\": \"white\", \"startlinecolor\": \"#2a3f5f\"}, \"type\": \"carpet\"}], \"choropleth\": [{\"colorbar\": {\"outlinewidth\": 0, \"ticks\": \"\"}, \"type\": \"choropleth\"}], \"contour\": [{\"colorbar\": {\"outlinewidth\": 0, \"ticks\": \"\"}, \"colorscale\": [[0.0, \"#0d0887\"], [0.1111111111111111, \"#46039f\"], [0.2222222222222222, \"#7201a8\"], [0.3333333333333333, \"#9c179e\"], [0.4444444444444444, \"#bd3786\"], [0.5555555555555556, \"#d8576b\"], [0.6666666666666666, \"#ed7953\"], [0.7777777777777778, \"#fb9f3a\"], [0.8888888888888888, \"#fdca26\"], [1.0, \"#f0f921\"]], \"type\": \"contour\"}], \"contourcarpet\": [{\"colorbar\": {\"outlinewidth\": 0, \"ticks\": \"\"}, \"type\": \"contourcarpet\"}], \"heatmap\": [{\"colorbar\": {\"outlinewidth\": 0, \"ticks\": \"\"}, \"colorscale\": [[0.0, \"#0d0887\"], [0.1111111111111111, \"#46039f\"], [0.2222222222222222, \"#7201a8\"], [0.3333333333333333, \"#9c179e\"], [0.4444444444444444, \"#bd3786\"], [0.5555555555555556, \"#d8576b\"], [0.6666666666666666, \"#ed7953\"], [0.7777777777777778, \"#fb9f3a\"], [0.8888888888888888, \"#fdca26\"], [1.0, \"#f0f921\"]], \"type\": \"heatmap\"}], \"heatmapgl\": [{\"colorbar\": {\"outlinewidth\": 0, \"ticks\": \"\"}, \"colorscale\": [[0.0, \"#0d0887\"], [0.1111111111111111, \"#46039f\"], [0.2222222222222222, \"#7201a8\"], [0.3333333333333333, \"#9c179e\"], [0.4444444444444444, \"#bd3786\"], [0.5555555555555556, \"#d8576b\"], [0.6666666666666666, \"#ed7953\"], [0.7777777777777778, \"#fb9f3a\"], [0.8888888888888888, \"#fdca26\"], [1.0, \"#f0f921\"]], \"type\": \"heatmapgl\"}], \"histogram\": [{\"marker\": {\"colorbar\": {\"outlinewidth\": 0, \"ticks\": \"\"}}, \"type\": \"histogram\"}], \"histogram2d\": [{\"colorbar\": {\"outlinewidth\": 0, \"ticks\": \"\"}, \"colorscale\": [[0.0, \"#0d0887\"], [0.1111111111111111, \"#46039f\"], [0.2222222222222222, \"#7201a8\"], [0.3333333333333333, \"#9c179e\"], [0.4444444444444444, \"#bd3786\"], [0.5555555555555556, \"#d8576b\"], [0.6666666666666666, \"#ed7953\"], [0.7777777777777778, \"#fb9f3a\"], [0.8888888888888888, \"#fdca26\"], [1.0, \"#f0f921\"]], \"type\": \"histogram2d\"}], \"histogram2dcontour\": [{\"colorbar\": {\"outlinewidth\": 0, \"ticks\": \"\"}, \"colorscale\": [[0.0, \"#0d0887\"], [0.1111111111111111, \"#46039f\"], [0.2222222222222222, \"#7201a8\"], [0.3333333333333333, \"#9c179e\"], [0.4444444444444444, \"#bd3786\"], [0.5555555555555556, \"#d8576b\"], [0.6666666666666666, \"#ed7953\"], [0.7777777777777778, \"#fb9f3a\"], [0.8888888888888888, \"#fdca26\"], [1.0, \"#f0f921\"]], \"type\": \"histogram2dcontour\"}], \"mesh3d\": [{\"colorbar\": {\"outlinewidth\": 0, \"ticks\": \"\"}, \"type\": \"mesh3d\"}], \"parcoords\": [{\"line\": {\"colorbar\": {\"outlinewidth\": 0, \"ticks\": \"\"}}, \"type\": \"parcoords\"}], \"pie\": [{\"automargin\": true, \"type\": \"pie\"}], \"scatter\": [{\"marker\": {\"colorbar\": {\"outlinewidth\": 0, \"ticks\": \"\"}}, \"type\": \"scatter\"}], \"scatter3d\": [{\"line\": {\"colorbar\": {\"outlinewidth\": 0, \"ticks\": \"\"}}, \"marker\": {\"colorbar\": {\"outlinewidth\": 0, \"ticks\": \"\"}}, \"type\": \"scatter3d\"}], \"scattercarpet\": [{\"marker\": {\"colorbar\": {\"outlinewidth\": 0, \"ticks\": \"\"}}, \"type\": \"scattercarpet\"}], \"scattergeo\": [{\"marker\": {\"colorbar\": {\"outlinewidth\": 0, \"ticks\": \"\"}}, \"type\": \"scattergeo\"}], \"scattergl\": [{\"marker\": {\"colorbar\": {\"outlinewidth\": 0, \"ticks\": \"\"}}, \"type\": \"scattergl\"}], \"scattermapbox\": [{\"marker\": {\"colorbar\": {\"outlinewidth\": 0, \"ticks\": \"\"}}, \"type\": \"scattermapbox\"}], \"scatterpolar\": [{\"marker\": {\"colorbar\": {\"outlinewidth\": 0, \"ticks\": \"\"}}, \"type\": \"scatterpolar\"}], \"scatterpolargl\": [{\"marker\": {\"colorbar\": {\"outlinewidth\": 0, \"ticks\": \"\"}}, \"type\": \"scatterpolargl\"}], \"scatterternary\": [{\"marker\": {\"colorbar\": {\"outlinewidth\": 0, \"ticks\": \"\"}}, \"type\": \"scatterternary\"}], \"surface\": [{\"colorbar\": {\"outlinewidth\": 0, \"ticks\": \"\"}, \"colorscale\": [[0.0, \"#0d0887\"], [0.1111111111111111, \"#46039f\"], [0.2222222222222222, \"#7201a8\"], [0.3333333333333333, \"#9c179e\"], [0.4444444444444444, \"#bd3786\"], [0.5555555555555556, \"#d8576b\"], [0.6666666666666666, \"#ed7953\"], [0.7777777777777778, \"#fb9f3a\"], [0.8888888888888888, \"#fdca26\"], [1.0, \"#f0f921\"]], \"type\": \"surface\"}], \"table\": [{\"cells\": {\"fill\": {\"color\": \"#EBF0F8\"}, \"line\": {\"color\": \"white\"}}, \"header\": {\"fill\": {\"color\": \"#C8D4E3\"}, \"line\": {\"color\": \"white\"}}, \"type\": \"table\"}]}, \"layout\": {\"annotationdefaults\": {\"arrowcolor\": \"#2a3f5f\", \"arrowhead\": 0, \"arrowwidth\": 1}, \"coloraxis\": {\"colorbar\": {\"outlinewidth\": 0, \"ticks\": \"\"}}, \"colorscale\": {\"diverging\": [[0, \"#8e0152\"], [0.1, \"#c51b7d\"], [0.2, \"#de77ae\"], [0.3, \"#f1b6da\"], [0.4, \"#fde0ef\"], [0.5, \"#f7f7f7\"], [0.6, \"#e6f5d0\"], [0.7, \"#b8e186\"], [0.8, \"#7fbc41\"], [0.9, \"#4d9221\"], [1, \"#276419\"]], \"sequential\": [[0.0, \"#0d0887\"], [0.1111111111111111, \"#46039f\"], [0.2222222222222222, \"#7201a8\"], [0.3333333333333333, \"#9c179e\"], [0.4444444444444444, \"#bd3786\"], [0.5555555555555556, \"#d8576b\"], [0.6666666666666666, \"#ed7953\"], [0.7777777777777778, \"#fb9f3a\"], [0.8888888888888888, \"#fdca26\"], [1.0, \"#f0f921\"]], \"sequentialminus\": [[0.0, \"#0d0887\"], [0.1111111111111111, \"#46039f\"], [0.2222222222222222, \"#7201a8\"], [0.3333333333333333, \"#9c179e\"], [0.4444444444444444, \"#bd3786\"], [0.5555555555555556, \"#d8576b\"], [0.6666666666666666, \"#ed7953\"], [0.7777777777777778, \"#fb9f3a\"], [0.8888888888888888, \"#fdca26\"], [1.0, \"#f0f921\"]]}, \"colorway\": [\"#636efa\", \"#EF553B\", \"#00cc96\", \"#ab63fa\", \"#FFA15A\", \"#19d3f3\", \"#FF6692\", \"#B6E880\", \"#FF97FF\", \"#FECB52\"], \"font\": {\"color\": \"#2a3f5f\"}, \"geo\": {\"bgcolor\": \"white\", \"lakecolor\": \"white\", \"landcolor\": \"#E5ECF6\", \"showlakes\": true, \"showland\": true, \"subunitcolor\": \"white\"}, \"hoverlabel\": {\"align\": \"left\"}, \"hovermode\": \"closest\", \"mapbox\": {\"style\": \"light\"}, \"paper_bgcolor\": \"white\", \"plot_bgcolor\": \"#E5ECF6\", \"polar\": {\"angularaxis\": {\"gridcolor\": \"white\", \"linecolor\": \"white\", \"ticks\": \"\"}, \"bgcolor\": \"#E5ECF6\", \"radialaxis\": {\"gridcolor\": \"white\", \"linecolor\": \"white\", \"ticks\": \"\"}}, \"scene\": {\"xaxis\": {\"backgroundcolor\": \"#E5ECF6\", \"gridcolor\": \"white\", \"gridwidth\": 2, \"linecolor\": \"white\", \"showbackground\": true, \"ticks\": \"\", \"zerolinecolor\": \"white\"}, \"yaxis\": {\"backgroundcolor\": \"#E5ECF6\", \"gridcolor\": \"white\", \"gridwidth\": 2, \"linecolor\": \"white\", \"showbackground\": true, \"ticks\": \"\", \"zerolinecolor\": \"white\"}, \"zaxis\": {\"backgroundcolor\": \"#E5ECF6\", \"gridcolor\": \"white\", \"gridwidth\": 2, \"linecolor\": \"white\", \"showbackground\": true, \"ticks\": \"\", \"zerolinecolor\": \"white\"}}, \"shapedefaults\": {\"line\": {\"color\": \"#2a3f5f\"}}, \"ternary\": {\"aaxis\": {\"gridcolor\": \"white\", \"linecolor\": \"white\", \"ticks\": \"\"}, \"baxis\": {\"gridcolor\": \"white\", \"linecolor\": \"white\", \"ticks\": \"\"}, \"bgcolor\": \"#E5ECF6\", \"caxis\": {\"gridcolor\": \"white\", \"linecolor\": \"white\", \"ticks\": \"\"}}, \"title\": {\"x\": 0.05}, \"xaxis\": {\"automargin\": true, \"gridcolor\": \"white\", \"linecolor\": \"white\", \"ticks\": \"\", \"title\": {\"standoff\": 15}, \"zerolinecolor\": \"white\", \"zerolinewidth\": 2}, \"yaxis\": {\"automargin\": true, \"gridcolor\": \"white\", \"linecolor\": \"white\", \"ticks\": \"\", \"title\": {\"standoff\": 15}, \"zerolinecolor\": \"white\", \"zerolinewidth\": 2}}}, \"xaxis\": {\"anchor\": \"y\", \"domain\": [0.0, 1.0], \"title\": {\"text\": \"perimeter P\"}}, \"yaxis\": {\"anchor\": \"x\", \"domain\": [0.0, 1.0], \"title\": {\"text\": \"length of kernel groove\"}}},\n",
       "                        {\"responsive\": true}\n",
       "                    ).then(function(){\n",
       "                            \n",
       "var gd = document.getElementById('f2f328bf-8540-48ac-a548-504c1e23bb92');\n",
       "var x = new MutationObserver(function (mutations, observer) {{\n",
       "        var display = window.getComputedStyle(gd).display;\n",
       "        if (!display || display === 'none') {{\n",
       "            console.log([gd, 'removed!']);\n",
       "            Plotly.purge(gd);\n",
       "            observer.disconnect();\n",
       "        }}\n",
       "}});\n",
       "\n",
       "// Listen for the removal of the full notebook cells\n",
       "var notebookContainer = gd.closest('#notebook-container');\n",
       "if (notebookContainer) {{\n",
       "    x.observe(notebookContainer, {childList: true});\n",
       "}}\n",
       "\n",
       "// Listen for the clearing of the current output cell\n",
       "var outputEl = gd.closest('.output');\n",
       "if (outputEl) {{\n",
       "    x.observe(outputEl, {childList: true});\n",
       "}}\n",
       "\n",
       "                        })\n",
       "                };\n",
       "                });\n",
       "            </script>\n",
       "        </div>"
      ]
     },
     "metadata": {},
     "output_type": "display_data"
    }
   ],
   "source": [
    "# a. wählen Sie anhand des Scatter Matrix Plots 2 Variablen aus, die die 3 Sorten am besten trennen\n",
    "# b. tragen Sie diese Variable als 'x' und 'y' im untenstehenden bubble chart ein.\n",
    "# c. Wählen Sie für die Punktgröße ('size') eine beliebige dritte Variable\n",
    "\n",
    "px.scatter(data,\n",
    "           x=\"perimeter P\",\n",
    "           y=\"length of kernel groove\",\n",
    "           size=\"asymmetry coefficient\",\n",
    "           color=\"type\",\n",
    "           hover_name=data.index,\n",
    "           size_max=30)"
   ]
  }
 ],
 "metadata": {
  "kernelspec": {
   "display_name": "Python 3",
   "language": "python",
   "name": "python3"
  },
  "language_info": {
   "codemirror_mode": {
    "name": "ipython",
    "version": 3
   },
   "file_extension": ".py",
   "mimetype": "text/x-python",
   "name": "python",
   "nbconvert_exporter": "python",
   "pygments_lexer": "ipython3",
   "version": "3.7.7"
  }
 },
 "nbformat": 4,
 "nbformat_minor": 4
}
