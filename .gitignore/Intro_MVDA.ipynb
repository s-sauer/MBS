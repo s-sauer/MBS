{
 "cells": [
  {
   "cell_type": "markdown",
   "metadata": {
    "slideshow": {
     "slide_type": "slide"
    }
   },
   "source": [
    "# Einführung Multi-Variate Datenanalyse (MVDA)\n",
    "\n",
    "## Teil 1: Visualisierung hoch-dimensionaler Datensätze mit Python\n",
    "für Kurse Mathematische Berechnungssoftware (MBS)\n",
    "\n",
    "_Simeon Sauer, SS2020_\n",
    "\n",
    "inspired by https://python-for-multivariate-analysis.readthedocs.io/index.html"
   ]
  },
  {
   "cell_type": "markdown",
   "metadata": {
    "slideshow": {
     "slide_type": "slide"
    }
   },
   "source": [
    "## Go where the data is"
   ]
  },
  {
   "cell_type": "markdown",
   "metadata": {},
   "source": [
    "* Datenmengen explodieren in alle Bereichen unseres Lebens\n",
    "* Neue Erkenntnisse / Anwendungen / Produkte liegen da, wo (viele) Daten vorhanden sind\n",
    "* Wenn ich für meine Fragestellung viele Daten habe, was kann ich damit anfangen?\n",
    "* Immer die erste (und oft die beste) Analyse: Gute Visualierung!\n",
    "\n",
    "**Dieses Notebook**: Welchen Arten gibt es, die Daten zu visualisieren?"
   ]
  },
  {
   "cell_type": "markdown",
   "metadata": {
    "slideshow": {
     "slide_type": "slide"
    }
   },
   "source": [
    "## Python essentials"
   ]
  },
  {
   "cell_type": "markdown",
   "metadata": {
    "slideshow": {
     "slide_type": "subslide"
    }
   },
   "source": [
    "#### Hello World"
   ]
  },
  {
   "cell_type": "code",
   "execution_count": null,
   "metadata": {},
   "outputs": [],
   "source": [
    "# Das ist ein Kommentar\n",
    "print(\"Hallo Welt\")  # Funktion 'print' gibt Text aus. Funktionsargument(e) in runden Klammern, Text in Hochkomma.\n",
    "\n",
    "meine_erste_Variable = \"Ich bin ein Text (a.k.a String)\"\n",
    "print(meine_erste_Variable)\n",
    "\n",
    "meine_zweite_Variable = 4\n",
    "print(meine_zweite_Variable, \"plus 2 ist gleich\", meine_zweite_Variable + 2)"
   ]
  },
  {
   "cell_type": "markdown",
   "metadata": {},
   "source": [
    "#### Bibliotheken laden"
   ]
  },
  {
   "cell_type": "code",
   "execution_count": null,
   "metadata": {
    "slideshow": {
     "slide_type": "subslide"
    }
   },
   "outputs": [],
   "source": [
    "import pandas as pd  # 'import' lädt eine Bibliothek mit weiteren Funktionen. 'as' legt eine Abkürzung fest\n",
    "\n",
    "help(pd)\n",
    "\n",
    "import plotly.express as px"
   ]
  },
  {
   "cell_type": "markdown",
   "metadata": {
    "slideshow": {
     "slide_type": "slide"
    }
   },
   "source": [
    "## Multivariate Datensätze\n",
    "multivariat = viele gemessenen Variablen = \"hochdimensional\""
   ]
  },
  {
   "cell_type": "markdown",
   "metadata": {},
   "source": [
    "#### Daten importieren"
   ]
  },
  {
   "cell_type": "code",
   "execution_count": null,
   "metadata": {
    "scrolled": true
   },
   "outputs": [],
   "source": [
    "data = pd.read_csv(\"http://archive.ics.uci.edu/ml/machine-learning-databases/wine/wine.data\", header=None)\n",
    "\n",
    "data"
   ]
  },
  {
   "cell_type": "markdown",
   "metadata": {
    "slideshow": {
     "slide_type": "subslide"
    }
   },
   "source": [
    "Was bedeuten die Spalten und Zeilen?\n",
    "--> http://archive.ics.uci.edu/ml/datasets/Wine\n",
    "- Zeilen: Unterschiedliche Proben von Weinen aus einer bestimmten Region in Italien\n",
    "- Spalten: 0 - Rebensorte; 1-13: verschiedene Messwerte"
   ]
  },
  {
   "cell_type": "code",
   "execution_count": null,
   "metadata": {
    "scrolled": true,
    "slideshow": {
     "slide_type": "subslide"
    }
   },
   "outputs": [],
   "source": [
    "# Spaltenname einführen:\n",
    "data.columns = [\n",
    "    \"Cultivar\",  # Weinsorte\n",
    "    \"Alcohol\",\n",
    "    \"Malic acid\",\n",
    "    \"Ash\",\n",
    "    \"Alcalinity of ash\",\n",
    "    \"Magnesium\",\n",
    "    \"Total phenols\",\n",
    "    \"Flavanoids\",\n",
    "    \"Nonflavanoid phenols\",\n",
    "    \"Proanthocyanins\",\n",
    "    \"Color intensity\",\n",
    "    \"Hue\", # Farbton\n",
    "    \"OD280/OD315 of diluted wines\", # Verhältnis Optische Dichten bei 280nm / 315 nm Wellenlänge \n",
    "    \"Proline\"]\n",
    "\n",
    "# Index-Spalte wird separat behandelt in pandas-Bibliothek\n",
    "data.index.name='sample no.'\n",
    "\n",
    "# Jetzt nennen wir noch die Weinsorten ('Cultivar') um\n",
    "Weinsorten = ['Montepulciano', 'Trebbiano d\\'Abruzzo', 'Nero d\\'Avola']\n",
    "data['Cultivar'] = data['Cultivar'].replace([1,2,3], Weinsorten)\n",
    "\n",
    "# Wie sieht die Datentabelle jetzt aus?\n",
    "data"
   ]
  },
  {
   "cell_type": "markdown",
   "metadata": {
    "slideshow": {
     "slide_type": "subslide"
    }
   },
   "source": [
    "#### slicing"
   ]
  },
  {
   "cell_type": "code",
   "execution_count": null,
   "metadata": {},
   "outputs": [],
   "source": [
    "# wählen alle Zeilen aus, in denen Weinsorte=Montepulciano und Magenium>100\n",
    "slice = (data['Cultivar']=='Montepulciano') & (data['Magnesium'] > 100)\n",
    "print(slice)\n",
    "data[slice]"
   ]
  },
  {
   "cell_type": "markdown",
   "metadata": {
    "slideshow": {
     "slide_type": "subslide"
    }
   },
   "source": [
    "#### etwas deskriptive Statistik"
   ]
  },
  {
   "cell_type": "code",
   "execution_count": null,
   "metadata": {},
   "outputs": [],
   "source": [
    "data.describe().round(2)"
   ]
  },
  {
   "cell_type": "code",
   "execution_count": null,
   "metadata": {
    "slideshow": {
     "slide_type": "subslide"
    }
   },
   "outputs": [],
   "source": [
    "data.groupby('Cultivar').mean()"
   ]
  },
  {
   "cell_type": "markdown",
   "metadata": {
    "slideshow": {
     "slide_type": "slide"
    }
   },
   "source": [
    "## Explorative Datenanalyse (EDA)"
   ]
  },
  {
   "cell_type": "code",
   "execution_count": null,
   "metadata": {
    "slideshow": {
     "slide_type": "fragment"
    }
   },
   "outputs": [],
   "source": [
    "var_list = list(data.columns[1:8]) # Liste mit Variablen für weitere Plots\n",
    "for var in var_list:\n",
    "    fig = px.histogram(data,\n",
    "                       x=var,\n",
    "                       color=\"Cultivar\", # einzelne Histogramme für jede Weinsorte\n",
    "                       nbins=20, # Anzahl Balken ('bins')\n",
    "                       barmode='group', # gruppiere die Balken für die 3 Weinsorten, nicht überlagern\n",
    "                       marginal='box', # Boxplot über das Histogram\n",
    "                       histnorm='percent') # normieren Histogramm auf 100%, nicht auf die Anzahl der Beobachtung\n",
    "    fig.show() # zeige plot an (nötig wegen 'for' Schleife)"
   ]
  },
  {
   "cell_type": "markdown",
   "metadata": {
    "slideshow": {
     "slide_type": "subslide"
    }
   },
   "source": [
    "#### scatter matrix plot"
   ]
  },
  {
   "cell_type": "code",
   "execution_count": null,
   "metadata": {
    "scrolled": true
   },
   "outputs": [],
   "source": [
    "#h = pd.plotting.scatter_matrix(data, figsize=(15,15), hist_kwds={'bins':20})\n",
    "px.scatter_matrix(data,\n",
    "                  color='Cultivar',\n",
    "                  dimensions=var_list,\n",
    "                  opacity=0.8, # macht Datenpunkte zu 20% durchsichtig\n",
    "                  height=1000, # Höhe des Gesamtplots in Pixeln\n",
    "                  hover_name=data.index) # Überschrift der eingeblendeten Mouse-Over-Information: Zeilennr."
   ]
  },
  {
   "cell_type": "markdown",
   "metadata": {
    "slideshow": {
     "slide_type": "subslide"
    }
   },
   "source": [
    "#### 3D scatter plots"
   ]
  },
  {
   "cell_type": "code",
   "execution_count": null,
   "metadata": {},
   "outputs": [],
   "source": [
    "px.scatter_3d(data, x='Alcohol', y='Flavanoids', z='Malic acid', color='Cultivar', opacity=0.5, hover_name=data.index)\n",
    "# px.scatter_3d(data, x='Flavanoids', y='Malic acid', z='Ash', color='Alcohol', symbol='Cultivar', hover_name=data.index)\n",
    "# px.scatter_3d(data, x='Flavanoids', y='Malic acid', z='Ash', color='Alcohol', symbol='Cultivar', size='Total phenols', hover_name=data.index)"
   ]
  },
  {
   "cell_type": "code",
   "execution_count": null,
   "metadata": {
    "slideshow": {
     "slide_type": "subslide"
    }
   },
   "outputs": [],
   "source": [
    "px.scatter(data, x=\"Alcohol\", y=\"Flavanoids\",\n",
    "    size=\"Malic acid\", color=\"Cultivar\",\n",
    "    hover_name=data.index, size_max=30)"
   ]
  },
  {
   "cell_type": "markdown",
   "metadata": {
    "slideshow": {
     "slide_type": "subslide"
    }
   },
   "source": [
    "#### parallel coordinates"
   ]
  },
  {
   "cell_type": "code",
   "execution_count": null,
   "metadata": {},
   "outputs": [],
   "source": [
    "px.parallel_coordinates(data, dimensions=var_list)"
   ]
  },
  {
   "cell_type": "markdown",
   "metadata": {
    "slideshow": {
     "slide_type": "subslide"
    }
   },
   "source": [
    "#### spider diagram / radar chart"
   ]
  },
  {
   "cell_type": "code",
   "execution_count": null,
   "metadata": {},
   "outputs": [],
   "source": [
    "fig = go.Figure()\n",
    "colors = iter(px.colors.qualitative.Plotly)\n",
    "\n",
    "for grape, subset in data.groupby('Cultivar'):\n",
    "    subset_normiert = (subset[var_list] - data[var_list].mean())/data[var_list].std()\n",
    "    newfig = px.line_polar(r=subset_normiert[var_list].mean(),\n",
    "                           theta=var_list,\n",
    "                           line_close=True,\n",
    "                           hover_name=pd.Series([grape]).repeat(len(var_list)))\n",
    "    trace = newfig.data[0]\n",
    "    trace.name=grape\n",
    "    trace.line ={'color': next(colors)}\n",
    "    fig.add_trace(newfig.data[0])\n",
    "    fig.update_layout(showlegend=True)\n",
    "fig.show()"
   ]
  },
  {
   "cell_type": "markdown",
   "metadata": {
    "slideshow": {
     "slide_type": "slide"
    }
   },
   "source": [
    "## Fazit\n",
    "* anhand einzelner Variablen (univariat) lassen sich Weinsorten nicht eindeutig unterscheiden.\n",
    "* Wenn man Alcohol und Flavanoide zusammen betrachtet, lassen sie sich relativ gut unterscheiden.\n",
    "* Visualierung nimmt mit Anzahl Variablen (Dimensionen) zu: Sind wir sicher, das wir nichts übersehen haben? Vielleicht gibt es noch bessere Klassifizierungsmethode?"
   ]
  }
 ],
 "metadata": {
  "kernelspec": {
   "display_name": "Python 3",
   "language": "python",
   "name": "python3"
  },
  "language_info": {
   "codemirror_mode": {
    "name": "ipython",
    "version": 3
   },
   "file_extension": ".py",
   "mimetype": "text/x-python",
   "name": "python",
   "nbconvert_exporter": "python",
   "pygments_lexer": "ipython3",
   "version": "3.7.7"
  }
 },
 "nbformat": 4,
 "nbformat_minor": 4
}
