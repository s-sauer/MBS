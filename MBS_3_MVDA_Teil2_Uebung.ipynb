{
 "cells": [
  {
   "cell_type": "markdown",
   "metadata": {
    "slideshow": {
     "slide_type": "slide"
    }
   },
   "source": [
    "# Einführung Multi-Variate Datenanalyse (MVDA)\n",
    "\n",
    "## Übung 2: Hauptkomponentenanalyse (*prinicple component analysis*, PCA)\n",
    "für Kurse Mathematische Berechnungssoftware (MBS)\n",
    "\n",
    "_Simeon Sauer, SS2020_"
   ]
  },
  {
   "cell_type": "markdown",
   "metadata": {},
   "source": [
    "### I. Bibliotheken laden"
   ]
  },
  {
   "cell_type": "code",
   "execution_count": null,
   "metadata": {
    "slideshow": {
     "slide_type": "subslide"
    }
   },
   "outputs": [],
   "source": [
    "import pandas as pd  # 'import' lädt eine Bibliothek mit weiteren Funktionen. 'as' legt eine Abkürzung fest\n",
    "import plotly.express as px\n",
    "import numpy as np  # 'numpy' enthält viele numerische Methoden für python, z.B. Singulärwertzerlegung von Matrizen"
   ]
  },
  {
   "cell_type": "markdown",
   "metadata": {},
   "source": [
    "### II. PCA für realen Datensatz mit 7 Variablen (Weizen)"
   ]
  },
  {
   "cell_type": "markdown",
   "metadata": {
    "slideshow": {
     "slide_type": "subslide"
    }
   },
   "source": [
    "#### Daten importieren\n",
    "\n",
    "Wir importieren wie letzte Woche einen Datensatz, in dem Weizenkörner für verschiedende Sorten gemeoterisch vermessen wurden.\n",
    "Mehr Dateils hier: http://archive.ics.uci.edu/ml/datasets/seeds\n",
    "\n",
    "- Zeilen: Unterschiedliche Proben von Saatkörner\n",
    "- Spalten: 7 - Weizensorte; 0-6: verschiedene Messwerte"
   ]
  },
  {
   "cell_type": "code",
   "execution_count": null,
   "metadata": {
    "scrolled": true,
    "slideshow": {
     "slide_type": "subslide"
    }
   },
   "outputs": [],
   "source": [
    "data = pd.read_csv(\"http://archive.ics.uci.edu/ml/machine-learning-databases/00236/seeds_dataset.txt\", sep='\\t+', header=None)\n",
    "\n",
    "# Spaltenname einführen:\n",
    "data.columns = [\n",
    "    \"area A\",\n",
    "    \"perimeter P\",\n",
    "    \"compactness C\",\n",
    "    \"length of kernel\",\n",
    "    \"width of kernel\",\n",
    "    \"asymmetry coefficient\",\n",
    "    \"length of kernel groove\",\n",
    "    \"type\"]\n",
    "\n",
    "# Index-Spalte wird separat behandelt in pandas-Bibliothek\n",
    "data.index.name='sample no.'\n",
    "\n",
    "# Jetzt nennen wir noch die Weizensorte um\n",
    "Weizensorten = ['Kama', 'Rosa', 'Canadian']\n",
    "data['type'] = data['type'].replace([1,2,3], Weizensorten)\n",
    "\n",
    "# Wie sieht die Datentabelle jetzt aus?\n",
    "display(data)"
   ]
  },
  {
   "cell_type": "markdown",
   "metadata": {
    "slideshow": {
     "slide_type": "subslide"
    }
   },
   "source": [
    "### PCA\n",
    "1. Aufgabe: Wäheln Sie nur die metrisch skalierten Variablen aus, also Weizensort (Variable `type`) rauswerfen"
   ]
  },
  {
   "cell_type": "code",
   "execution_count": null,
   "metadata": {},
   "outputs": [],
   "source": [
    "data_numeric = data.drop( ??? ,'columns')\n",
    "display(data_numeric)"
   ]
  },
  {
   "cell_type": "markdown",
   "metadata": {
    "slideshow": {
     "slide_type": "subslide"
    }
   },
   "source": [
    "2. Aufgabe: Zentrieren Sie den Datensatz, aber skalieren Sie ihn nicht - wie im Video - mit der Standardabweichung"
   ]
  },
  {
   "cell_type": "code",
   "execution_count": null,
   "metadata": {},
   "outputs": [],
   "source": [
    "# zentrieren und skalieren\n",
    "#data_numeric = (data_numeric - data_numeric.mean()) /data_numeric.std()\n",
    "\n",
    "# nur zentrieren, nicht skalieren\n",
    "data_numeric = ???"
   ]
  },
  {
   "cell_type": "markdown",
   "metadata": {
    "slideshow": {
     "slide_type": "subslide"
    }
   },
   "source": [
    "3. führen Sie die PCA durch, indem Sie die nächsten Zellen unverändert ausführen"
   ]
  },
  {
   "cell_type": "code",
   "execution_count": null,
   "metadata": {},
   "outputs": [],
   "source": [
    "# Singulärwertzerlegung\n",
    "u,s,v = np.linalg.svd(data_numeric, full_matrices=False)\n",
    "\n",
    "# Scores- und Loadings-Matrix berechnen\n",
    "scores = pd.DataFrame(u*s, index=data_numeric.index)\n",
    "loadings = pd.DataFrame(pd.DataFrame(v.T, index=data_numeric.columns))\n",
    "print('(Zeilen, Spalten) der Datenmatrix:', data_numeric.shape)\n",
    "print('(Zeilen, Spalten) der Scores Matrix:', scores.shape)\n",
    "print('(Zeilen, Spalten) der Loading Matrix:', loadings.shape)\n",
    "\n",
    "# Spalten benennen ('PC1' ... 'PC13' statt 0 ... 12)\n",
    "scores.columns = 'PC' + (scores.columns+1).astype(str)\n",
    "loadings.columns = 'PC' + (loadings.columns+1).astype(str)\n",
    "\n",
    "# Matrizen ausgeben\n",
    "display(scores)\n",
    "display(loadings)\n",
    "\n",
    "# Wie informativ sind die Principle Components, d.h. wieviel Gesamtvarianz enthalten Sie?\n",
    "print(\"Erklärter Anteile an Gesamtvarianz:\", s**2/(s**2).sum())"
   ]
  },
  {
   "cell_type": "code",
   "execution_count": null,
   "metadata": {},
   "outputs": [],
   "source": [
    "# Scores plot\n",
    "\n",
    "px.scatter(scores, x='PC1', y='PC2', color=data['type'], title='Scores').show()  # 2D"
   ]
  },
  {
   "cell_type": "code",
   "execution_count": null,
   "metadata": {},
   "outputs": [],
   "source": [
    "# Loadings plots\n",
    "\n",
    "px.scatter(loadings, x='PC1', y='PC2', color=loadings.index, title='Loadings').show()  # 2D"
   ]
  },
  {
   "cell_type": "markdown",
   "metadata": {},
   "source": [
    "### Fragen zum Verständnis:\n",
    "* Welchen Anteil an der Gesamtvarianz erklärt die 1. Hauptkomponente, welche die ersten beiden zusammen?\n",
    "\n",
    "* Widerholen Sie die Analyse mit zentrierten *und* zentrierten Daten. Wie unterscheided sich der Scores bzw. Loadingsplot?\n",
    "\n",
    "* Welche beiden \"Typen\" von Variablen gibt es? Haben Sie eine Erklärung dafür?"
   ]
  }
 ],
 "metadata": {
  "kernelspec": {
   "display_name": "Python 3",
   "language": "python",
   "name": "python3"
  },
  "language_info": {
   "codemirror_mode": {
    "name": "ipython",
    "version": 3
   },
   "file_extension": ".py",
   "mimetype": "text/x-python",
   "name": "python",
   "nbconvert_exporter": "python",
   "pygments_lexer": "ipython3",
   "version": "3.7.7"
  }
 },
 "nbformat": 4,
 "nbformat_minor": 4
}
